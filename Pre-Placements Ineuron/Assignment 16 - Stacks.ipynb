{
 "cells": [
  {
   "attachments": {},
   "cell_type": "markdown",
   "metadata": {},
   "source": [
    "**Question 1**\n",
    "\n",
    "Given an array, for each element find the value of the nearest element to the right which is having a frequency greater than that of the current element. If there does not exist an answer for a position, then make the value ‘-1’.\n",
    "\n",
    "**Examples:**\n",
    "\n",
    "Input: a[] = [1, 1, 2, 3, 4, 2, 1]\n",
    "\n",
    "Output : [-1, -1, 1, 2, 2, 1, -1]\n",
    "\n",
    "Explanation:\n",
    "\n",
    "Given array a[] = [1, 1, 2, 3, 4, 2, 1]\n",
    "\n",
    "Frequency of each element is: 3, 3, 2, 1, 1, 2, 3\n",
    "\n",
    "Lets calls Next Greater Frequency element as NGF\n",
    "\n",
    "1. For element a[0] = 1 which has a frequency = 3,\n",
    "   As it has frequency of 3 and no other next element\n",
    "   has frequency more than 3 so  '-1'\n",
    "\n",
    "2. For element a[1] = 1 it will be -1 same logic\n",
    "   like a[0]\n",
    "\n",
    "3. For element a[2] = 2 which has frequency = 2,\n",
    "   NGF element is 1 at position = 6  with frequency\n",
    "   of 3 > 2\n",
    "\n",
    "4. For element a[3] = 3 which has frequency = 1,\n",
    "   NGF element is 2 at position = 5 with frequency\n",
    "   of 2 > 1\n",
    "\n",
    "5. For element a[4] = 4 which has frequency = 1,\n",
    "   NGF element is 2 at position = 5 with frequency\n",
    "   of 2 > 1\n",
    "\n",
    "6. For element a[5] = 2 which has frequency = 2,\n",
    "   NGF element is 1 at position = 6 with frequency\n",
    "   of 3 > 2\n",
    "   \n",
    "7. For element a[6] = 1 there is no element to its\n",
    "   right, hence -1\n"
   ]
  },
  {
   "attachments": {},
   "cell_type": "markdown",
   "metadata": {},
   "source": [
    "`Approach`:\n",
    "\n",
    " - Initialize an empty dictionary to store the frequencies of the elements.\n",
    " - Initialize an empty stack to store the indices of the elements.\n",
    " - Initialize an empty result array to store the nearest elements.\n",
    " - Iterate through the array from right to left:\n",
    "    - Increment the frequency of the current element in the dictionary.\n",
    "    - Push the current index onto the stack.\n",
    " - Reset the stack.\n",
    " - Iterate through the array from right to left:\n",
    "    - While the stack is not empty and the frequency of the current element is greater than or equal to the frequency of the element at the top of the stack:\n",
    "        - Pop the index from the stack.\n",
    "    - If the stack is empty, set the result for the current index as '-1'.\n",
    "    - Otherwise, set the result for the current index as the element at the top of the stack.\n",
    "    - Push the current index onto the stack.\n",
    " - Return the result array.\n",
    "\n",
    "**Time Complexity --> O(n)**    \n",
    "**Space Complexity --> O(n)**"
   ]
  },
  {
   "cell_type": "code",
   "execution_count": 3,
   "metadata": {},
   "outputs": [
    {
     "name": "stdout",
     "output_type": "stream",
     "text": [
      "[-1, -1, 1, 2, 2, 1, -1]\n"
     ]
    }
   ],
   "source": [
    "def find_nearest_greater_frequency(arr):\n",
    "    freq = {}\n",
    "    stack = []\n",
    "    result = [-1] * len(arr)\n",
    "\n",
    "    for i in range(len(arr)-1, -1, -1):\n",
    "        freq[arr[i]] = freq.get(arr[i], 0) + 1\n",
    "        stack.append(i)\n",
    "\n",
    "    stack.clear()\n",
    "\n",
    "    for i in range(len(arr)-1, -1, -1):\n",
    "        while stack and freq[arr[i]] >= freq[arr[stack[-1]]]:\n",
    "            stack.pop()\n",
    "\n",
    "        if stack:\n",
    "            result[i] = arr[stack[-1]]\n",
    "\n",
    "        stack.append(i)\n",
    "\n",
    "    return result\n",
    "\n",
    "\n",
    "arr = [1, 1, 2, 3, 4, 2, 1]\n",
    "result = find_nearest_greater_frequency(arr)\n",
    "print(result)"
   ]
  },
  {
   "attachments": {},
   "cell_type": "markdown",
   "metadata": {},
   "source": [
    "**Question 2**\n",
    "\n",
    "Given a stack of integers, sort it in ascending order using another temporary stack.\n",
    "\n",
    "**Examples:**\n",
    "\n",
    "Input : [34, 3, 31, 98, 92, 23]\n",
    "\n",
    "Output : [3, 23, 31, 34, 92, 98]\n",
    "\n",
    "Input : [3, 5, 1, 4, 2, 8]\n",
    "\n",
    "Output : [1, 2, 3, 4, 5, 8]"
   ]
  },
  {
   "attachments": {},
   "cell_type": "markdown",
   "metadata": {},
   "source": [
    "`Approach`:\n",
    "\n",
    " - Create an empty temporary stack.\n",
    " - While the input stack is not empty:\n",
    "    - Pop the top element from the input stack and store it in a variable called temp.\n",
    "    - While the temporary stack is not empty and the top element of the temporary stack is greater than temp:\n",
    "        - Pop the top element from the temporary stack and push it onto the input stack.\n",
    "    - Push temp onto the temporary stack.\n",
    " - The temporary stack now contains the sorted elements in descending order.\n",
    " - Reverse the elements from the temporary stack and push them back onto the input stack.\n",
    " - Return the sorted input stack\n",
    "\n",
    "**Time Complexity --> O(n^2)**     \n",
    "**Space Complexity --> O(n)**"
   ]
  },
  {
   "cell_type": "code",
   "execution_count": 9,
   "metadata": {},
   "outputs": [
    {
     "name": "stdout",
     "output_type": "stream",
     "text": [
      "[3, 23, 31, 34, 92, 98]\n"
     ]
    }
   ],
   "source": [
    "def sort_stack(stack):\n",
    "    temp_stack = []\n",
    "\n",
    "    while stack:\n",
    "        temp = stack.pop()\n",
    "\n",
    "        while temp_stack and temp_stack[-1] > temp:\n",
    "            stack.append(temp_stack.pop())\n",
    "\n",
    "        temp_stack.append(temp)\n",
    "\n",
    "    while temp_stack:\n",
    "        stack.append(temp_stack.pop())\n",
    "\n",
    "    return sorted(stack)\n",
    "\n",
    "stack = [34, 3, 31, 98, 92, 23]\n",
    "sorted_stack = sort_stack(stack)\n",
    "print(sorted_stack)"
   ]
  },
  {
   "attachments": {},
   "cell_type": "markdown",
   "metadata": {},
   "source": [
    "**Question 3**\n",
    "\n",
    "Given a stack with **push()**, **pop()**, and **empty()** operations, The task is to delete the **middle** element ****of it without using any additional data structure.\n",
    "\n",
    "Input  : Stack[] = [1, 2, 3, 4, 5]\n",
    "\n",
    "Output : Stack[] = [1, 2, 4, 5]\n",
    "\n",
    "Input  : Stack[] = [1, 2, 3, 4, 5, 6]\n",
    "\n",
    "Output : Stack[] = [1, 2, 4, 5, 6]\n"
   ]
  },
  {
   "attachments": {},
   "cell_type": "markdown",
   "metadata": {},
   "source": [
    "`Approach`:\n",
    "\n",
    " - Find the size of the stack.\n",
    " - Calculate the position of the middle element as mid = size // 2 + 1 (integer division).\n",
    " - Create a recursive function, let's call it delete_middle, that takes the stack and the current position as parameters.\n",
    " - If the current position is equal to the middle position, simply pop the element from the stack and return.\n",
    " - Otherwise, pop an element from the stack and recursively call delete_middle with the updated position.\n",
    " - After the recursive call, push the popped element back onto the stack.\n",
    " - Return from the function.\n",
    "\n",
    "**Time Complexity --> O(n)**   \n",
    "**Space Complexity --> O(1)**"
   ]
  },
  {
   "cell_type": "code",
   "execution_count": null,
   "metadata": {},
   "outputs": [],
   "source": [
    "def delete_middle(stack):\n",
    "    if not stack:\n",
    "        return\n",
    "\n",
    "    size = len(stack)\n",
    "    mid = size // 2 + 1\n",
    "\n",
    "    delete_middle_util(stack, mid)\n",
    "\n",
    "\n",
    "def delete_middle_util(stack, position):\n",
    "    if position == 1:\n",
    "        stack.pop()\n",
    "        return\n",
    "\n",
    "    temp = stack.pop()\n",
    "    delete_middle_util(stack, position - 1)\n",
    "    stack.append(temp)\n"
   ]
  },
  {
   "attachments": {},
   "cell_type": "markdown",
   "metadata": {},
   "source": [
    "**Question 4**\n",
    "\n",
    "Given a Queue consisting of first **n** natural numbers (in random order). The task is to check whether the given Queue elements can be arranged in increasing order in another Queue using a stack. The operation allowed are:\n",
    "\n",
    "1. Push and pop elements from the stack\n",
    "2. Pop (Or Dequeue) from the given Queue.\n",
    "3. Push (Or Enqueue) in the another Queue.\n",
    "\n",
    "**Examples :**\n",
    "\n",
    "Input : Queue[] = { 5, 1, 2, 3, 4 } \n",
    "\n",
    "Output : Yes \n",
    "\n",
    "Pop the first element of the given Queue \n",
    "\n",
    "i.e 5. Push 5 into the stack. \n",
    "\n",
    "Now, pop all the elements of the given Queue and push them to second Queue. \n",
    "\n",
    "Now, pop element 5 in the stack and push it to the second Queue.   \n",
    "\n",
    "Input : Queue[] = { 5, 1, 2, 6, 3, 4 } \n",
    "\n",
    "Output : No \n",
    "\n",
    "Push 5 to stack. \n",
    "\n",
    "Pop 1, 2 from given Queue and push it to another Queue. \n",
    "\n",
    "Pop 6 from given Queue and push to stack. \n",
    "\n",
    "Pop 3, 4 from given Queue and push to second Queue. \n",
    "\n",
    "Now, from using any of above operation, we cannot push 5 into the second Queue because it is below the 6 in the stack.\n"
   ]
  },
  {
   "attachments": {},
   "cell_type": "markdown",
   "metadata": {},
   "source": [
    "`Approach`:\n",
    "\n",
    " - Initialize the expected_element = 1 \n",
    " - Check if either front element of given Queue or top element of the stack have expected_element \n",
    " - If yes, increment expected_element by 1, repeat step 2. \n",
    " - Else, pop front of Queue and push it to the stack. If the popped element is greater than top of the Stack, return “No”.\n",
    "\n",
    "**Time Complexity -->**: `O(n)`    \n",
    "**Space Complexity -->**: `O(n)`"
   ]
  },
  {
   "cell_type": "code",
   "execution_count": 1,
   "metadata": {},
   "outputs": [
    {
     "name": "stdout",
     "output_type": "stream",
     "text": [
      "Yes\n"
     ]
    }
   ],
   "source": [
    "from queue import Queue\n",
    "\n",
    "def checkSorted(n, q):\n",
    "\tst = []\n",
    "\texpected = 1\n",
    "\tfnt = None\n",
    "\n",
    "\twhile (not q.empty()):\n",
    "\t\tfnt = q.queue[0]\n",
    "\t\tq.get()\n",
    "\t\tif (fnt == expected):\n",
    "\t\t\texpected += 1\n",
    "\n",
    "\t\telse:\n",
    "\t\t\tif (len(st) == 0):\n",
    "\t\t\t\tst.append(fnt)\n",
    "\n",
    "\t\t\telif (len(st) != 0 and st[-1] < fnt):\n",
    "\t\t\t\treturn False\n",
    "\n",
    "\t\t\telse:\n",
    "\t\t\t\tst.append(fnt)\n",
    "\n",
    "\t\twhile (len(st) != 0 and\n",
    "\t\t\t\tst[-1] == expected):\n",
    "\t\t\tst.pop()\n",
    "\t\t\texpected += 1\n",
    "\n",
    "\tif (expected - 1 == n and len(st) == 0):\n",
    "\t\treturn True\n",
    "\n",
    "\treturn False\n",
    "\n",
    "\n",
    "q = Queue()\n",
    "q.put(5), q.put(1), q.put(2), q.put(3), q.put(4)\n",
    "n = q.qsize()\n",
    "\n",
    "if checkSorted(n, q):\n",
    "\tprint(\"Yes\")\n",
    "else:\n",
    "\tprint(\"No\")"
   ]
  },
  {
   "attachments": {},
   "cell_type": "markdown",
   "metadata": {},
   "source": [
    " **Question 5**\n",
    "\n",
    "Given a number , write a program to reverse this number using stack.\n",
    "\n",
    "**Examples:**\n",
    "\n",
    "Input : 365   \n",
    "Output : 563\n",
    "\n",
    "Input : 6899   \n",
    "Output : 9986"
   ]
  },
  {
   "attachments": {},
   "cell_type": "markdown",
   "metadata": {},
   "source": [
    "`Approach`:\n",
    "\n",
    " - Convert the number to a string.\n",
    " - Initialize an empty stack.\n",
    " - Iterate over each digit in the string representation of the number.\n",
    " - Push each digit onto the stack.\n",
    " - Pop the digits from the stack and construct the reversed number.\n",
    " - Print the reversed number.\n",
    "\n",
    "**Time Complexity -->**: `O(log n)`    \n",
    "**Space Complexity -->**: `O(1)`"
   ]
  },
  {
   "cell_type": "code",
   "execution_count": 2,
   "metadata": {},
   "outputs": [
    {
     "name": "stdout",
     "output_type": "stream",
     "text": [
      "563\n"
     ]
    }
   ],
   "source": [
    "def reverse_number(number):\n",
    "    number_str = str(number)\n",
    "    stack = []\n",
    "\n",
    "    for digit in number_str:\n",
    "        stack.append(digit)\n",
    "    \n",
    "    reversed_number = ''\n",
    "    while stack:\n",
    "        reversed_number += stack.pop()\n",
    "    \n",
    "    reversed_number = int(reversed_number)\n",
    "    \n",
    "    return reversed_number\n",
    "\n",
    "number = 365\n",
    "reversed_number = reverse_number(number)\n",
    "print(reversed_number)"
   ]
  },
  {
   "attachments": {},
   "cell_type": "markdown",
   "metadata": {},
   "source": [
    "**Question 6**\n",
    "\n",
    "Given an integer k and a **[queue](https://www.geeksforgeeks.org/queue-data-structure/)** of integers, The task is to reverse the order of the first **k** elements of the queue, leaving the other elements in the same relative order.\n",
    "\n",
    "Only following standard operations are allowed on queue.\n",
    "\n",
    "- **enqueue(x) :** Add an item x to rear of queue\n",
    "- **dequeue() :** Remove an item from front of queue\n",
    "- **size() :** Returns number of elements in queue.\n",
    "- **front() :** Finds front item.\n"
   ]
  },
  {
   "attachments": {},
   "cell_type": "markdown",
   "metadata": {},
   "source": [
    "`Approach`:\n",
    "\n",
    " - Create an empty stack.\n",
    " - Dequeue the first k elements from the queue and push them onto the stack.\n",
    " - While the stack is not empty, pop an element from the stack and enqueue it back into the queue.\n",
    " - Dequeue the remaining elements from the queue and enqueue them back into the queue.\n",
    " - The order of the first k elements in the queue is now reversed.\n",
    "\n",
    "**Time Complexity -->**: `O(n)`    \n",
    "**Space Complexity -->**: `O(n)`"
   ]
  },
  {
   "cell_type": "code",
   "execution_count": 3,
   "metadata": {},
   "outputs": [
    {
     "name": "stdout",
     "output_type": "stream",
     "text": [
      "3\n",
      "2\n",
      "1\n",
      "4\n",
      "5\n"
     ]
    }
   ],
   "source": [
    "from queue import Queue\n",
    "\n",
    "def reverse_k_elements(queue, k):\n",
    "    if k <= 0 or k > queue.qsize():\n",
    "        return \n",
    "    stack = []\n",
    "    for _ in range(k):\n",
    "        element = queue.get()\n",
    "        stack.append(element)\n",
    "\n",
    "    while stack:\n",
    "        element = stack.pop()\n",
    "        queue.put(element)\n",
    "\n",
    "    for _ in range(queue.qsize() - k):\n",
    "        element = queue.get()\n",
    "        queue.put(element)\n",
    "\n",
    "# Example usage\n",
    "queue = Queue()\n",
    "queue.put(1), queue.put(2), queue.put(3), queue.put(4), queue.put(5)\n",
    "\n",
    "k = 3\n",
    "\n",
    "reverse_k_elements(queue, k)\n",
    "\n",
    "while not queue.empty():\n",
    "    print(queue.get())"
   ]
  },
  {
   "attachments": {},
   "cell_type": "markdown",
   "metadata": {},
   "source": [
    "**Question 7**\n",
    "\n",
    "Given a sequence of n strings, the task is to check if any two similar words come together and then destroy each other then print the number of words left in the sequence after this pairwise destruction.\n",
    "\n",
    "**Examples:**\n",
    "\n",
    "Input : ab aa aa bcd ab\n",
    "\n",
    "Output : 3\n",
    "\n",
    "*As aa, aa destroys each other so,*\n",
    "\n",
    "*ab bcd ab is the new sequence.*\n",
    "\n",
    "Input :  tom jerry jerry tom\n",
    "\n",
    "Output : 0\n",
    "\n",
    "*As first both jerry will destroy each other.*\n",
    "\n",
    "*Then sequence will be tom, tom they will also destroy*\n",
    "\n",
    "*each other. So, the final sequence doesn’t contain any word.*"
   ]
  },
  {
   "attachments": {},
   "cell_type": "markdown",
   "metadata": {},
   "source": [
    "`Approach`:\n",
    "\n",
    " - Initialize an empty stack.\n",
    " - Iterate through each word in the sequence.\n",
    " - If the stack is empty or the current word is not the same as the word at the top of the stack, push the current word onto the stack.\n",
    " - Otherwise, if the current word is the same as the word at the top of the stack, pop the word from the stack (destroying it).\n",
    " - After iterating through all the words, the remaining words in the stack are the words that have not been destroyed.\n",
    " - Return the number of words left in the stack.\n",
    "\n",
    "**Time Complexity -->**: `O(n)`    \n",
    "**Space Complexity -->**: `O(n)`"
   ]
  },
  {
   "cell_type": "code",
   "execution_count": 4,
   "metadata": {},
   "outputs": [
    {
     "name": "stdout",
     "output_type": "stream",
     "text": [
      "3\n"
     ]
    }
   ],
   "source": [
    "def count_remaining_words(sequence):\n",
    "    stack = []\n",
    "\n",
    "    for word in sequence:\n",
    "        if not stack or word != stack[-1]:\n",
    "            stack.append(word)\n",
    "        else:\n",
    "            stack.pop()\n",
    "\n",
    "    return len(stack)\n",
    "sequence_1 = ['ab', 'aa', 'aa', 'bcd', 'ab']\n",
    "print(count_remaining_words(sequence_1))"
   ]
  },
  {
   "attachments": {},
   "cell_type": "markdown",
   "metadata": {},
   "source": [
    "**Question 8**\n",
    "\n",
    "Given an array of integers, the task is to find the maximum absolute difference between the nearest left and the right smaller element of every element in the array.\n",
    "\n",
    "**Note:** If there is no smaller element on right side or left side of any element then we take zero as the smaller element. For example for the leftmost element, the nearest smaller element on the left side is considered as 0. Similarly, for rightmost elements, the smaller element on the right side is considered as 0.\n",
    "\n",
    "**Examples:**\n",
    "\n",
    "Input : arr[] = {2, 1, 8}     \n",
    "Output : 1    \n",
    "Left smaller  LS[] {0, 0, 1}    \n",
    "Right smaller RS[] {1, 0, 0}    \n",
    "Maximum Diff of abs(LS[i] - RS[i]) = 1    \n",
    "\n",
    "Input  : arr[] = {2, 4, 8, 7, 7, 9, 3}    \n",
    "Output : 4     \n",
    "Left smaller   LS[] = {0, 2, 4, 4, 4, 7, 2}    \n",
    "Right smaller  RS[] = {0, 3, 7, 3, 3, 3, 0}    \n",
    "Maximum Diff of abs(LS[i] - RS[i]) = 7 - 3 = 4\n",
    "\n",
    "Input : arr[] = {5, 1, 9, 2, 5, 1, 7}\n",
    "Output : 1"
   ]
  },
  {
   "attachments": {},
   "cell_type": "markdown",
   "metadata": {},
   "source": [
    "`Approach`:\n",
    " - Initialize two arrays, LS and RS, with the same size as the input array, filled with zeros.\n",
    " - Create an empty stack.\n",
    " - Iterate through the array from left to right:\n",
    "    - Pop elements from the stack until the top of the stack is smaller than the current element, updating the LS array with the popped elements.\n",
    "    - Push the current element into the stack.\n",
    " - Clear the stack.\n",
    " - Iterate through the array from right to left:\n",
    "    - Pop elements from the stack until the top of the stack is smaller than the current element, updating the RS array with the popped elements.\n",
    "    - Push the current element into the stack.\n",
    " - Initialize the maximum difference (max_diff) to 0.\n",
    " - Iterate through the array and calculate the absolute difference between LS[i] and RS[i].\n",
    "    - If the absolute difference is greater than max_diff, update max_diff.\n",
    " - Return max_diff.\n",
    "\n",
    "**Time Complexity -->**: `O(n)`    \n",
    "**Space Complexity -->**: `O(1)`"
   ]
  },
  {
   "cell_type": "code",
   "execution_count": 5,
   "metadata": {},
   "outputs": [
    {
     "name": "stdout",
     "output_type": "stream",
     "text": [
      "1\n"
     ]
    }
   ],
   "source": [
    "def max_absolute_difference(arr):\n",
    "    n = len(arr)\n",
    "    LS = [0] * n\n",
    "    RS = [0] * n\n",
    "    stack = []\n",
    "\n",
    "    for i in range(n):\n",
    "        while stack and stack[-1] >= arr[i]:\n",
    "            stack.pop()\n",
    "        if stack:\n",
    "            LS[i] = stack[-1]\n",
    "        stack.append(arr[i])\n",
    "\n",
    "    stack.clear()\n",
    "\n",
    "    for i in range(n - 1, -1, -1):\n",
    "        while stack and stack[-1] >= arr[i]:\n",
    "            stack.pop()\n",
    "        if stack:\n",
    "            RS[i] = stack[-1]\n",
    "        stack.append(arr[i])\n",
    "\n",
    "    max_diff = 0\n",
    "\n",
    "    for i in range(n):\n",
    "        diff = abs(LS[i] - RS[i])\n",
    "        if diff > max_diff:\n",
    "            max_diff = diff\n",
    "\n",
    "    return max_diff\n",
    "arr_1 = [2, 1, 8]\n",
    "print(max_absolute_difference(arr_1))"
   ]
  }
 ],
 "metadata": {
  "kernelspec": {
   "display_name": "Python 3",
   "language": "python",
   "name": "python3"
  },
  "language_info": {
   "codemirror_mode": {
    "name": "ipython",
    "version": 3
   },
   "file_extension": ".py",
   "mimetype": "text/x-python",
   "name": "python",
   "nbconvert_exporter": "python",
   "pygments_lexer": "ipython3",
   "version": "3.11.1"
  },
  "orig_nbformat": 4
 },
 "nbformat": 4,
 "nbformat_minor": 2
}

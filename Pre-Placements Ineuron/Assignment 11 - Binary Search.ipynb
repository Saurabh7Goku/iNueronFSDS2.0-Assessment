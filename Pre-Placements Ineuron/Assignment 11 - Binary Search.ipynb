{
 "cells": [
  {
   "attachments": {},
   "cell_type": "markdown",
   "metadata": {},
   "source": [
    "**Question 1**\n",
    "\n",
    "Given a non-negative integer `x`, return *the square root of* `x` *rounded down to the nearest integer*. The returned integer should be **non-negative** as well.\n",
    "\n",
    "You **must not use** any built-in exponent function or operator.\n",
    "\n",
    "- For example, do not use `pow(x, 0.5)` in c++ or `x ** 0.5` in python.\n",
    "\n",
    "Input: x = 4    \n",
    "Output: 2    \n",
    "Explanation: The square root of 4 is 2, so we return 2.\n",
    "\n",
    "Input: x = 8      \n",
    "Output: 2     \n",
    "Explanation: The square root of 8 is 2.82842..., and since we round it down to the nearest integer, 2 is returned.    \n"
   ]
  },
  {
   "attachments": {},
   "cell_type": "markdown",
   "metadata": {},
   "source": [
    "`Approach`:\n",
    "\n",
    " - If x is 0, return 0 since the square root of 0 is 0.\n",
    " - Initialize left as 1 and right as x. These variables will keep track of the search range.\n",
    " - While left is less than or equal to right, perform the following steps:\n",
    "    - Calculate mid as the average of left and right.\n",
    "    - If mid multiplied by itself is equal to x, we have found the square root, so return mid.\n",
    "    - If mid multiplied by itself is less than x, update left to mid + 1 to search in the higher half of the range.\n",
    "    - If mid multiplied by itself is greater than x, update right to mid - 1 to search in the lower half of the range.\n",
    " - If we exit the loop without finding the exact square root, return right. This is because right will be the largest integer whose square is less than or equal to x, which is the rounded down square root.\n",
    "\n",
    "**Time Complexity ---> O(log n) `since it narrows down the search range by half in each iteration.`**    \n",
    "**Space Complexity ---> O(1) `since it uses a fixed amount of extra space to store the variables left, right, and mid`**"
   ]
  },
  {
   "cell_type": "code",
   "execution_count": 6,
   "metadata": {},
   "outputs": [
    {
     "name": "stdout",
     "output_type": "stream",
     "text": [
      "Output=> 2\n",
      "Output=> 2\n"
     ]
    }
   ],
   "source": [
    "def mySqrt(x):\n",
    "    if x == 0:\n",
    "        return 0\n",
    "    \n",
    "    left = 1\n",
    "    right = x\n",
    "    \n",
    "    while left <= right:\n",
    "        mid = left + (right - left) // 2\n",
    "        if mid * mid == x:\n",
    "            return mid\n",
    "        elif mid * mid < x:\n",
    "            left = mid + 1\n",
    "        else:\n",
    "            right = mid - 1\n",
    "    \n",
    "    return right\n",
    "\n",
    "print('Output=>', mySqrt(4))\n",
    "print('Output=>', mySqrt(8))"
   ]
  },
  {
   "attachments": {},
   "cell_type": "markdown",
   "metadata": {},
   "source": [
    "**Question 2**\n",
    "\n",
    "A peak element is an element that is strictly greater than its neighbors.\n",
    "\n",
    "Given a **0-indexed** integer array `nums`, find a peak element, and return its index. If the array contains multiple peaks, return the index to **any of the peaks**.\n",
    "\n",
    "You may imagine that `nums[-1] = nums[n] = -∞`. In other words, an element is always considered to be strictly greater than a neighbor that is outside the array.\n",
    "\n",
    "You must write an algorithm that runs in `O(log n)` time.\n",
    "\n",
    "**Example 1:**\n",
    "\n",
    "Input: nums = [1,2,3,1]      \n",
    "Output: 2     \n",
    "Explanation: 3 is a peak element and your function should return the index number 2.\n",
    "\n",
    "Input: nums = [1,2,1,3,5,6,4]     \n",
    "Output: 5     \n",
    "Explanation: Your function can return either index number 1 where the peak element is 2, or index number 5 where the peak element is 6."
   ]
  },
  {
   "attachments": {},
   "cell_type": "markdown",
   "metadata": {},
   "source": [
    "`Approach`:\n",
    "\n",
    " - Initialize left as 0 and right as the last index of the array.\n",
    " - While left is less than right, perform the following steps:\n",
    "    - Calculate mid as the average of left and right.\n",
    "    - If nums[mid] is less than nums[mid + 1], it means the peak element is on the right side of mid. Therefore, update left to mid + 1 to search in the right half of the array.\n",
    "    - Otherwise, the peak element is on the left side of mid or mid itself is a peak. In this case, update right to mid to search in the left half of the array.\n",
    " - Once we exit the loop, left will point to the peak element.\n",
    " - Return the value of left, which represents the index of the peak element.\n",
    "\n",
    "**Time Complexity ---> O(log n)`The binary search algorithm has a time complexity of O(log n)`**     \n",
    "**Space Complexity ---> O(1)**"
   ]
  },
  {
   "cell_type": "code",
   "execution_count": 10,
   "metadata": {},
   "outputs": [
    {
     "name": "stdout",
     "output_type": "stream",
     "text": [
      "Output => 2\n",
      "Output => 5\n"
     ]
    }
   ],
   "source": [
    "def findPeakElement(nums):\n",
    "    left = 0\n",
    "    right = len(nums) - 1\n",
    "\n",
    "    while left < right:\n",
    "        mid = left + (right - left) // 2\n",
    "\n",
    "        if nums[mid] < nums[mid + 1]:\n",
    "            left = mid + 1\n",
    "        else:\n",
    "            right = mid\n",
    "\n",
    "    return left\n",
    "\n",
    "print('Output =>', findPeakElement(nums=[1, 2, 3, 1]))\n",
    "print('Output =>', findPeakElement(nums=[1, 2, 1, 3, 5, 6, 4]))"
   ]
  },
  {
   "attachments": {},
   "cell_type": "markdown",
   "metadata": {},
   "source": [
    "**Question 3**    \n",
    "Given an array `nums` containing `n` distinct numbers in the range `[0, n]`, return *the only number in the range that is missing from the array.*\n",
    "\n",
    "**Example 1:**   \n",
    "Input: nums = [3,0,1]   \n",
    "Output: 2    \n",
    "Explanation: n = 3 since there are 3 numbers, so all numbers are in the range [0,3]. 2 is the missing number in the range since it does not appear in nums."
   ]
  },
  {
   "attachments": {},
   "cell_type": "markdown",
   "metadata": {},
   "source": [
    "`Approach`:\n",
    "\n",
    " - Initialize missing as len(nums), which represents the last number in the range [0, n]. This will be the initial assumed missing number.\n",
    " - Iterate through the array nums using a for loop.\n",
    " - For each element at index i, perform the XOR operation with i and nums[i]. This will cancel out the numbers that are present and keep the missing number.\n",
    " - After the loop, the variable missing will hold the missing number.\n",
    " - Return the value of missing.\n",
    "\n",
    "**Time Complexity ---> O(n)`since it iterates through the array once.`**    \n",
    "**Space Complexity ---> O(1)**"
   ]
  },
  {
   "cell_type": "code",
   "execution_count": 17,
   "metadata": {},
   "outputs": [
    {
     "name": "stdout",
     "output_type": "stream",
     "text": [
      "Output => 2\n",
      "Output => 8\n"
     ]
    }
   ],
   "source": [
    "def missingNumber(nums):\n",
    "    missing = len(nums) \n",
    "\n",
    "    for i in range(len(nums)):\n",
    "        missing ^= i ^ nums[i] \n",
    "\n",
    "    return missing\n",
    "\n",
    "print('Output =>', missingNumber([3, 0, 1]))\n",
    "print('Output =>', missingNumber([9,6,4,2,3,5,7,0,1]))"
   ]
  },
  {
   "attachments": {},
   "cell_type": "markdown",
   "metadata": {},
   "source": [
    "**Question 4**\n",
    "\n",
    "Given an array of integers `nums` containing `n + 1` integers where each integer is in the range `[1, n]` inclusive. \n",
    "\n",
    "There is only **one repeated number** in `nums`, return *this repeated number*.   \n",
    "\n",
    "You must solve the problem **without** modifying the array `nums` and uses only constant extra space.   \n",
    "\n",
    "**Example 1:**\n",
    "  \n",
    "Input: nums = [1,3,4,2,2]    \n",
    "Output: 2    \n",
    "\n",
    "Input: nums = [3,1,3,4,2]     \n",
    "Output: 3  "
   ]
  },
  {
   "attachments": {},
   "cell_type": "markdown",
   "metadata": {},
   "source": [
    "`Approach`:\n",
    "\n",
    " - We initialize two pointers, slow and fast, both pointing to the first element of the array nums.\n",
    " - We move slow one step at a time and fast two steps at a time until they meet. This forms a cycle in the array because there is a repeated number.\n",
    " - Once slow and fast meet, we break out of the loop.\n",
    " - We reset slow to the first element of the array and move both slow and fast one step at a time until they meet again. The point at which they meet is the start of the cycle, which corresponds to the repeated number in the array.\n",
    " - We return the value of slow, which represents the repeated number.\n",
    "\n",
    "**Time Complexity ---> O(n) `Since in the worst case scenario, the pointers slow and fast will meet after traversing the entire cycle.`**    \n",
    "**Space Complexity ---> O(1)`Since it uses a fixed amount of extra space to store the variables slow and fast.`** "
   ]
  },
  {
   "cell_type": "code",
   "execution_count": 19,
   "metadata": {},
   "outputs": [
    {
     "name": "stdout",
     "output_type": "stream",
     "text": [
      "output =>  2\n",
      "output =>  3\n"
     ]
    }
   ],
   "source": [
    "def findDuplicate(nums):\n",
    "    slow = nums[0] \n",
    "    fast = nums[0]  \n",
    "\n",
    "    while True:\n",
    "        slow = nums[slow]  \n",
    "        fast = nums[nums[fast]] \n",
    "\n",
    "        if slow == fast:\n",
    "            break\n",
    "\n",
    "    slow = nums[0]\n",
    "    while slow != fast:\n",
    "        slow = nums[slow]\n",
    "        fast = nums[fast]\n",
    "\n",
    "    return slow\n",
    "\n",
    "\n",
    "print(\"output => \", findDuplicate(nums=[1, 3, 4, 2, 2]))\n",
    "print(\"output => \", findDuplicate(nums=[3, 1, 3, 4, 2]))"
   ]
  },
  {
   "attachments": {},
   "cell_type": "markdown",
   "metadata": {},
   "source": [
    "**Question 5**\n",
    "\n",
    "Given two integer arrays `nums1` and `nums2`, return *an array of their intersection*. Each element in the result must be **unique** and you may return the result in **any order**.\n",
    "\n",
    "**Example 1:**\n",
    "\n",
    "Input: nums1 = [1,2,2,1], nums2 = [2,2]     \n",
    "Output: [2]"
   ]
  },
  {
   "attachments": {},
   "cell_type": "markdown",
   "metadata": {},
   "source": [
    "`Approach`:\n",
    "\n",
    " - Create two sets, set1 and set2, by converting nums1 and nums2 to sets respectively. This eliminates duplicates and allows for efficient set intersection.\n",
    " - Perform the set intersection between set1 and set2 using the intersection() method, which returns a new set containing only the common elements.\n",
    " - Convert the intersection set to a list using the list() constructor, which gives a list of unique elements in any order.\n",
    " - Return the resulting intersection list.\n",
    "\n",
    "**Time Complexity --> O(n) `Constructing the sets takes O(n) time for each array, where n is the length of the array.`**    \n",
    "**Time Complexity --> O(n)**"
   ]
  },
  {
   "cell_type": "code",
   "execution_count": 20,
   "metadata": {},
   "outputs": [
    {
     "name": "stdout",
     "output_type": "stream",
     "text": [
      "Output =>  [2]\n"
     ]
    }
   ],
   "source": [
    "def intersection(nums1, nums2):\n",
    "    set1 = set(nums1)\n",
    "    set2 = set(nums2)\n",
    "    \n",
    "    # Perform set intersection between set1 and set2\n",
    "    intersection_set = set1.intersection(set2)\n",
    "    \n",
    "    # Convert the intersection set to a list\n",
    "    intersection_list = list(intersection_set)\n",
    "    \n",
    "    return intersection_list\n",
    "\n",
    "print('Output => ', intersection(nums1=[1, 2, 2, 1], nums2=[2, 2]))"
   ]
  },
  {
   "attachments": {},
   "cell_type": "markdown",
   "metadata": {},
   "source": [
    "**Question 6**\n",
    "\n",
    "Suppose an array of length `n` sorted in ascending order is **rotated** between `1` and `n` times. For example, the array `nums = [0,1,2,4,5,6,7]` might become:\n",
    "\n",
    "- `[4,5,6,7,0,1,2]` if it was rotated `4` times.\n",
    "- `[0,1,2,4,5,6,7]` if it was rotated `7` times.\n",
    "\n",
    "Notice that **rotating** an array `[a[0], a[1], a[2], ..., a[n-1]]` 1 time results in the array `[a[n-1], a[0], a[1], a[2], ..., a[n-2]]`.\n",
    "\n",
    "Given the sorted rotated array `nums` of **unique** elements, return *the minimum element of this array*.\n",
    "\n",
    "You must write an algorithm that runs in `O(log n) time.`\n",
    "\n",
    "**Example 1:**\n",
    "\n",
    "Input: nums = [3,4,5,1,2]    \n",
    "Output: 1    \n",
    "Explanation: The original array was [1,2,3,4,5] rotated 3 times.\n"
   ]
  },
  {
   "attachments": {},
   "cell_type": "markdown",
   "metadata": {},
   "source": [
    "`Approach`:\n",
    "\n",
    " - nitialize left as 0 and right as the last index of the array.\n",
    " - While left is less than right, perform the following steps:\n",
    "    - Calculate mid as the average of left and right.\n",
    "    - Compare nums[mid] with nums[right]. If nums[mid] is greater than nums[right], it means the minimum element is on the right side of mid. Therefore, update left to mid + 1 to search in the right half of the array.\n",
    "    - Otherwise, if nums[mid] is less than or equal to nums[right], it means the minimum element is on the left side of mid or mid itself is the minimum element. In this case, update right to mid to search in the left half of the array.\n",
    "    - Once we exit the loop, left will point to the minimum element.\n",
    " - Return the value of nums[left], which represents the minimum element.\n",
    "\n",
    "**Time Complexity --> O(log n)**     \n",
    "**Space Complexity --> O(1)**"
   ]
  },
  {
   "cell_type": "code",
   "execution_count": 21,
   "metadata": {},
   "outputs": [
    {
     "name": "stdout",
     "output_type": "stream",
     "text": [
      "Output =>  1\n"
     ]
    }
   ],
   "source": [
    "def findMin(nums):\n",
    "    left = 0\n",
    "    right = len(nums) - 1\n",
    "\n",
    "    while left < right:\n",
    "        mid = left + (right - left) // 2\n",
    "\n",
    "        if nums[mid] > nums[right]:\n",
    "            left = mid + 1\n",
    "        else:\n",
    "            right = mid\n",
    "\n",
    "    return nums[left]\n",
    "\n",
    "print('Output => ', findMin(nums=[3, 4, 5, 1, 2]))"
   ]
  },
  {
   "attachments": {},
   "cell_type": "markdown",
   "metadata": {},
   "source": [
    "**Question 7**\n",
    "\n",
    "Given an array of integers `nums` sorted in non-decreasing order, find the starting and ending position of a given `target` value.\n",
    "\n",
    "If `target` is not found in the array, return `[-1, -1]`.\n",
    "\n",
    "You must write an algorithm with `O(log n)` runtime complexity.\n",
    "\n",
    "**Example 1:**\n",
    "\n",
    "Input: nums = [5,7,7,8,8,10], target = 8     \n",
    "Output: [3,4]\n"
   ]
  },
  {
   "attachments": {},
   "cell_type": "markdown",
   "metadata": {},
   "source": [
    "`Approach`:\n",
    "\n",
    " - We define two separate functions, findLeftPosition and findRightPosition, to find the leftmost and rightmost positions of the target value in the array.\n",
    " - The findLeftPosition function finds the leftmost position of the target value using a modified binary search. We initialize left as 0 and right as the last index of the - array. We also initialize position as -1 to track the leftmost position.\n",
    " - While left is less than or equal to right, we calculate mid as the average of left and right.\n",
    " - If nums[mid] is equal to the target, we update position to mid and continue searching for the leftmost position by updating right to mid - 1.\n",
    " - If nums[mid] is less than the target, we update left to mid + 1 to search in the right half of the array.\n",
    " - If nums[mid] is greater than the target, we update right to mid - 1 to search in the left half of the array.\n",
    " - After the loop, we return position as the leftmost position of the target value.\n",
    " - The findRightPosition function follows a similar approach to find the rightmost position of the target value. It uses a modified binary search and tracks the rightmost position.\n",
    " - Finally, in the searchRange function, we call findLeftPosition and findRightPosition to get the leftmost and rightmost positions of the target value respectively and return them as a list."
   ]
  },
  {
   "cell_type": "code",
   "execution_count": 22,
   "metadata": {},
   "outputs": [
    {
     "name": "stdout",
     "output_type": "stream",
     "text": [
      "Output =>  [3, 4]\n"
     ]
    }
   ],
   "source": [
    "def searchRange(nums, target):\n",
    "    left = findLeftPosition(nums, target)\n",
    "    right = findRightPosition(nums, target)\n",
    "    \n",
    "    return [left, right]\n",
    "\n",
    "\n",
    "def findLeftPosition(nums, target):\n",
    "    left = 0\n",
    "    right = len(nums) - 1\n",
    "    position = -1\n",
    "    \n",
    "    while left <= right:\n",
    "        mid = left + (right - left) // 2\n",
    "        \n",
    "        if nums[mid] == target:\n",
    "            position = mid\n",
    "            right = mid - 1\n",
    "        elif nums[mid] < target:\n",
    "            left = mid + 1\n",
    "        else:\n",
    "            right = mid - 1\n",
    "    \n",
    "    return position\n",
    "\n",
    "\n",
    "def findRightPosition(nums, target):\n",
    "    left = 0\n",
    "    right = len(nums) - 1\n",
    "    position = -1\n",
    "    \n",
    "    while left <= right:\n",
    "        mid = left + (right - left) // 2\n",
    "        \n",
    "        if nums[mid] == target:\n",
    "            position = mid\n",
    "            left = mid + 1\n",
    "        elif nums[mid] < target:\n",
    "            left = mid + 1\n",
    "        else:\n",
    "            right = mid - 1\n",
    "    \n",
    "    return position\n",
    "\n",
    "print('Output => ', searchRange(nums=[5,7,7,8,8,10], target=8))"
   ]
  },
  {
   "attachments": {},
   "cell_type": "markdown",
   "metadata": {},
   "source": [
    "**Question 8**\n",
    "\n",
    "Given two integer arrays `nums1` and `nums2`, return *an array of their intersection*. Each element in the result must appear as many times as it shows in both arrays and you may return the result in **any order**.\n",
    "\n",
    "**Example 1:**   \n",
    "Input: nums1 = [1,2,2,1], nums2 = [2,2]    \n",
    "Output: [2,2]\n",
    "\n",
    "Input: nums1 = [4,9,5], nums2 = [9,4,9,8,4]    \n",
    "Output: [4,9]   \n",
    "Explanation: [9,4] is also accepted."
   ]
  },
  {
   "attachments": {},
   "cell_type": "markdown",
   "metadata": {},
   "source": [
    "`Approach`:\n",
    "\n",
    " - Import the Counter class from the collections module, which provides a convenient way to count the occurrences of elements in an array.\n",
    " - Create two counters, counter1 and counter2, by passing nums1 and nums2 to the Counter constructor respectively. This will create dictionaries that map each unique element to its frequency in the respective arrays.\n",
    " - Initialize an empty list called intersection to store the elements of the intersection.\n",
    " - Iterate over the elements in counter1 using a for loop.\n",
    " - For each element num, check if it is present in counter2 using the in operator.\n",
    " - If the element is present in both arrays, calculate the minimum count between the two arrays using the min() function.\n",
    " - Append the element num to the intersection list min_count times using the extend() method with a list comprehension.\n",
    " - After iterating over all elements in counter1, the intersection list will contain the elements that appear in both arrays, considering their count.\n",
    " - Return the intersection list.\n",
    "\n",
    "**Time Complexity --> O(n) `Constructing the counters takes O(n) time for each array, where n is the length of the array`**    \n",
    "**Space Complexity --> O(1)**"
   ]
  },
  {
   "cell_type": "code",
   "execution_count": 23,
   "metadata": {},
   "outputs": [
    {
     "name": "stdout",
     "output_type": "stream",
     "text": [
      "Output =>  [4, 9]\n"
     ]
    }
   ],
   "source": [
    "from collections import Counter\n",
    "\n",
    "def intersect(nums1, nums2):\n",
    "    counter1 = Counter(nums1)\n",
    "    counter2 = Counter(nums2)\n",
    "\n",
    "    intersection = []\n",
    "    \n",
    "    for num in counter1:\n",
    "\n",
    "        if num in counter2:\n",
    "\n",
    "            min_count = min(counter1[num], counter2[num])\n",
    "            \n",
    "            intersection.extend([num] * min_count)\n",
    "    \n",
    "    return intersection\n",
    "\n",
    "print('Output => ', intersect(nums1=[4, 9, 5], nums2=[9, 4, 9, 8, 4]))"
   ]
  },
  {
   "cell_type": "code",
   "execution_count": null,
   "metadata": {},
   "outputs": [],
   "source": []
  }
 ],
 "metadata": {
  "kernelspec": {
   "display_name": "OCR",
   "language": "python",
   "name": "python3"
  },
  "language_info": {
   "codemirror_mode": {
    "name": "ipython",
    "version": 3
   },
   "file_extension": ".py",
   "mimetype": "text/x-python",
   "name": "python",
   "nbconvert_exporter": "python",
   "pygments_lexer": "ipython3",
   "version": "3.9.16"
  },
  "orig_nbformat": 4
 },
 "nbformat": 4,
 "nbformat_minor": 2
}

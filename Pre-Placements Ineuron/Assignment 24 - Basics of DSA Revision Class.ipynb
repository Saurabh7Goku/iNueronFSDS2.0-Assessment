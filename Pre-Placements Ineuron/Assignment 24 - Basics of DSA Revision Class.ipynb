{
 "cells": [
  {
   "cell_type": "markdown",
   "metadata": {},
   "source": [
    "Question 1. **Roman to Integer**\n",
    "\n",
    "Roman numerals are represented by seven different symbols: `I`, `V`, `X`, `L`, `C`, `D` and `M`.\n",
    "\n",
    "```\n",
    "SymbolValue\n",
    "I             1\n",
    "V             5\n",
    "X             10\n",
    "L             50\n",
    "C             100\n",
    "D             500\n",
    "M             1000\n",
    "```\n",
    "\n",
    "For example, `2` is written as `II` in Roman numeral, just two ones added together. `12` is written as `XII`, which is simply `X + II`. The number `27` is written as `XXVII`, which is `XX + V + II`.\n",
    "\n",
    "Roman numerals are usually written largest to smallest from left to right. However, the numeral for four is not `IIII`. Instead, the number four is written as `IV`. Because the one is before the five we subtract it making four. The same principle applies to the number nine, which is written as `IX`. There are six instances where subtraction is used:\n",
    "\n",
    "- `I` can be placed before `V` (5) and `X` (10) to make 4 and 9.\n",
    "- `X` can be placed before `L` (50) and `C` (100) to make 40 and 90.\n",
    "- `C` can be placed before `D` (500) and `M` (1000) to make 400 and 900.\n",
    "\n",
    "Given a roman numeral, convert it to an integer.\n",
    "\n",
    "Example 1:\n",
    "Input: s = \"III\"    \n",
    "Output: 3     \n",
    "Explanation: III = 3.     \n",
    "\n",
    "**Constraints:**\n",
    "\n",
    "- `1 <= s.length <= 15`\n",
    "- `s` contains only the characters `('I', 'V', 'X', 'L', 'C', 'D', 'M')`.\n",
    "- It is **guaranteed** that `s` is a valid roman numeral in the range `[1, 3999]`."
   ]
  },
  {
   "cell_type": "markdown",
   "metadata": {},
   "source": [
    "`Approach`:\n",
    "\n",
    " - Initialize a variable result to store the final integer value.\n",
    " - Iterate over the characters in the Roman numeral string from left to right.\n",
    " - Compare the current character with the next character to determine if it is a subtractive pair (e.g., 'IV', 'IX', 'XL', 'XC', 'CD', 'CM'). If it is, subtract the value of the current character from the result. Otherwise, add the value of the current character to the result.\n",
    " - Return the final value stored in result.\n",
    "\n",
    "**Time Complexity O(N)**     \n",
    "**Space Complexity O(1)**"
   ]
  },
  {
   "cell_type": "code",
   "execution_count": 1,
   "metadata": {},
   "outputs": [
    {
     "name": "stdout",
     "output_type": "stream",
     "text": [
      "3\n"
     ]
    }
   ],
   "source": [
    "def roman_to_int(roman):\n",
    "    roman_to_int = {\n",
    "        'I': 1,\n",
    "        'V': 5,\n",
    "        'X': 10,\n",
    "        'L': 50,\n",
    "        'C': 100,\n",
    "        'D': 500,\n",
    "        'M': 1000\n",
    "    }\n",
    "    \n",
    "    result = 0\n",
    "    \n",
    "    for i in range(len(roman)):\n",
    "        if i < len(roman) - 1 and roman_to_int[roman[i]] < roman_to_int[roman[i+1]]:\n",
    "            result -= roman_to_int[roman[i]]\n",
    "        else:\n",
    "            result += roman_to_int[roman[i]]\n",
    "    \n",
    "    return result\n",
    "\n",
    "s = 'III'\n",
    "print(roman_to_int(s))"
   ]
  },
  {
   "cell_type": "markdown",
   "metadata": {},
   "source": [
    "<aside>\n",
    "💡 2. **Longest Substring Without Repeating Characters**\n",
    "\n",
    "Given a string `s`, find the length of the **longest substring** without repeating characters.\n",
    "\n",
    "**Example 1:**\n",
    "\n",
    "```\n",
    "Input: s = \"abcabcbb\"\n",
    "Output: 3\n",
    "Explanation: The answer is \"abc\", with the length of 3.\n",
    "```\n",
    "\n",
    "**Example 2:**\n",
    "\n",
    "```\n",
    "Input: s = \"bbbbb\"\n",
    "Output: 1\n",
    "Explanation: The answer is \"b\", with the length of 1.\n",
    "```\n",
    "\n",
    "**Example 3:**\n",
    "\n",
    "```\n",
    "Input: s = \"pwwkew\"\n",
    "Output: 3\n",
    "Explanation: The answer is \"wke\", with the length of 3.\n",
    "Notice that the answer must be a substring, \"pwke\" is a subsequence and not a substring.\n",
    "```\n",
    "\n",
    "**Constraints:**\n",
    "  \n",
    "- `0 <= s.length <= 50000`    \n",
    "- `s` consists of English letters, digits, symbols and spaces.   \n",
    "</aside>"
   ]
  },
  {
   "cell_type": "markdown",
   "metadata": {},
   "source": [
    "`Approach`: \n",
    " - Initialize two pointers, start and end, both pointing to the start of the string.\n",
    " - Initialize an empty set to store the unique characters seen so far.\n",
    " - Initialize a variable max_length to keep track of the maximum length of the substring without repeating characters.\n",
    " - Iterate the end pointer over the string while it is within the bounds of the string length.\n",
    "    - Check if the character at the end pointer is already present in the set.\n",
    "        - If it is present, remove the character at the start pointer from the set and move the start pointer one step to the right.\n",
    "        - If it is not present, add the character to the set and calculate the length of the current substring without repeating characters using (end - start + 1).\n",
    "        - Update max_length if the current substring length is greater than max_length.\n",
    "    - Move the end pointer one step to the right.\n",
    " - Return max_length.\n",
    "\n",
    "**Time Complexity O(N)**     \n",
    "**Space Complexity O(N)**     "
   ]
  },
  {
   "cell_type": "code",
   "execution_count": 2,
   "metadata": {},
   "outputs": [
    {
     "name": "stdout",
     "output_type": "stream",
     "text": [
      "3\n"
     ]
    }
   ],
   "source": [
    "def length_of_longest_substring(s):\n",
    "    start = 0\n",
    "    end = 0\n",
    "    max_length = 0\n",
    "    unique_chars = set()\n",
    "\n",
    "    while end < len(s):\n",
    "        if s[end] in unique_chars:\n",
    "            unique_chars.remove(s[start])\n",
    "            start += 1\n",
    "        else:\n",
    "            unique_chars.add(s[end])\n",
    "            max_length = max(max_length, end - start + 1)\n",
    "            end += 1\n",
    "\n",
    "    return max_length\n",
    "\n",
    "s = \"abcabcbb\"\n",
    "result = length_of_longest_substring(s)\n",
    "print(result)"
   ]
  },
  {
   "cell_type": "markdown",
   "metadata": {},
   "source": [
    "<aside>\n",
    "💡 3. **Majority Element**\n",
    "\n",
    "Given an array `nums` of size `n`, return *the majority element*.\n",
    "\n",
    "The majority element is the element that appears more than `⌊n / 2⌋` times. You may assume that the majority element always exists in the array.\n",
    "\n",
    "**Example 1:**\n",
    "\n",
    "```\n",
    "Input: nums = [3,2,3]\n",
    "Output: 3\n",
    "```\n",
    "\n",
    "**Example 2:**\n",
    "\n",
    "```\n",
    "Input: nums = [2,2,1,1,1,2,2]\n",
    "Output: 2\n",
    "```\n",
    "\n",
    "**Constraints:**\n",
    "\n",
    "- `n == nums.length`\n",
    "- `1 <= n <= 5 * 10^4`\n",
    "- `-10^9 <= nums[i] <= 10^9`\n",
    "</aside>"
   ]
  },
  {
   "cell_type": "markdown",
   "metadata": {},
   "source": [
    "`Approach`:\n",
    "\n",
    " - Initialize two variables, candidate and count. Set candidate to the first element of the array nums and count to 1.\n",
    " - Iterate over the remaining elements of the array starting from the second element.\n",
    "    - If the current element is equal to the candidate, increment the count by 1.\n",
    "    - If the current element is different from the candidate, decrement the count by 1.\n",
    "        - If the count becomes zero, update the candidate to the current element and set the count to 1.\n",
    " - At the end of the iteration, the candidate will hold the majority element.\n",
    "\n",
    "**Time Complexity O(1)**        \n",
    "**Space Complexity O(1)**"
   ]
  },
  {
   "cell_type": "code",
   "execution_count": 3,
   "metadata": {},
   "outputs": [
    {
     "name": "stdout",
     "output_type": "stream",
     "text": [
      "3\n"
     ]
    }
   ],
   "source": [
    "def majority_element(nums):\n",
    "    candidate = None\n",
    "    count = 0\n",
    "    \n",
    "    for num in nums:\n",
    "        if count == 0:\n",
    "            candidate = num\n",
    "        if num == candidate:\n",
    "            count += 1\n",
    "        else:\n",
    "            count -= 1\n",
    "    \n",
    "    return candidate\n",
    "\n",
    "nums = [3, 2, 3]\n",
    "result = majority_element(nums)\n",
    "print(result)"
   ]
  },
  {
   "cell_type": "markdown",
   "metadata": {},
   "source": [
    "<aside>\n",
    "💡 4. **Group Anagram**\n",
    "\n",
    "Given an array of strings `strs`, group **the anagrams** together. You can return the answer in **any order**.\n",
    "\n",
    "An **Anagram** is a word or phrase formed by rearranging the letters of a different word or phrase, typically using all the original letters exactly once.\n",
    "\n",
    "**Example 1:**\n",
    "\n",
    "```\n",
    "Input: strs = [\"eat\",\"tea\",\"tan\",\"ate\",\"nat\",\"bat\"]\n",
    "Output: [[\"bat\"],[\"nat\",\"tan\"],[\"ate\",\"eat\",\"tea\"]]\n",
    "```\n",
    "\n",
    "**Example 2:**\n",
    "\n",
    "```\n",
    "Input: strs = [\"\"]\n",
    "Output: [[\"\"]]\n",
    "```\n",
    "\n",
    "**Example 3:**\n",
    "\n",
    "```\n",
    "Input: strs = [\"a\"]\n",
    "Output: [[\"a\"]]\n",
    "```\n",
    "\n",
    "**Constraints:**\n",
    "\n",
    "- `1 <= strs.length <= 10000`\n",
    "- `0 <= strs[i].length <= 100`\n",
    "- `strs[i]` consists of lowercase English letters.\n",
    "</aside>"
   ]
  },
  {
   "cell_type": "markdown",
   "metadata": {},
   "source": [
    "`Approach`:\n",
    "\n",
    " - Initialize an empty dictionary, anagram_groups.\n",
    " - Iterate over each string s in strs:\n",
    "    - Sort the characters of s to obtain its sorted representation. Let's call it sorted_s.\n",
    "    - If sorted_s is not already a key in anagram_groups, add it as a key with an empty list as its value.\n",
    "    - Append s to the list associated with sorted_s in anagram_groups.\n",
    " - Return the values of anagram_groups as the grouped anagrams.\n",
    "\n",
    "**Time Complexity O(N)**          \n",
    "**Space Complexity O(1)**"
   ]
  },
  {
   "cell_type": "code",
   "execution_count": 4,
   "metadata": {},
   "outputs": [
    {
     "name": "stdout",
     "output_type": "stream",
     "text": [
      "[['eat', 'tea', 'ate'], ['tan', 'nat'], ['bat']]\n"
     ]
    }
   ],
   "source": [
    "def group_anagrams(strs):\n",
    "    anagram_groups = {}\n",
    "\n",
    "    for s in strs:\n",
    "        sorted_s = ''.join(sorted(s))\n",
    "        if sorted_s not in anagram_groups:\n",
    "            anagram_groups[sorted_s] = []\n",
    "        anagram_groups[sorted_s].append(s)\n",
    "\n",
    "    return list(anagram_groups.values())\n",
    "strs = [\"eat\", \"tea\", \"tan\", \"ate\", \"nat\", \"bat\"]\n",
    "result = group_anagrams(strs)\n",
    "print(result)"
   ]
  },
  {
   "cell_type": "markdown",
   "metadata": {},
   "source": [
    "Question 5. **Ugly Numbers**\n",
    "\n",
    "An **ugly number** is a positive integer whose prime factors are limited to `2`, `3`, and `5`.\n",
    "\n",
    "Given an integer `n`, return *the* `nth` ***ugly number***.\n",
    "\n",
    "**Example 1:**\n",
    "\n",
    "```\n",
    "Input: n = 10\n",
    "Output: 12\n",
    "Explanation: [1, 2, 3, 4, 5, 6, 8, 9, 10, 12] is the sequence of the first 10 ugly numbers.\n",
    "```\n",
    "\n",
    "**Example 2:**\n",
    "\n",
    "```\n",
    "Input: n = 1\n",
    "Output: 1\n",
    "Explanation: 1 has no prime factors, therefore all of its prime factors are limited to 2, 3, and 5.\n",
    "```\n",
    "\n",
    "**Constraints:**\n",
    "\n",
    "- `1 <= n <= 1690`\n",
    "</aside>"
   ]
  },
  {
   "cell_type": "markdown",
   "metadata": {},
   "source": [
    "`Approach`:\n",
    "\n",
    " - Create an empty list, ugly_nums, to store the ugly numbers.\n",
    " - Initialize three pointers, p2, p3, and p5, to track the indices of the next numbers to multiply by 2, 3, and 5, respectively. Set all three pointers to 0.\n",
    " - Set the first ugly number, ugly_nums[0], to 1.\n",
    " - Iterate i from 1 to n-1 (since we already set the first ugly number):\n",
    "    - Compute the next ugly number as the minimum among ugly_nums[p2]*2, ugly_nums[p3]*3, and ugly_nums[p5]*5.\n",
    "    - Increment the respective pointer (p2, p3, or p5) if the corresponding number was used to generate the next ugly number.\n",
    "    - Add the next ugly number to the ugly_nums list.\n",
    " - Return the nth ugly number, which is ugly_nums[n-1].\n",
    "\n",
    "**Time Complexity O(1)**     \n",
    "**Space Complexity O(N)**"
   ]
  },
  {
   "cell_type": "code",
   "execution_count": 5,
   "metadata": {},
   "outputs": [
    {
     "name": "stdout",
     "output_type": "stream",
     "text": [
      "12\n"
     ]
    }
   ],
   "source": [
    "def nth_ugly_number(n):\n",
    "    ugly_nums = [0] * n\n",
    "    ugly_nums[0] = 1\n",
    "    p2 = p3 = p5 = 0\n",
    "\n",
    "    for i in range(1, n):\n",
    "        next_ugly_num = min(ugly_nums[p2] * 2, ugly_nums[p3] * 3, ugly_nums[p5] * 5)\n",
    "\n",
    "        if next_ugly_num == ugly_nums[p2] * 2:\n",
    "            p2 += 1\n",
    "        if next_ugly_num == ugly_nums[p3] * 3:\n",
    "            p3 += 1\n",
    "        if next_ugly_num == ugly_nums[p5] * 5:\n",
    "            p5 += 1\n",
    "\n",
    "        ugly_nums[i] = next_ugly_num\n",
    "\n",
    "    return ugly_nums[n-1]\n",
    "\n",
    "n = 10\n",
    "result = nth_ugly_number(n)\n",
    "print(result)"
   ]
  },
  {
   "cell_type": "markdown",
   "metadata": {},
   "source": [
    "Question 6. **Top K Frequent Words**\n",
    "\n",
    "Given an array of strings `words` and an integer `k`, return *the* `k` *most frequent strings*.\n",
    "Return the answer **sorted** by **the frequency** from highest to lowest. Sort the words with the same frequency by their **lexicographical order**.\n",
    "\n",
    "**Example 1:**\n",
    "\n",
    "```\n",
    "Input: words = [\"i\",\"love\",\"leetcode\",\"i\",\"love\",\"coding\"], k = 2\n",
    "Output: [\"i\",\"love\"]\n",
    "Explanation: \"i\" and \"love\" are the two most frequent words.\n",
    "Note that \"i\" comes before \"love\" due to a lower alphabetical order.\n",
    "```\n",
    "\n",
    "**Example 2:**\n",
    "\n",
    "```\n",
    "Input: words = [\"the\",\"day\",\"is\",\"sunny\",\"the\",\"the\",\"the\",\"sunny\",\"is\",\"is\"], k = 4\n",
    "Output: [\"the\",\"is\",\"sunny\",\"day\"]\n",
    "Explanation: \"the\", \"is\", \"sunny\" and \"day\" are the four most frequent words, with the number of occurrence being 4, 3, 2 and 1 respectively.\n",
    "```\n",
    "\n",
    "**Constraints:**\n",
    "\n",
    "- `1 <= words.length <= 500`\n",
    "- `1 <= words[i].length <= 10`\n",
    "- `words[i]` consists of lowercase English letters.\n",
    "- `k` is in the range `[1, The number of **unique** words[i]]`\n",
    "</aside>"
   ]
  },
  {
   "cell_type": "markdown",
   "metadata": {},
   "source": [
    "`Approach`:\n",
    "\n",
    " - Create an empty dictionary, word_counts, to store the count of each word.\n",
    " - Iterate over each word in words:\n",
    "    - If the word is not already in word_counts, add it as a key with a count of 1.\n",
    "    - If the word is already in word_counts, increment its count by 1.\n",
    " - Sort the words based on their counts in descending order. If two words have the same count, sort them lexicographically.\n",
    " - Return the first k words from the sorted list.\n",
    "\n",
    "**Time Complexity O(N)**     \n",
    "**Space Complexity O(1)**"
   ]
  },
  {
   "cell_type": "code",
   "execution_count": 6,
   "metadata": {},
   "outputs": [
    {
     "name": "stdout",
     "output_type": "stream",
     "text": [
      "['i', 'love']\n",
      "['the', 'is', 'sunny', 'day']\n"
     ]
    }
   ],
   "source": [
    "def top_k_frequent_words(words, k):\n",
    "    word_counts = {}\n",
    "\n",
    "    for word in words:\n",
    "        if word not in word_counts:\n",
    "            word_counts[word] = 0\n",
    "        word_counts[word] += 1\n",
    "\n",
    "    sorted_words = sorted(word_counts.keys(), key=lambda x: (-word_counts[x], x))\n",
    "\n",
    "    return sorted_words[:k]\n",
    "\n",
    "words1 = [\"i\", \"love\", \"leetcode\", \"i\", \"love\", \"coding\"]\n",
    "k1 = 2\n",
    "result1 = top_k_frequent_words(words1, k1)\n",
    "print(result1) \n",
    "\n",
    "words2 = [\"the\", \"day\", \"is\", \"sunny\", \"the\", \"the\", \"the\", \"sunny\", \"is\", \"is\"]\n",
    "k2 = 4\n",
    "result2 = top_k_frequent_words(words2, k2)\n",
    "print(result2) "
   ]
  },
  {
   "cell_type": "markdown",
   "metadata": {},
   "source": [
    "Question 7. **Sliding Window Maximum**\n",
    "\n",
    "You are given an array of integers `nums`, there is a sliding window of size `k` which is moving from the very left of the array to the very right. You can only see the `k` numbers in the window. Each time the sliding window moves right by one position.\n",
    "\n",
    "Return *the max sliding window*.\n",
    "\n",
    "**Example 1:**\n",
    "\n",
    "```\n",
    "Input: nums = [1,3,-1,-3,5,3,6,7], k = 3\n",
    "Output: [3,3,5,5,6,7]\n",
    "Explanation:\n",
    "Window position                Max\n",
    "---------------               -----\n",
    "[1  3  -1] -3  5  3  6 7         3\n",
    " 1 [3  -1  -3] 5  3  6 7         3\n",
    " 1  3 [-1  -3  5] 3  6 7         5\n",
    " 1  3  -1 [-3  5  3] 6 7         5\n",
    " 1  3  -1  -3 [5  3  6]7         6\n",
    " 1  3  -1  -3  5 [3  6  7]       7\n",
    "```\n",
    "\n",
    "**Example 2:**\n",
    "\n",
    "```\n",
    "Input: nums = [1], k = 1\n",
    "Output: [1]\n",
    "```\n",
    "\n",
    "**Constraints:**\n",
    "\n",
    "- `1 <= nums.length <= 100000`\n",
    "- -`10000 <= nums[i] <= 10000`\n",
    "- `1 <= k <= nums.length`\n",
    "</aside>"
   ]
  },
  {
   "cell_type": "markdown",
   "metadata": {},
   "source": [
    "`Approach`:\n",
    "\n",
    " - Initialize an empty deque, deque, to store the indices of elements in the current window.\n",
    " - Initialize an empty list, max_sliding_window, to store the maximum elements for each sliding window.\n",
    " - Iterate over the elements in nums:\n",
    "    - While the deque is not empty and the current element nums[i] is greater than or equal to the element at the back of the deque, remove the element from the back of the deque.\n",
    "    - Add the current index i to the back of the deque.\n",
    "    - If the index at the front of the deque is outside the current window (i.e., it is i - k or earlier), remove it from the front of the deque.\n",
    "    - If the current index i is greater than or equal to k - 1, add the maximum element (the element at the front of the deque) to max_sliding_window.\n",
    " - Return max_sliding_window.\n",
    "\n",
    "**Time Complexity O(N)**     \n",
    "**Space Complexity O(N)**"
   ]
  },
  {
   "cell_type": "code",
   "execution_count": 8,
   "metadata": {},
   "outputs": [
    {
     "name": "stdout",
     "output_type": "stream",
     "text": [
      "[3, 3, 5, 5, 6, 7]\n"
     ]
    }
   ],
   "source": [
    "from collections import deque\n",
    "\n",
    "def max_sliding_window(nums, k):\n",
    "    deq = deque()\n",
    "    max_sliding_window = []\n",
    "\n",
    "    for i in range(len(nums)):\n",
    "        while deq and nums[i] >= nums[deq[-1]]:\n",
    "            deq.pop()\n",
    "\n",
    "        deq.append(i)\n",
    "\n",
    "        if deq[0] <= i - k:\n",
    "            deq.popleft()\n",
    "\n",
    "        if i >= k - 1:\n",
    "            max_sliding_window.append(nums[deq[0]])\n",
    "\n",
    "    return max_sliding_window\n",
    "\n",
    "\n",
    "nums = [1, 3, -1, -3, 5, 3, 6, 7]\n",
    "k = 3\n",
    "result = max_sliding_window(nums, k)\n",
    "print(result)"
   ]
  },
  {
   "cell_type": "markdown",
   "metadata": {},
   "source": [
    "Question 8. **Find K Closest Elements**\n",
    "\n",
    "Given a **sorted** integer array `arr`, two integers `k` and `x`, return the `k` closest integers to `x` in the array. The result should also be sorted in ascending order.\n",
    "\n",
    "An integer `a` is closer to `x` than an integer `b` if:\n",
    "\n",
    "- `|a - x| < |b - x|`, or\n",
    "- `|a - x| == |b - x|` and `a < b`\n",
    "\n",
    "**Example 1:**\n",
    "\n",
    "```\n",
    "Input: arr = [1,2,3,4,5], k = 4, x = 3\n",
    "Output: [1,2,3,4]\n",
    "```\n",
    "\n",
    "**Example 2:**\n",
    "\n",
    "```\n",
    "Input: arr = [1,2,3,4,5], k = 4, x = -1\n",
    "Output: [1,2,3,4]\n",
    "```\n",
    "\n",
    "**Constraints:**\n",
    "\n",
    "- `1 <= k <= arr.length`\n",
    "- `1 <= arr.length <= 10000`\n",
    "- `arr` is sorted in **ascending** order.\n",
    "- -`10000 <= arr[i], x <= 10000`\n",
    "</aside>"
   ]
  },
  {
   "cell_type": "markdown",
   "metadata": {},
   "source": [
    "`Approach`:\n",
    "\n",
    " - Initialize two pointers, left and right, to the start and end of the array arr respectively.\n",
    " - Iterate while the difference between right and left is greater than or equal to k:\n",
    "    - Calculate the absolute difference between the current element at left and x and the absolute difference between the current element at right and x.\n",
    "    - If the difference at left is greater than or equal to the difference at right, decrement right by 1.\n",
    "    - Otherwise, increment left by 1.\n",
    " - Return the subarray of arr from index left to index right + 1.\n",
    "\n",
    "**Time Complexity O(log N)**    \n",
    "**Space Complexity O(1)**"
   ]
  },
  {
   "cell_type": "code",
   "execution_count": 11,
   "metadata": {},
   "outputs": [
    {
     "name": "stdout",
     "output_type": "stream",
     "text": [
      "Output 1 => [1, 2, 3, 4]\n",
      "Output 2 => [1, 2, 7, 4]\n"
     ]
    }
   ],
   "source": [
    "def find_closest_elements(arr, k, x):\n",
    "    left = 0\n",
    "    right = len(arr) - 1\n",
    "\n",
    "    while right - left >= k:\n",
    "        if abs(arr[left] - x) <= abs(arr[right] - x):\n",
    "            right -= 1\n",
    "        else:\n",
    "            left += 1\n",
    "\n",
    "    return arr[left:right + 1]\n",
    "\n",
    "arr1 = [1, 2, 3, 4, 5]\n",
    "k1 = 4\n",
    "x1 = 3\n",
    "result1 = find_closest_elements(arr1, k1, x1)\n",
    "print('Output 1 =>',result1)\n",
    "\n",
    "arr2 = [1, 2, 7, 4, 5]\n",
    "k2 = 4\n",
    "x2 = -1\n",
    "result2 = find_closest_elements(arr2, k2, x2)\n",
    "print(\"Output 2 =>\",result2)"
   ]
  }
 ],
 "metadata": {
  "kernelspec": {
   "display_name": "Python 3",
   "language": "python",
   "name": "python3"
  },
  "language_info": {
   "codemirror_mode": {
    "name": "ipython",
    "version": 3
   },
   "file_extension": ".py",
   "mimetype": "text/x-python",
   "name": "python",
   "nbconvert_exporter": "python",
   "pygments_lexer": "ipython3",
   "version": "3.11.1"
  },
  "orig_nbformat": 4
 },
 "nbformat": 4,
 "nbformat_minor": 2
}

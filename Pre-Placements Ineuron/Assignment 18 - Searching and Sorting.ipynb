{
   "attachments": {},
   "cell_type": "markdown",
   "metadata": {},
   "source": [
    " 1. **Merge Intervals**\n",
    "\n",
    "Given an array of `intervals` where `intervals[i] = [starti, endi]`, merge all overlapping intervals, and return *an array of the non-overlapping intervals that cover all the intervals in the input*.\n",
    "\n",
    "**Example 1:**\n",
    "```\n",
    "Input: intervals = [[1,3],[2,6],[8,10],[15,18]]\n",
    "Output: [[1,6],[8,10],[15,18]]\n",
    "Explanation: Since intervals [1,3] and [2,6] overlap, merge them into [1,6].\n",
    "\n",
    "```\n",
    "**Example 2:**\n",
    "```\n",
    "Input: intervals = [[1,4],[4,5]]\n",
    "Output: [[1,5]]\n",
    "Explanation: Intervals [1,4] and [4,5] are considered overlapping.\n",
    "\n",
    "```"
   ]
  },
  {
   "attachments": {},
   "cell_type": "markdown",
   "metadata": {},
   "source": [
    "`Approach`:\n",
    "1. Sort the intervals based on their start times, so that we can easily identify overlapping intervals.\n",
    "2. Initialize an empty list called merged to store the merged intervals.\n",
    "3. Iterate through each interval in the sorted list:\n",
    "- If the merged list is empty or the current interval does not overlap with the last interval in the merged list, append the current interval to the merged list.\n",
    "- If the current interval overlaps with the last interval in the merged list, update the end time of the last interval to be the maximum of the end times of both intervals.\n",
    "4. Return the merged list, which contains the merged intervals."
   ]
  },
  {
   "attachments": {},
   "cell_type": "markdown",
   "metadata": {},
   "source": [
    "**Time Complexity**: `O(n log n)`\n",
    "\n",
    "**Space Complexity**: `O(n)`"
   ]
  },
  {
   "cell_type": "code",
   "execution_count": 1,
   "metadata": {},
   "outputs": [
    {
     "name": "stdout",
     "output_type": "stream",
     "text": [
      "[[1, 6], [8, 10], [15, 18]]\n",
      "[[1, 5]]\n"
     ]
    }
   ],
   "source": [
    "def merge(intervals):\n",
    "    if not intervals:\n",
    "        return []\n",
    "    \n",
    "    intervals.sort(key=lambda x: x[0])  # Sort intervals based on start times\n",
    "    merged = [intervals[0]]  # Initialize the merged list with the first interval\n",
    "\n",
    "    for interval in intervals[1:]:\n",
    "        if interval[0] <= merged[-1][1]:  # Overlapping intervals\n",
    "            merged[-1][1] = max(merged[-1][1], interval[1])  # Merge the intervals\n",
    "        else:\n",
    "            merged.append(interval)  # Non-overlapping interval, append to merged list\n",
    "\n",
    "    return merged\n",
    "intervals1 = [[1, 3], [2, 6], [8, 10], [15, 18]]\n",
    "print(merge(intervals1))  \n",
    "\n",
    "intervals2 = [[1, 4], [4, 5]]\n",
    "print(merge(intervals2))  "
   ]
  },
  {
   "attachments": {},
   "cell_type": "markdown",
   "metadata": {},
   "source": [
    " 2. **Sort Colors**\n",
    "\n",
    "Given an array `nums` with `n` objects colored red, white, or blue, sort them **[in-place](https://en.wikipedia.org/wiki/In-place_algorithm)** so that objects of the same color are adjacent, with the colors in the order red, white, and blue.\n",
    "\n",
    "We will use the integers `0`, `1`, and `2` to represent the color red, white, and blue, respectively.\n",
    "\n",
    "You must solve this problem without using the library's sort function.\n",
    "\n",
    "**Example 1:**\n",
    "```\n",
    "Input: nums = [2,0,2,1,1,0]\n",
    "Output: [0,0,1,1,2,2]\n",
    "\n",
    "```\n",
    "**Example 2:**\n",
    "```\n",
    "Input: nums = [2,0,1]\n",
    "Output: [0,1,2]\n",
    "\n",
    "```"
   ]
  },
  {
   "attachments": {},
   "cell_type": "markdown",
   "metadata": {},
   "source": [
    "`Approach`:\n",
    "1. Initialize three pointers: low, mid, and high. low points to the starting position of the array, mid points to the current position being processed, and high points to the end of the array.\n",
    "2. Iterate through the array while mid is less than or equal to high:\n",
    "- If nums[mid] is equal to 0, swap nums[low] with nums[mid], increment low by 1 and mid by 1. This moves 0s to the left side of the array.\n",
    "- If nums[mid] is equal to 1, simply increment mid by 1. This keeps 1s in the middle.\n",
    "- If nums[mid] is equal to 2, swap nums[mid] with nums[high], decrement high by 1. This moves 2s to the right side of the array.\n",
    "4. After the loop, the array will be sorted with 0s on the left, 1s in the middle, and 2s on the right."
   ]
  },
  {
   "attachments": {},
   "cell_type": "markdown",
   "metadata": {},
   "source": [
    "**Time Complexity**: `O(n)`\n",
    "\n",
    "**Space Complexity**: `O(1)`"
   ]
  },
  {
   "cell_type": "code",
   "execution_count": 3,
   "metadata": {},
   "outputs": [
    {
     "name": "stdout",
     "output_type": "stream",
     "text": [
      "[0, 0, 1, 1, 2, 2]\n",
      "[0, 1, 2]\n"
     ]
    }
   ],
   "source": [
    "def sortColors(nums):\n",
    "    low = 0\n",
    "    mid = 0\n",
    "    high = len(nums) - 1\n",
    "    \n",
    "    while mid <= high:\n",
    "        if nums[mid] == 0:\n",
    "            nums[mid], nums[low] = nums[low], nums[mid]\n",
    "            low += 1\n",
    "            mid += 1\n",
    "        elif nums[mid] == 1:\n",
    "            mid += 1\n",
    "        else:\n",
    "            nums[mid], nums[high] = nums[high], nums[mid]\n",
    "            high -= 1\n",
    "\n",
    "nums = [2, 0, 2, 1, 1, 0]\n",
    "sortColors(nums)\n",
    "print(nums)  \n",
    "nums = [2, 0, 1]\n",
    "sortColors(nums)\n",
    "print(nums)\n"
   ]
  },
  {
   "attachments": {},
   "cell_type": "markdown",
   "metadata": {},
   "source": [
    " 3. **First Bad Version Solution**\n",
    "\n",
    "You are a product manager and currently leading a team to develop a new product. Unfortunately, the latest version of your product fails the quality check. Since each version is developed based on the previous version, all the versions after a bad version are also bad.\n",
    "\n",
    "Suppose you have `n` versions `[1, 2, ..., n]` and you want to find out the first bad one, which causes all the following ones to be bad.\n",
    "\n",
    "You are given an API `bool isBadVersion(version)` which returns whether `version` is bad. Implement a function to find the first bad version. You should minimize the number of calls to the API.\n",
    "\n",
    "**Example 1:**\n",
    "```\n",
    "Input: n = 5, bad = 4\n",
    "Output: 4\n",
    "Explanation:\n",
    "call isBadVersion(3) -> false\n",
    "call isBadVersion(5) -> true\n",
    "call isBadVersion(4) -> true\n",
    "Then 4 is the first bad version.\n",
    "\n",
    "```\n",
    "**Example 2:**\n",
    "```\n",
    "Input: n = 1, bad = 1\n",
    "Output: 1\n",
    "\n",
    "```"
   ]
  },
  {
   "attachments": {},
   "cell_type": "markdown",
   "metadata": {},
   "source": [
    "`Approach`:\n",
    "1. Initialize two pointers, left and right, pointing to the start and end of the range of versions, respectively. Initially, left = 1 and right = n.\n",
    "2. While left < right, do the following:\n",
    "- a. Calculate the mid version as mid = left + (right - left) // 2.\n",
    "- b. Call the API function isBadVersion(mid) to check if the mid version is bad.\n",
    "- c. If isBadVersion(mid) is True, it means the bad version is either mid or any previous version. Move right to mid.\n",
    "- d. If isBadVersion(mid) is False, it means the bad version is after mid. Move left to mid + 1.\n",
    "3. Once the loop ends, left and right will converge to the first bad version.\n",
    "4. Return left as the first bad version."
   ]
  },
  {
   "attachments": {},
   "cell_type": "markdown",
   "metadata": {},
   "source": [
    "**Time Complexity**: `O(log n)`\n",
    "\n",
    "**Space Complexity**: `O(1)`"
   ]
  },
  {
   "cell_type": "code",
   "execution_count": 14,
   "metadata": {},
   "outputs": [
    {
     "name": "stdout",
     "output_type": "stream",
     "text": [
      "1\n"
     ]
    }
   ],
   "source": [
    "def isBadVersion(n):\n",
    "    left = 1\n",
    "    right = n\n",
    "\n",
    "    while left < right:\n",
    "        mid = left + (right - left) // 2\n",
    "        if isBadVersion(mid):\n",
    "            right = mid\n",
    "        else:\n",
    "            left = mid + 1\n",
    "\n",
    "    return left\n",
    "\n",
    "n = 1\n",
    "bad = 1\n",
    "print(isBadVersion(n))  \n"
   ]
  },
  {
   "attachments": {},
   "cell_type": "markdown",
   "metadata": {},
   "source": [
    "4. **Maximum Gap**\n",
    "\n",
    "Given an integer array `nums`, return *the maximum difference between two successive elements in its sorted form*. If the array contains less than two elements, return `0`.\n",
    "\n",
    "You must write an algorithm that runs in linear time and uses linear extra space.\n",
    "\n",
    "**Example 1:**\n",
    "```\n",
    "Input: nums = [3,6,9,1]\n",
    "Output: 3\n",
    "Explanation: The sorted form of the array is [1,3,6,9], either (3,6) or (6,9) has the maximum difference 3.\n",
    "\n",
    "```\n",
    "**Example 2:**\n",
    "```\n",
    "Input: nums = [10]\n",
    "Output: 0\n",
    "Explanation: The array contains less than 2 elements, therefore return 0.\n",
    "\n",
    "```"
   ]
  },
  {
   "attachments": {},
   "cell_type": "markdown",
   "metadata": {},
   "source": [
    "`Approach`:\n",
    "1. Check the base case: If the length of the input array nums is less than 2, return 0 since there are not enough elements to calculate a gap.\n",
    "2. Find the maximum and minimum values in the nums array. This can be done by iterating over the array once.\n",
    "3. Calculate the bucket size as the ceiling value of (max_num - min_num) / (len(nums) - 1). The bucket size represents the range of values that each bucket will cover.\n",
    "4. Calculate the number of buckets as (max_num - min_num) / bucket_size + 1. The number of buckets is determined by dividing the range of values by the bucket size and adding 1 to account for the inclusive end.\n",
    "5. Initialize an array of buckets, where each bucket is a tuple (min_val, max_val). Initially, set all bucket values to (float('inf'), float('-inf')) to represent an empty bucket.\n",
    "6. Iterate over the nums array and distribute each element into its corresponding bucket. The index of the bucket is calculated as (num - min_num) / bucket_size.\n",
    "7. Iterate over the buckets and calculate the maximum gap between adjacent non-empty buckets. The maximum gap can occur between the maximum value of one bucket and the minimum value of the next bucket. Keep track of the previous maximum value encountered to calculate the gap.\n",
    "8. Return the maximum gap as the result."
   ]
  },
  {
   "attachments": {},
   "cell_type": "markdown",
   "metadata": {},
   "source": [
    "**Time Complexity**: `O(n)`\n",
    "\n",
    "**Space Complexity**: `O(k)`"
   ]
  },
  {
   "cell_type": "code",
   "execution_count": 10,
   "metadata": {},
   "outputs": [
    {
     "name": "stdout",
     "output_type": "stream",
     "text": [
      "3\n",
      "0\n"
     ]
    }
   ],
   "source": [
    "def maximumGap(nums):\n",
    "    if len(nums) < 2:\n",
    "        return 0\n",
    "\n",
    "    # Find the maximum and minimum elements in the array\n",
    "    max_num = max(nums)\n",
    "    min_num = min(nums)\n",
    "\n",
    "    # Calculate the bucket size and number of buckets\n",
    "    bucket_size = max(1, (max_num - min_num) // (len(nums) - 1))\n",
    "    num_buckets = (max_num - min_num) // bucket_size + 1\n",
    "\n",
    "    # Initialize the buckets\n",
    "    buckets = [[float('inf'), float('-inf')] for _ in range(num_buckets)]\n",
    "\n",
    "    # Distribute the elements into the buckets\n",
    "    for num in nums:\n",
    "        index = (num - min_num) // bucket_size\n",
    "        buckets[index][0] = min(buckets[index][0], num)\n",
    "        buckets[index][1] = max(buckets[index][1], num)\n",
    "\n",
    "    # Calculate the maximum gap between buckets\n",
    "    max_gap = 0\n",
    "    prev_max = min_num\n",
    "    for bucket in buckets:\n",
    "        # Skip empty buckets\n",
    "        if bucket[0] == float('inf') and bucket[1] == float('-inf'):\n",
    "            continue\n",
    "        max_gap = max(max_gap, bucket[0] - prev_max)\n",
    "        prev_max = bucket[1]\n",
    "\n",
    "    return max_gap\n",
    "print(maximumGap([3,6,9,1]))\n",
    "print(maximumGap([10]))"
   ]
  },
  {
   "attachments": {},
   "cell_type": "markdown",
   "metadata": {},
   "source": [
    " 5. **Contains Duplicate**\n",
    "\n",
    "Given an integer array `nums`, return `true` if any value appears **at least twice** in the array, and return `false` if every element is distinct.\n",
    "\n",
    "**Example 1:**\n",
    "```\n",
    "Input: nums = [1,2,3,1]\n",
    "Output: true\n",
    "\n",
    "```\n",
    "**Example 2:**\n",
    "```\n",
    "Input: nums = [1,2,3,4]\n",
    "Output: false\n",
    "\n",
    "```\n",
    "**Example 3:**\n",
    "```\n",
    "Input: nums = [1,1,1,3,3,4,3,2,4,2]\n",
    "Output: true\n",
    "\n",
    "```"
   ]
  },
  {
   "attachments": {},
   "cell_type": "markdown",
   "metadata": {},
   "source": [
    "`Approach`:\n",
    "1. Sort the given array nums in non-decreasing order. This allows duplicates to appear consecutively.\n",
    "2. Iterate through the sorted array and compare each element with its adjacent element.\n",
    "3. If any adjacent elements are equal, it means there is a duplicate, and we return True.\n",
    "4. If no duplicates are found after iterating through the entire array, we return False."
   ]
  },
  {
   "attachments": {},
   "cell_type": "markdown",
   "metadata": {},
   "source": [
    "**Time Complexity**: `O(n)`\n",
    "\n",
    "**Space Complexity**: `O(1)`"
   ]
  },
  {
   "cell_type": "code",
   "execution_count": 11,
   "metadata": {},
   "outputs": [
    {
     "name": "stdout",
     "output_type": "stream",
     "text": [
      "True\n",
      "False\n",
      "True\n"
     ]
    }
   ],
   "source": [
    "def containsDuplicate(nums):\n",
    "    nums.sort()  # Sort the array in non-decreasing order\n",
    "\n",
    "    # Check if any adjacent elements are equal\n",
    "    for i in range(1, len(nums)):\n",
    "        if nums[i] == nums[i - 1]:\n",
    "            return True\n",
    "\n",
    "    return False\n",
    "nums = [1, 2, 3, 1]\n",
    "print(containsDuplicate(nums))  \n",
    "\n",
    "nums = [1, 2, 3, 4]\n",
    "print(containsDuplicate(nums))  \n",
    "\n",
    "nums = [1, 1, 1, 3, 3, 4, 3, 2, 4, 2]\n",
    "print(containsDuplicate(nums))  \n"
   ]
  },
  {
   "attachments": {},
   "cell_type": "markdown",
   "metadata": {},
   "source": [
    "6. **Minimum Number of Arrows to Burst Balloons**\n",
    "\n",
    "There are some spherical balloons taped onto a flat wall that represents the XY-plane. The balloons are represented as a 2D integer array `points` where `points[i] = [xstart, xend]` denotes a balloon whose **horizontal diameter** stretches between `xstart` and `xend`. You do not know the exact y-coordinates of the balloons.\n",
    "\n",
    "Arrows can be shot up **directly vertically** (in the positive y-direction) from different points along the x-axis. A balloon with `xstart` and `xend` is **burst** by an arrow shot at `x` if `xstart <= x <= xend`. There is **no limit** to the number of arrows that can be shot. A shot arrow keeps traveling up infinitely, bursting any balloons in its path.\n",
    "\n",
    "Given the array `points`, return *the **minimum** number of arrows that must be shot to burst all balloons*.\n",
    "\n",
    "**Example 1:**\n",
    "```\n",
    "Input: points = [[10,16],[2,8],[1,6],[7,12]]\n",
    "Output: 2\n",
    "Explanation: The balloons can be burst by 2 arrows:\n",
    "- Shoot an arrow at x = 6, bursting the balloons [2,8] and [1,6].\n",
    "- Shoot an arrow at x = 11, bursting the balloons [10,16] and [7,12].\n",
    "\n",
    "```\n",
    "**Example 2:**\n",
    "```\n",
    "Input: points = [[1,2],[3,4],[5,6],[7,8]]\n",
    "Output: 4\n",
    "Explanation: One arrow needs to be shot for each balloon for a total of 4 arrows.\n",
    "\n",
    "```\n",
    "**Example 3:**\n",
    "```\n",
    "Input: points = [[1,2],[2,3],[3,4],[4,5]]\n",
    "Output: 2\n",
    "Explanation: The balloons can be burst by 2 arrows:\n",
    "- Shoot an arrow at x = 2, bursting the balloons [1,2] and [2,3].\n",
    "- Shoot an arrow at x = 4, bursting the balloons [3,4] and [4,5].\n",
    "\n",
    "```"
   ]
  },
  {
   "attachments": {},
   "cell_type": "markdown",
   "metadata": {},
   "source": [
    "`Approach`:\n",
    "1. Sort the array of balloons points based on the end coordinate (xend) in ascending order.\n",
    "2. Initialize a variable end to store the current end coordinate and a variable arrows to count the number of arrows needed (initialize it to 0).\n",
    "3. Iterate through each balloon in the sorted array:\n",
    "- If the current balloon's start coordinate (xstart) is greater than end, it means this balloon is not overlapping with the previous balloons. Therefore, increment arrows by 1 and update end to the current balloon's end coordinate (xend).\n",
    "4. Return the value of arrows."
   ]
  },
  {
   "attachments": {},
   "cell_type": "markdown",
   "metadata": {},
   "source": [
    "**Time Complexity**: `O(n log n)`\n",
    "\n",
    "**Space Complexity**: `O(1)`"
   ]
  },
  {
   "cell_type": "code",
   "execution_count": 14,
   "metadata": {},
   "outputs": [
    {
     "name": "stdout",
     "output_type": "stream",
     "text": [
      "2\n",
      "4\n",
      "2\n"
     ]
    }
   ],
   "source": [
    "def findMinArrowShots(points):\n",
    "    if not points:\n",
    "        return 0\n",
    "\n",
    "    # Sort the balloons based on the end coordinate\n",
    "    points.sort(key=lambda x: x[1])\n",
    "\n",
    "    end = points[0][1]  # Initialize the current end coordinate\n",
    "    arrows = 1  # Initialize the number of arrows needed\n",
    "\n",
    "    # Iterate through each balloon\n",
    "    for i in range(1, len(points)):\n",
    "        if points[i][0] > end:\n",
    "            # Balloon is not overlapping, increment arrows and update end\n",
    "            arrows += 1\n",
    "            end = points[i][1]\n",
    "\n",
    "    return arrows\n",
    "print(findMinArrowShots([[10,16],[2,8],[1,6],[7,12]]))\n",
    "print(findMinArrowShots([[1,2],[3,4],[5,6],[7,8]]))\n",
    "print(findMinArrowShots([[1,2],[2,3],[3,4],[4,5]]))\n",
    "\n"
   ]
  },
  {
   "attachments": {},
   "cell_type": "markdown",
   "metadata": {},
   "source": [
    "7. **Longest Increasing Subsequence**\n",
    "\n",
    "Given an integer array `nums`, return *the length of the longest **strictly increasing***\n",
    "\n",
    "***subsequence***\n",
    "\n",
    ".\n",
    "\n",
    "**Example 1:**\n",
    "```\n",
    "Input: nums = [10,9,2,5,3,7,101,18]\n",
    "Output: 4\n",
    "Explanation: The longest increasing subsequence is [2,3,7,101], therefore the length is 4.\n",
    "\n",
    "```\n",
    "**Example 2:**\n",
    "```\n",
    "Input: nums = [0,1,0,3,2,3]\n",
    "Output: 4\n",
    "\n",
    "```\n",
    "**Example 3:**\n",
    "```\n",
    "Input: nums = [7,7,7,7,7,7,7]\n",
    "Output: 1\n",
    "\n",
    "```"
   ]
  },
  {
   "attachments": {},
   "cell_type": "markdown",
   "metadata": {},
   "source": [
    "`Approach`:\n",
    "1. Create an array dp of the same length as nums and initialize all elements to 1. This is because each individual element is a subsequence of length 1.\n",
    "2. Iterate through each element nums[i] starting from the second element:\n",
    "- For each element nums[i], iterate through all the elements nums[j] before it (from 0 to i-1):\n",
    "  - If nums[i] > nums[j], it means we can extend the increasing subsequence ending at j by including nums[i]. Check if the length of the new subsequence formed is greater than the current length at dp[i]. If so, update dp[i] to the new length.\n",
    "3. Finally, return the maximum value in the dp array, which represents the length of the longest increasing subsequence."
   ]
  },
  {
   "attachments": {},
   "cell_type": "markdown",
   "metadata": {},
   "source": [
    "**Time Complexity**: `O(n^2)`\n",
    "\n",
    "**Space Complexity**: `O(n)`"
   ]
  },
  {
   "cell_type": "code",
   "execution_count": 16,
   "metadata": {},
   "outputs": [
    {
     "name": "stdout",
     "output_type": "stream",
     "text": [
      "4\n",
      "4\n",
      "1\n"
     ]
    }
   ],
   "source": [
    "def lengthOfLIS(nums):\n",
    "    if not nums:\n",
    "        return 0\n",
    "\n",
    "    n = len(nums)\n",
    "    dp = [1] * n\n",
    "\n",
    "    for i in range(1, n):\n",
    "        for j in range(i):\n",
    "            if nums[i] > nums[j]:\n",
    "                dp[i] = max(dp[i], dp[j] + 1)\n",
    "\n",
    "    return max(dp)\n",
    "print(lengthOfLIS([10,9,2,5,3,7,101,18]))\n",
    "print(lengthOfLIS([0,1,0,3,2,3]))\n",
    "print(lengthOfLIS([7,7,7,7,7,7,7]))"
   ]
  },
  {
   "attachments": {},
   "cell_type": "markdown",
   "metadata": {},
   "source": [
    " 8. **132 Pattern**\n",
    "\n",
    "Given an array of `n` integers `nums`, a **132 pattern** is a subsequence of three integers `nums[i]`, `nums[j]` and `nums[k]` such that `i < j < k` and `nums[i] < nums[k] < nums[j]`.\n",
    "\n",
    "Return `true` *if there is a **132 pattern** in* `nums`*, otherwise, return* `false`*.*\n",
    "\n",
    "**Example 1:**\n",
    "\n",
    "```\n",
    "Input: nums = [1,2,3,4]\n",
    "Output: false\n",
    "Explanation: There is no 132 pattern in the sequence.\n",
    "\n",
    "```\n",
    "**Example 2:**\n",
    "```\n",
    "Input: nums = [3,1,4,2]\n",
    "Output: true\n",
    "Explanation: There is a 132 pattern in the sequence: [1, 4, 2].\n",
    "\n",
    "```\n",
    "**Example 3:**\n",
    "```\n",
    "Input: nums = [-1,3,2,0]\n",
    "Output: true\n",
    "Explanation: There are three 132 patterns in the sequence: [-1, 3, 2], [-1, 3, 0] and [-1, 2, 0].\n",
    "\n",
    "```"
   ]
  },
  {
   "attachments": {},
   "cell_type": "markdown",
   "metadata": {},
   "source": [
    "`Approach`:\n",
    "1. Initialize an empty stack and a variable max_k to track the maximum value encountered so far.\n",
    "2. Iterate over the array nums from left to right.\n",
    "3. For each element num in nums, perform the following steps:\n",
    "- Check if num is less than max_k. If it is, then we have found a valid 132 pattern (with num as nums[i] and max_k as nums[j]).\n",
    "- Return True.\n",
    "- If num is greater than the top of the stack, it means we have a potential candidate for nums[k]. Pop elements from the stack as long as the top of the stack is less than num, and update max_k with the popped elements.\n",
    "- Push num onto the stack.\n",
    "4. If we reach the end of the array without finding a valid 132 pattern, return False."
   ]
  },
  {
   "attachments": {},
   "cell_type": "markdown",
   "metadata": {},
   "source": [
    "**Time Complexity**: `O(n)`\n",
    "\n",
    "**Space Complexity**: `O(n)`"
   ]
  },
  {
   "cell_type": "code",
   "execution_count": 2,
   "metadata": {},
   "outputs": [
    {
     "name": "stdout",
     "output_type": "stream",
     "text": [
      "False\n",
      "True\n",
      "True\n"
     ]
    }
   ],
   "source": [
    "def find132pattern(nums):\n",
    "    stack = []\n",
    "    max_k = float('-inf')\n",
    "\n",
    "    for i in range(len(nums) - 1, -1, -1):\n",
    "        if nums[i] < max_k:\n",
    "            return True\n",
    "\n",
    "        while stack and nums[i] > stack[-1]:\n",
    "            max_k = stack.pop()\n",
    "\n",
    "        stack.append(nums[i])\n",
    "\n",
    "    return False\n",
    "nums = [1, 2, 3, 4]\n",
    "print(find132pattern(nums))  \n",
    "\n",
    "nums = [3, 1, 4, 2]\n",
    "print(find132pattern(nums))  \n",
    "\n",
    "nums = [-1, 3, 2, 0]\n",
    "print(find132pattern(nums))  \n"
   ]
  }
 ],
 "metadata": {
  "kernelspec": {
   "display_name": "base",
   "language": "python",
   "name": "python3"
  },
  "language_info": {
   "codemirror_mode": {
    "name": "ipython",
    "version": 3
   },
   "file_extension": ".py",
   "mimetype": "text/x-python",
   "name": "python",
   "nbconvert_exporter": "python",
   "pygments_lexer": "ipython3",
   "version": "3.10.9"
  },
  "orig_nbformat": 4
 },
 "nbformat": 4,
 "nbformat_minor": 2
}

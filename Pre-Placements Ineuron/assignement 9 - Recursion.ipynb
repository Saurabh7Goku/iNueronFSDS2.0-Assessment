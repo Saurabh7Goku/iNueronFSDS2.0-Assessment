{
 "cells": [
  {
   "attachments": {},
   "cell_type": "markdown",
   "metadata": {},
   "source": [
    "**Question 1**\n",
    "\n",
    "Given an integer `n`, return *`true` if it is a power of two. Otherwise, return `false`*.\n",
    "\n",
    "An integer `n` is a power of two, if there exists an integer `x` such that `n == 2x`.\n",
    "\n",
    "**Example 1:**\n",
    "Input: n = 1 \n",
    "\n",
    "Output: true\n",
    "\n",
    "**Example 2:**\n",
    "Input: n = 16 \n",
    "\n",
    "Output: true\n",
    "\n",
    "**Example 3:**\n",
    "Input: n = 3 \n",
    "\n",
    "Output: false\n",
    "\n"
   ]
  },
  {
   "attachments": {},
   "cell_type": "markdown",
   "metadata": {},
   "source": [
    "`Approach`:\n",
    " - Check if n is less than or equal to 0. If it is, return false since negative numbers and 0 cannot be powers of two.\n",
    " - Use a loop to divide n by 2 repeatedly until it becomes 1 or an odd number. If n becomes an odd number before reaching 1, it means n cannot be expressed as a power of two. Return false.\n",
    " - If the loop completes and n becomes 1, return true since n is a power of two.\n",
    "\n",
    "**Time Complexity**: `O(log n)`.     \n",
    "**Space Complexity**: `O(1)`."
   ]
  },
  {
   "cell_type": "code",
   "execution_count": 14,
   "metadata": {},
   "outputs": [
    {
     "name": "stdout",
     "output_type": "stream",
     "text": [
      "Output => False\n",
      "Output => False\n"
     ]
    }
   ],
   "source": [
    "def isPowerOfTwo(n):\n",
    "    if n <= 0:\n",
    "        return False\n",
    "\n",
    "    while n % 2 == 0:\n",
    "        n //= 2\n",
    "\n",
    "    return n == 1\n",
    "  \n",
    "print('Output =>',isPowerOfTwo(19))  \n",
    "print('Output =>',isPowerOfTwo(27))  "
   ]
  },
  {
   "attachments": {},
   "cell_type": "markdown",
   "metadata": {},
   "source": [
    "**Question 2**\n",
    "\n",
    "Given a number n, find the sum of the first natural numbers.\n",
    "\n",
    "**Example 1:**\n",
    "\n",
    "Input: n = 3 \n",
    "\n",
    "Output: 6\n",
    "\n",
    "**Example 2:**\n",
    "\n",
    "Input  : 5 \n",
    "\n",
    "Output : 15\n",
    "\n"
   ]
  },
  {
   "attachments": {},
   "cell_type": "markdown",
   "metadata": {},
   "source": [
    "`Approach`:\n",
    "\n",
    " - Initialize a variable sum to 0 to store the cumulative sum.\n",
    " - Initialize a variable i to 1 to represent the current number.\n",
    " - Iterate i from 1 to n (inclusive).\n",
    "    - Add i to the sum.\n",
    " - After the loop completes, sum will contain the sum of the first n natural numbers.\n",
    "\n",
    "**Time Complexity**: `O(n)`.      \n",
    "**Space Complexity**: `O(1)`."
   ]
  },
  {
   "cell_type": "code",
   "execution_count": 15,
   "metadata": {},
   "outputs": [
    {
     "name": "stdout",
     "output_type": "stream",
     "text": [
      "Output => 78\n",
      "Output => 15\n"
     ]
    }
   ],
   "source": [
    "def sumOfFirstN(n):\n",
    "    sum = 0\n",
    "    for i in range(1, n + 1):\n",
    "        sum += i\n",
    "    return sum\n",
    "print('Output =>',sumOfFirstN(12))  \n",
    "print('Output =>',sumOfFirstN(5))  "
   ]
  },
  {
   "attachments": {},
   "cell_type": "markdown",
   "metadata": {},
   "source": [
    "**Question 3**\n",
    "\n",
    "****Given a positive integer, N. Find the factorial of N. \n",
    "\n",
    "**Example 1:**\n",
    "\n",
    "Input: N = 5 \n",
    "\n",
    "Output: 120\n",
    "\n",
    "**Example 2:**\n",
    "\n",
    "Input: N = 4\n",
    "\n",
    "Output: 24\n"
   ]
  },
  {
   "attachments": {},
   "cell_type": "markdown",
   "metadata": {},
   "source": [
    "`Approach`:\n",
    " - If N is 0 or 1, return 1 since the factorial of 0 and 1 is 1.\n",
    " - Initialize a variable result to 1 to store the factorial value.\n",
    " - Use a loop to iterate from 2 to N (inclusive).\n",
    "    - Multiply result by the current number in each iteration.\n",
    " - After the loop completes, result will contain the factorial of N.\n",
    " - Return the value of result as the factorial of N.\n",
    "\n",
    "**Time Complexity**: `O(n)`    \n",
    "**Space Complexity**: `O(1)`"
   ]
  },
  {
   "cell_type": "code",
   "execution_count": 16,
   "metadata": {},
   "outputs": [
    {
     "name": "stdout",
     "output_type": "stream",
     "text": [
      "Output => 6402373705728000\n",
      "Output => 5040\n"
     ]
    }
   ],
   "source": [
    "def factorial(N):\n",
    "    if N == 0 or N == 1:\n",
    "        return 1\n",
    "\n",
    "    result = 1\n",
    "    for i in range(2, N + 1):\n",
    "        result *= i\n",
    "\n",
    "    return result\n",
    "print('Output =>',factorial(18))  \n",
    "print('Output =>',factorial(7))  "
   ]
  },
  {
   "attachments": {},
   "cell_type": "markdown",
   "metadata": {},
   "source": [
    "**Question 4**\n",
    "\n",
    "Given a number N and a power P, the task is to find the exponent of this number raised to the given power, i.e. N^P.\n",
    "\n",
    "**Example 1 :** \n",
    "\n",
    "Input: N = 5, P = 2\n",
    "\n",
    "Output: 25\n",
    "\n",
    "**Example 2 :**\n",
    "Input: N = 2, P = 5\n",
    "\n",
    "Output: 32\n",
    "\n"
   ]
  },
  {
   "attachments": {},
   "cell_type": "markdown",
   "metadata": {},
   "source": [
    "`Approach`:\n",
    "\n",
    "\n",
    " - Initialize a variable result to 1 to store the computed result.\n",
    " - Use a loop to iterate P times.\n",
    "    - Multiply result by N in each iteration.\n",
    " - After the loop completes, result will contain the exponent of N raised to the power P.\n",
    " - Return the value of result as the final result.\n",
    "\n",
    "**Time Complexity**: `O(n)`     \n",
    "**Space Complexity**: `O(1)`"
   ]
  },
  {
   "cell_type": "code",
   "execution_count": 17,
   "metadata": {},
   "outputs": [
    {
     "name": "stdout",
     "output_type": "stream",
     "text": [
      "Output => 100000\n",
      "Output => 3125\n"
     ]
    }
   ],
   "source": [
    "def calculateExponent(N, P):\n",
    "    result = 1\n",
    "    for i in range(P):\n",
    "        result *= N\n",
    "    return result\n",
    "print('Output =>',calculateExponent(10, 5))  \n",
    "print('Output =>',calculateExponent(5, 5))"
   ]
  },
  {
   "attachments": {},
   "cell_type": "markdown",
   "metadata": {},
   "source": [
    "**Question 5**\n",
    "\n",
    "Given an array of integers **arr**, the task is to find maximum element of that array using recursion.\n",
    "\n",
    "**Example 1:**\n",
    "\n",
    "Input: arr = {1, 4, 3, -5, -4, 8, 6};\n",
    "\n",
    "Output: 8\n",
    "\n",
    "**Example 2:**\n",
    "\n",
    "Input: arr = {1, 4, 45, 6, 10, -8};\n",
    "\n",
    "Output: 45\n",
    "\n"
   ]
  },
  {
   "attachments": {},
   "cell_type": "markdown",
   "metadata": {},
   "source": [
    "`Approach`:\n",
    "\n",
    "\n",
    " - If the size of the array n is 1, return the single element as the maximum.\n",
    " - Otherwise, compare the last element (arr[n-1]) with the maximum element of the subarray excluding the last element (findMax(arr, n-1)).\n",
    " - Return the maximum of the two values obtained in step 2.\n",
    " - The base case is when n becomes 1, in which case the single element is returned as the maximum.\n",
    "\n",
    "**Time Complexity**: `O(n)`.   \n",
    "**Space Complexity**: `O(n)`."
   ]
  },
  {
   "cell_type": "code",
   "execution_count": 18,
   "metadata": {},
   "outputs": [
    {
     "name": "stdout",
     "output_type": "stream",
     "text": [
      "Output => 8\n",
      "Output => 45\n"
     ]
    }
   ],
   "source": [
    "def findMax(arr, n):\n",
    "    if n == 1:\n",
    "        return arr[0]\n",
    "    \n",
    "    return max(arr[n-1], findMax(arr, n-1))\n",
    "arr1 = [1, 4, 3, -5, -4, 8, 6]\n",
    "print('Output =>',findMax(arr1, len(arr1)))  \n",
    "\n",
    "arr2 = [1, 4, 45, 6, 10, -8]\n",
    "print('Output =>',findMax(arr2, len(arr2)))  "
   ]
  },
  {
   "attachments": {},
   "cell_type": "markdown",
   "metadata": {},
   "source": [
    "**Question 6**\n",
    "\n",
    "Given first term (a), common difference (d) and a integer N of the Arithmetic Progression series, the task is to find Nth term of the series.\n",
    "\n",
    "**Example 1:**\n",
    "\n",
    "Input : a = 2 d = 1 N = 5\n",
    "\n",
    "Output : 6\n",
    "\n",
    "The 5th term of the series is : 6\n",
    "\n",
    "**Example 2:**\n",
    "\n",
    "Input : a = 5 d = 2 N = 10\n",
    "\n",
    "Output : 23\n",
    "\n",
    "The 10th term of the series is : 23\n",
    "\n"
   ]
  },
  {
   "attachments": {},
   "cell_type": "markdown",
   "metadata": {},
   "source": [
    "`Approach`:\n",
    " - Initialize a variable nth_term to store the Nth term of the AP series.\n",
    " - Calculate the Nth term using the formula: nth_term = a + (N - 1) * d.\n",
    "    - a is the first term of the series.\n",
    "    - d is the common difference between consecutive terms.\n",
    "    - N is the term number you want to find.\n",
    " - Return the value of nth_term as the result.\n",
    "\n",
    "**Time Complexity**: `O(1)`.    \n",
    "**Space Complexity**: `O(1)`."
   ]
  },
  {
   "cell_type": "code",
   "execution_count": 19,
   "metadata": {},
   "outputs": [
    {
     "name": "stdout",
     "output_type": "stream",
     "text": [
      "Output => 6\n",
      "Output => 23\n"
     ]
    }
   ],
   "source": [
    "def findNthTerm(a, d, N):\n",
    "    nth_term = a + (N - 1) * d\n",
    "    return nth_term\n",
    "print('Output =>',findNthTerm(2, 1, 5))  \n",
    "print('Output =>',findNthTerm(5, 2, 10))  "
   ]
  },
  {
   "attachments": {},
   "cell_type": "markdown",
   "metadata": {},
   "source": [
    "**Question 7**\n",
    "\n",
    "Given a string S, the task is to write a program to print all permutations of a given string.\n",
    "\n",
    "**Example 1:**\n",
    "\n",
    "***Input:***\n",
    "\n",
    "*S = “ABC”*\n",
    "\n",
    "***Output:***\n",
    "\n",
    "*“ABC”, “ACB”, “BAC”, “BCA”, “CBA”, “CAB”*\n",
    "\n",
    "**Example 2:**\n",
    "\n",
    "***Input:***\n",
    "\n",
    "*S = “XY”*\n",
    "\n",
    "***Output:***\n",
    "\n",
    "*“XY”, “YX”*\n",
    "\n"
   ]
  },
  {
   "attachments": {},
   "cell_type": "markdown",
   "metadata": {},
   "source": [
    "`Approach`:\n",
    "\n",
    "\n",
    " - Initialize an empty list to store the permutations.\n",
    " - Call a recursive function, permute, with the original string, an empty string as the current permutation, and starting index 0.\n",
    " - In the permute function:\n",
    "    - If the current index is equal to the length of the string, add the current permutation to the list of permutations.\n",
    "    - Otherwise, iterate from the current index to the end of the string:\n",
    "        - Swap the characters at the current index and the iteration index.\n",
    "        - Recursively call the permute function with the updated current permutation and the next index.\n",
    "        - Swap the characters back to restore the original string before the next iteration.\n",
    " - Finally, return the list of permutations.\n",
    "\n",
    "**Time Complexity**: `O(n)`.    \n",
    "**Space Complexity**: `O(n)`."
   ]
  },
  {
   "cell_type": "code",
   "execution_count": 20,
   "metadata": {},
   "outputs": [
    {
     "name": "stdout",
     "output_type": "stream",
     "text": [
      "Output => ['ABC', 'ACB', 'BAC', 'BCA', 'CBA', 'CAB']\n",
      "Output => ['XY', 'YX']\n"
     ]
    }
   ],
   "source": [
    "def permute(S):\n",
    "    permutations = []\n",
    "    permuteUtil(S, \"\", 0, permutations)\n",
    "    return permutations\n",
    "\n",
    "def permuteUtil(S, current, index, permutations):\n",
    "    if index == len(S):\n",
    "        permutations.append(current)\n",
    "        return\n",
    "\n",
    "    for i in range(index, len(S)):\n",
    "        S_list = list(S)\n",
    "        S_list[index], S_list[i] = S_list[i], S_list[index]\n",
    "        new_str = ''.join(S_list)\n",
    "        permuteUtil(new_str, current + new_str[index], index + 1, permutations)\n",
    "\n",
    "S = \"ABC\"\n",
    "print('Output =>',permute(S))  \n",
    "S = \"XY\"\n",
    "print('Output =>',permute(S))  "
   ]
  },
  {
   "attachments": {},
   "cell_type": "markdown",
   "metadata": {},
   "source": [
    "**Question 8**\n",
    "\n",
    "Given an array, find a product of all array elements.\n",
    "\n",
    "**Example 1:**\n",
    "\n",
    "Input  : arr[] = {1, 2, 3, 4, 5}\n",
    "Output : 120\n",
    "\n",
    "**Example 2:**\n",
    "\n",
    "Input  : arr[] = {1, 6, 3}\n",
    "Output : 18\n",
    "\n"
   ]
  },
  {
   "attachments": {},
   "cell_type": "markdown",
   "metadata": {},
   "source": [
    "`Approach`:\n",
    "\n",
    "\n",
    " - Initialize a variable product to 1.\n",
    " - Iterate through each element num in the array:\n",
    "    - Multiply product by num.\n",
    " - After iterating through all elements, product will hold the product of all array elements.\n",
    " - Return product as the result.\n",
    "\n",
    "**Time Complexity**: `O(n)`.    \n",
    "**Space Complexity**: `O(1)`."
   ]
  },
  {
   "cell_type": "code",
   "execution_count": 21,
   "metadata": {},
   "outputs": [
    {
     "name": "stdout",
     "output_type": "stream",
     "text": [
      "Output => 120\n",
      "Output => 18\n"
     ]
    }
   ],
   "source": [
    "def findProduct(arr):\n",
    "    product = 1\n",
    "    for num in arr:\n",
    "        product *= num\n",
    "    return product\n",
    "arr1 = [1, 2, 3, 4, 5]\n",
    "print('Output =>',findProduct(arr1))  \n",
    "arr2 = [1, 6, 3]\n",
    "print('Output =>',findProduct(arr2))  "
   ]
  }
 ],
 "metadata": {
  "kernelspec": {
   "display_name": "base",
   "language": "python",
   "name": "python3"
  },
  "language_info": {
   "codemirror_mode": {
    "name": "ipython",
    "version": 3
   },
   "file_extension": ".py",
   "mimetype": "text/x-python",
   "name": "python",
   "nbconvert_exporter": "python",
   "pygments_lexer": "ipython3",
   "version": "3.9.16"
  },
  "orig_nbformat": 4
 },
 "nbformat": 4,
 "nbformat_minor": 2
}

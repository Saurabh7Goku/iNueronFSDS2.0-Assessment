{
 "cells": [
  {
   "attachments": {},
   "cell_type": "markdown",
   "metadata": {},
   "source": [
    "**Question 1**\n",
    "\n",
    "Given an integer `n`, return *`true` if it is a power of three. Otherwise, return `false`*.\n",
    "\n",
    "An integer `n` is a power of three, if there exists an integer `x` such that `n == 3x`.\n",
    "\n",
    "**Example 1:**\n",
    "Input: n = 27\n",
    "Output: true\n",
    "Explanation: 27 = 33\n"
   ]
  },
  {
   "attachments": {},
   "cell_type": "markdown",
   "metadata": {},
   "source": [
    "`Approach`:\n",
    "\n",
    " - Check if the given number n is less than or equal to 0. If so, return False because powers of three are strictly positive integers.\n",
    " - While n is divisible by 3, repeatedly divide n by 3.\n",
    " - After the loop, check if the final value of n is equal to 1. If so, return True because n is a power of three. Otherwise, return False.\n",
    "\n",
    "\n",
    "**Time Complexity --> O(n)**     \n",
    "**Space Complexity --> O(1)**"
   ]
  },
  {
   "cell_type": "code",
   "execution_count": 2,
   "metadata": {},
   "outputs": [
    {
     "name": "stdout",
     "output_type": "stream",
     "text": [
      "True\n",
      "False\n",
      "False\n"
     ]
    }
   ],
   "source": [
    "def is_power_of_three(n):\n",
    "    if n <= 0:\n",
    "        return False\n",
    "    while n % 3 == 0:\n",
    "        n /= 3\n",
    "    return n == 1\n",
    "\n",
    "print(is_power_of_three(n=27))\n",
    "print(is_power_of_three(n=0))\n",
    "print(is_power_of_three(n=-1))"
   ]
  },
  {
   "attachments": {},
   "cell_type": "markdown",
   "metadata": {},
   "source": [
    "**Question 2**\n",
    "\n",
    "You have a list `arr` of all integers in the range `[1, n]` sorted in a strictly increasing order. Apply the following algorithm on `arr`:\n",
    "\n",
    "- Starting from left to right, remove the first number and every other number afterward until you reach the end of the list.\n",
    "- Repeat the previous step again, but this time from right to left, remove the rightmost number and every other number from the remaining numbers.\n",
    "- Keep repeating the steps again, alternating left to right and right to left, until a single number remains.\n",
    "\n",
    "Given the integer `n`, return *the last number that remains in* `arr`.\n",
    "\n",
    "Input: n = 9    \n",
    "Output: 6    \n",
    "Explanation:    \n",
    "arr = [1, 2,3, 4,5, 6,7, 8,9]     \n",
    "arr = [2,4, 6,8]    \n",
    "arr = [2, 6]    \n",
    "arr = [6]   "
   ]
  },
  {
   "attachments": {},
   "cell_type": "markdown",
   "metadata": {},
   "source": [
    "`Approach`:\n",
    "\n",
    " - Create a list arr containing integers in the range [1, n] in strictly increasing order.\n",
    " - Initialize a variable left_to_right to True to keep track of the direction of removal.\n",
    " - While the length of arr is greater than 1, repeat the following steps:\n",
    "    - If left_to_right is True, start from index 0 and iterate over arr with a step of 2. Remove every second element from arr starting from index 1.\n",
    "    - If left_to_right is False, start from the last index of arr and iterate backwards with a step of 2. Remove every second element from arr starting from the second-to-last index.\n",
    "    - Toggle the value of left_to_right to alternate the direction of removal.\n",
    " - Return the remaining element in arr as the last number.\n",
    "\n",
    "**Time Complexity --> the time complexity of the algorithm is O(log n).**    \n",
    "**Space Complexity --> O(n)**"
   ]
  },
  {
   "cell_type": "code",
   "execution_count": 6,
   "metadata": {},
   "outputs": [
    {
     "name": "stdout",
     "output_type": "stream",
     "text": [
      "Output =>  6\n",
      "Output =>  1\n"
     ]
    }
   ],
   "source": [
    "def last_remaining_number(n):\n",
    "    left_to_right = True\n",
    "    remaining = n\n",
    "    step = 1\n",
    "    head = 1\n",
    "\n",
    "    while remaining > 1:\n",
    "        if left_to_right or remaining % 2 == 1:\n",
    "            head += step\n",
    "        remaining //= 2\n",
    "        step *= 2\n",
    "        left_to_right = not left_to_right\n",
    "\n",
    "    return head\n",
    "\n",
    "\n",
    "\n",
    "print('Output => ',last_remaining_number(n=9))\n",
    "print('Output => ',last_remaining_number(n=1))"
   ]
  },
  {
   "attachments": {},
   "cell_type": "markdown",
   "metadata": {},
   "source": [
    "**Question 3**\n",
    "\n",
    "**Given a set represented as a string, write a recursive code to print all subsets of it. The subsets can be printed in any order.**\n",
    "\n",
    "**Example 1:**\n",
    "\n",
    "Input :  set = “abc”\n",
    "\n",
    "Output : { “”, “a”, “b”, “c”, “ab”, “ac”, “bc”, “abc”}\n",
    "\n",
    "**Example 2:**\n",
    "\n",
    "Input : set = “abcd”\n",
    "\n",
    "Output : { “”, “a” ,”ab” ,”abc” ,”abcd”, “abd” ,”ac” ,”acd”, “ad” ,”b”, “bc” ,”bcd” ,”bd” ,”c” ,”cd” ,”d” }"
   ]
  },
  {
   "attachments": {},
   "cell_type": "markdown",
   "metadata": {},
   "source": [
    "`Approach`:\n",
    "\n",
    " - Initialize an empty list called result to store the subsets.\n",
    " - Define a recursive function called generate_subsets that takes three parameters: the input set s, the current subset curr_subset, and the current index index.\n",
    " - If the current index is equal to the length of the set, add the curr_subset to the result list and return.\n",
    " - Make two recursive calls:\n",
    "    - In the first call, include the current element s[index] in the curr_subset and increment the index by 1.\n",
    "    - In the second call, exclude the current element s[index] from the curr_subset and increment the index by 1.\n",
    " - Call the generate_subsets function initially with an empty curr_subset and index 0.\n",
    " - Return the result list containing all subsets.\n",
    "\n",
    "**Time Complexity --->O(n^2) The time complexity is O(2^N), where N is the number of elements in the input set s**    \n",
    "**Space Complexity --->O(2^n)**"
   ]
  },
  {
   "cell_type": "code",
   "execution_count": 11,
   "metadata": {},
   "outputs": [
    {
     "name": "stdout",
     "output_type": "stream",
     "text": [
      "abc\n",
      "ab\n",
      "ac\n",
      "a\n",
      "bc\n",
      "b\n",
      "c\n",
      "\n",
      "--------------------------------------------------------------------------------------------------------------------------------------------------------------------------------------------------------\n",
      "abcd\n",
      "abc\n",
      "abd\n",
      "ab\n",
      "acd\n",
      "ac\n",
      "ad\n",
      "a\n",
      "bcd\n",
      "bc\n",
      "bd\n",
      "b\n",
      "cd\n",
      "c\n",
      "d\n",
      "\n"
     ]
    }
   ],
   "source": [
    "def print_all_subsets(s, curr_subset, index):\n",
    "    if index == len(s):\n",
    "        print(curr_subset)\n",
    "        return\n",
    "\n",
    "    print_all_subsets(s, curr_subset + s[index], index + 1)\n",
    "\n",
    "    print_all_subsets(s, curr_subset, index + 1)\n",
    "\n",
    "def generate_subsets(s):\n",
    "    print_all_subsets(s, \"\", 0)\n",
    "\n",
    "# Test the code with example inputs\n",
    "generate_subsets(\"abc\")\n",
    "print('----'*50)\n",
    "generate_subsets(\"abcd\")"
   ]
  },
  {
   "attachments": {},
   "cell_type": "markdown",
   "metadata": {},
   "source": [
    "**Question 4**\n",
    "\n",
    "Given a string calculate length of the string using recursion.    \n",
    "Input : str = \"abcd\"   \n",
    "Output :4   \n",
    "\n",
    "Input : str = \"GEEKSFORGEEKS\"     \n",
    "Output :13"
   ]
  },
  {
   "attachments": {},
   "cell_type": "markdown",
   "metadata": {},
   "source": [
    "`Approach`:\n",
    "\n",
    " - Define a recursive function called calculate_length that takes a string s as a parameter.\n",
    " - If the string s is empty, return 0 as the length of the string.\n",
    " - Otherwise, return 1 plus the length of the string obtained by recursively calling calculate_length on the substring of s excluding the first character.\n",
    " - Call the calculate_length function with the input string.\n",
    " - Return the result.\n",
    "\n",
    "**Time Complexity ---> O(n)**     \n",
    "**Space Complexity ---> O(n)**"
   ]
  },
  {
   "cell_type": "code",
   "execution_count": 12,
   "metadata": {},
   "outputs": [
    {
     "name": "stdout",
     "output_type": "stream",
     "text": [
      "5\n",
      "0\n"
     ]
    }
   ],
   "source": [
    "def calculate_length(s):\n",
    "    if s == '':\n",
    "        return 0\n",
    "    else:\n",
    "        return 1 + calculate_length(s[1:])\n",
    "\n",
    "# Test the code\n",
    "print(calculate_length(\"Hello\"))\n",
    "print(calculate_length(\"\"))"
   ]
  },
  {
   "attachments": {},
   "cell_type": "markdown",
   "metadata": {},
   "source": [
    "**Question 5**\n",
    "\n",
    "We are given a string S, we need to find count of all contiguous substrings starting and ending with same character.   \n",
    "\n",
    "**Examples :**\n",
    "Input  : S = \"abcab\"    \n",
    "Output : 7    \n",
    "There are 15 substrings of \"abcab\"    \n",
    "a, ab, abc, abca, abcab, b, bc, bca    \n",
    "bcab, c, ca, cab, a, ab, b    \n",
    "Out of the above substrings, there     \n",
    "are 7 substrings : a, abca, b, bcab,    \n",
    "c, a and b.    \n",
    "\n",
    "Input  : S = \"aba\"    \n",
    "Output : 4    \n",
    "The substrings are a, b, a and aba    "
   ]
  },
  {
   "attachments": {},
   "cell_type": "markdown",
   "metadata": {},
   "source": [
    "`Approach`:\n",
    "\n",
    " - Initialize a variable count to 0 to keep track of the count of substrings.\n",
    " - Iterate over each character in the string S with index i.\n",
    "    - For each character S[i], increment the count by 1 since the single character itself is a valid substring.\n",
    "    - Check if the current character S[i] is the same as the previous character S[i-1] (if i > 0). If so, it means we have found additional substrings.\n",
    "        - Initialize a variable j to 2 to represent the length of the substrings starting with S[i-1] and ending with S[i].\n",
    "        - Increment j until the end of the string S or until S[j+i-1] is not equal to S[i-1].\n",
    "        - For each value of j, increment the count by 1 since the substring S[i-1:j+i-1] is a valid contiguous substring starting and ending with the same character.\n",
    " - Return the final value of count.\n",
    "\n",
    "**Time Complexity --> O(n)**         \n",
    "**Space Complexity --> O(1)**"
   ]
  },
  {
   "cell_type": "code",
   "execution_count": 13,
   "metadata": {},
   "outputs": [
    {
     "name": "stdout",
     "output_type": "stream",
     "text": [
      "5\n",
      "3\n"
     ]
    }
   ],
   "source": [
    "def count_contiguous_substrings(S):\n",
    "    count = 0\n",
    "    n = len(S)\n",
    "\n",
    "    for i in range(n):\n",
    "        count += 1 \n",
    "        j = 2\n",
    "        while i + j <= n:\n",
    "            if S[i] == S[i + j - 1]:\n",
    "                count += 1\n",
    "                j += 1\n",
    "            else:\n",
    "                break\n",
    "\n",
    "    return count\n",
    "\n",
    "print(count_contiguous_substrings(\"abcab\")) \n",
    "print(count_contiguous_substrings(\"aba\"))    "
   ]
  },
  {
   "attachments": {},
   "cell_type": "markdown",
   "metadata": {},
   "source": [
    "**Question 6**\n",
    "\n",
    "The [tower of Hanoi](https://en.wikipedia.org/wiki/Tower_of_Hanoi) is a famous puzzle where we have three rods and **N** disks. The objective of the puzzle is to move the entire stack to another rod. You are given the number of discs **N**. Initially, these discs are in the rod 1. You need to print all the steps of discs movement so that all the discs reach the 3rd rod. Also, you need to find the total moves.**Note:** The discs are arranged such that the **top disc is numbered 1** and the **bottom-most disc is numbered N**. Also, all the discs have **different sizes** and a bigger disc **cannot** be put on the top of a smaller disc. Refer the provided link to get a better clarity about the puzzle.\n",
    "\n",
    "**Example 1:**\n",
    "Input:    \n",
    "N = 2    \n",
    "Output:   \n",
    "move disk 1 from rod 1 to rod 2    \n",
    "move disk 2 from rod 1 to rod 3    \n",
    "move disk 1 from rod 2 to rod 3    \n",
    "3   \n",
    "Explanation:For N=2 , steps will be    \n",
    "as follows in the example and total    \n",
    "3 steps will be taken.    "
   ]
  },
  {
   "attachments": {},
   "cell_type": "markdown",
   "metadata": {},
   "source": [
    "`Approach`:\n",
    "\n",
    " - Define a recursive function tower_of_hanoi that takes the following parameters: \n",
    "    - n: the number of disks to be moved.\n",
    "    - source: the source rod (where the disks are initially placed).\n",
    "    - destination: the destination rod (where the disks should be moved).\n",
    "    - auxiliary: the auxiliary rod (used for temporary storage).\n",
    " - If n is 1, i.e., there is only one disk to move, print the step to move the disk from the source rod to the destination rod.\n",
    " - Otherwise, follow these steps recursively:\n",
    "    - Move n-1 disks from the source rod to the auxiliary rod using the destination rod as the temporary storage.\n",
    "    - Print the step to move the remaining disk (the largest one) from the source rod to the destination rod.\n",
    "    - Move the n-1 disks from the auxiliary rod to the destination rod using the source rod as the temporary storage.\n",
    " - Call the tower_of_hanoi function with the initial parameters: n disks, source rod 1, destination rod 3, and auxiliary rod 2.\n",
    "\n",
    "**Time Complexity ---> O(n^2)**     \n",
    "**Space Complexity ---> O(1)**"
   ]
  },
  {
   "cell_type": "code",
   "execution_count": 14,
   "metadata": {},
   "outputs": [
    {
     "name": "stdout",
     "output_type": "stream",
     "text": [
      "Move disk 1 from rod 1 to rod 3\n",
      "Move disk 2 from rod 1 to rod 2\n",
      "Move disk 1 from rod 3 to rod 2\n",
      "Move disk 3 from rod 1 to rod 3\n",
      "Move disk 1 from rod 2 to rod 1\n",
      "Move disk 2 from rod 2 to rod 3\n",
      "Move disk 1 from rod 1 to rod 3\n"
     ]
    }
   ],
   "source": [
    "def tower_of_hanoi(n, source, destination, auxiliary):\n",
    "    if n == 1:\n",
    "        print(f\"Move disk 1 from rod {source} to rod {destination}\")\n",
    "        return\n",
    "\n",
    "    tower_of_hanoi(n-1, source, auxiliary, destination)\n",
    "    print(f\"Move disk {n} from rod {source} to rod {destination}\")\n",
    "    tower_of_hanoi(n-1, auxiliary, destination, source)\n",
    "\n",
    "n = 3\n",
    "tower_of_hanoi(n, 1, 3, 2)"
   ]
  },
  {
   "attachments": {},
   "cell_type": "markdown",
   "metadata": {},
   "source": [
    "**Question 7**\n",
    "\n",
    "Given a string **str**, the task is to print all the permutations of **str**. A **permutation** is an arrangement of all or part of a set of objects, with regard to the order of the arrangement. For instance, the words ‘bat’ and ‘tab’ represents two distinct permutation (or arrangements) of a similar three letter word.   \n",
    "\n",
    "**Examples:**   \n",
    "Input: str = “cd”   \n",
    "\n",
    "Output: cd dc    \n",
    "Input: str = “abb”    \n",
    "Output: abb abb bab bba bab bba   "
   ]
  },
  {
   "attachments": {},
   "cell_type": "markdown",
   "metadata": {},
   "source": [
    "`Approach`:\n",
    "\n",
    " - Define a recursive function generate_permutations that takes the following parameters:\n",
    "    - str: the input string for which permutations need to be generated.\n",
    "    - current_permutation: a string representing the current permutation being built.\n",
    "    - visited: a boolean array to keep track of visited characters in the string.\n",
    " - If the length of current_permutation is equal to the length of the input string, print current_permutation as a valid permutation.\n",
    " - Otherwise, iterate over each character in the input string:\n",
    "    - Check if the character has been visited. If so, skip to the next iteration.\n",
    "    - Mark the current character as visited.\n",
    "    - Append the current character to current_permutation.\n",
    "    - Recursively call generate_permutations with the updated current_permutation and visited arrays.\n",
    "    - Backtrack by marking the current character as unvisited and removing it from current_permutation.\n",
    " - Call the generate_permutations function initially with an empty current_permutation and all characters in visited marked as unvisited.    \n",
    "\n",
    "**Time Complexity --> O(n)**     \n",
    "**Time Complexity --> O(n)**"
   ]
  },
  {
   "cell_type": "code",
   "execution_count": 15,
   "metadata": {},
   "outputs": [
    {
     "name": "stdout",
     "output_type": "stream",
     "text": [
      "abc\n",
      "acb\n",
      "bac\n",
      "bca\n",
      "cab\n",
      "cba\n"
     ]
    }
   ],
   "source": [
    "def generate_permutations(str):\n",
    "    n = len(str)\n",
    "    visited = [False] * n\n",
    "\n",
    "    def helper(current_permutation, visited):\n",
    "        if len(current_permutation) == n:\n",
    "            print(current_permutation)\n",
    "            return\n",
    "\n",
    "        for i in range(n):\n",
    "            if not visited[i]:\n",
    "                visited[i] = True\n",
    "                helper(current_permutation + str[i], visited)\n",
    "                visited[i] = False\n",
    "\n",
    "    helper(\"\", visited)\n",
    "\n",
    "# Test the code\n",
    "generate_permutations(\"abc\")"
   ]
  },
  {
   "attachments": {},
   "cell_type": "markdown",
   "metadata": {},
   "source": [
    "**Question 8**\n",
    "\n",
    "Given a string, count total number of consonants in it. A consonant is an English alphabet character that is not vowel (a, e, i, o and u). Examples of constants are b, c, d, f, and g.\n",
    "\n",
    "**Examples :**\n",
    "\n",
    "Input : abc de     \n",
    "Output : 3    \n",
    "There are three consonants b, c and d.    \n",
    "\n",
    "Input : geeksforgeeks portal    \n",
    "Output : 12   "
   ]
  },
  {
   "attachments": {},
   "cell_type": "markdown",
   "metadata": {},
   "source": [
    "`Approach`:\n",
    "\n",
    " - Initialize a variable count to 0 to keep track of the number of consonants.\n",
    " - Convert the input string to lowercase to handle both uppercase and lowercase consonants uniformly.\n",
    " - Iterate over each character ch in the string:\n",
    "    - Check if the character ch is an English alphabet letter.\n",
    "    - If ch is a consonant (not a vowel), increment the count by 1.\n",
    " - Return the final value of count.\n",
    "\n",
    "**Time Complexity --> O()**     \n",
    "**Time Complexity --> O()**"
   ]
  },
  {
   "cell_type": "code",
   "execution_count": 16,
   "metadata": {},
   "outputs": [
    {
     "name": "stdout",
     "output_type": "stream",
     "text": [
      "3\n",
      "12\n"
     ]
    }
   ],
   "source": [
    "def count_consonants(str):\n",
    "    count = 0\n",
    "    vowels = ['a', 'e', 'i', 'o', 'u']\n",
    "    str = str.lower()\n",
    "\n",
    "    for ch in str:\n",
    "        if ch.isalpha() and ch not in vowels:\n",
    "            count += 1\n",
    "\n",
    "    return count\n",
    "\n",
    "# Test the code\n",
    "print(count_consonants(\"abc de\")) \n",
    "print(count_consonants(\"geeksforgeeks portal\")) "
   ]
  }
 ],
 "metadata": {
  "kernelspec": {
   "display_name": "OCR",
   "language": "python",
   "name": "python3"
  },
  "language_info": {
   "codemirror_mode": {
    "name": "ipython",
    "version": 3
   },
   "file_extension": ".py",
   "mimetype": "text/x-python",
   "name": "python",
   "nbconvert_exporter": "python",
   "pygments_lexer": "ipython3",
   "version": "3.9.16"
  },
  "orig_nbformat": 4
 },
 "nbformat": 4,
 "nbformat_minor": 2
}

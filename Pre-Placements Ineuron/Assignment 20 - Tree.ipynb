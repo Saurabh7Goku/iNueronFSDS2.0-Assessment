{
 "cells": [
  {
   "attachments": {},
   "cell_type": "markdown",
   "metadata": {},
   "source": [
    "Question-1\n",
    "\n",
    "Given a binary tree, your task is to find subtree with maximum sum in tree.\n",
    "\n",
    "Examples:\n",
    "\n",
    "Input1 :       \n",
    "\n",
    "       1\n",
    "\n",
    "     /   \\\n",
    "\n",
    "   2      3\n",
    "\n",
    "  / \\    / \\\n",
    "\n",
    "4   5  6   7\n",
    "\n",
    "Output1 : 28\n",
    "\n",
    "As all the tree elements are positive, the largest subtree sum is equal to sum of all tree elements.\n",
    "\n",
    "Input2 :\n",
    "\n",
    "     1\n",
    "\n",
    "   /    \\\n",
    "\n",
    "  -2      3\n",
    "\n",
    "  / \\    /  \\\n",
    "\n",
    "4   5  -6   2\n",
    "\n",
    "Output2 : 7\n",
    "\n",
    "Subtree with largest sum is :\n",
    "\n",
    " -2\n",
    "\n",
    " / \\\n",
    "\n",
    "4   5\n",
    "\n",
    "Also, entire tree sum is also 7.\n",
    "\n"
   ]
  },
  {
   "attachments": {},
   "cell_type": "markdown",
   "metadata": {},
   "source": [
    "`Approach`:\n",
    "1. Initialize a variable max_sum to negative infinity. This variable will keep track of the maximum sum found so far.\n",
    "2. Define a recursive function findMaxSubtreeSum(node) that takes a node as input and returns the sum of the subtree rooted at that node.\n",
    "3. Check if the node is null (base case). If so, return 0 to indicate an empty subtree.\n",
    "4. Recursively find the maximum subtree sum of the left subtree by calling findMaxSubtreeSum(node.left) and store it in the variable left_sum.\n",
    "5. Recursively find the maximum subtree sum of the right subtree by calling findMaxSubtreeSum(node.right) and store it in the variable right_sum.\n",
    "6. Calculate the current subtree sum by adding the node's value to the sum of its left and right subtrees: current_sum = node.value + left_sum + right_sum.\n",
    "7. Update max_sum if the current subtree sum is greater than max_sum.\n",
    "8. Return the sum of the current subtree (including the node's value) as node.value + left_sum + right_sum.\n",
    "9. Call the findMaxSubtreeSum(root) function, where root is the root of the binary tree.\n",
    "10. The maximum subtree sum will be stored in the variable max_sum."
   ]
  },
  {
   "attachments": {},
   "cell_type": "markdown",
   "metadata": {},
   "source": [
    "**Time Complexity**: `O(n)`\n",
    "\n",
    "**Space Complexity**: `O(n)`"
   ]
  },
  {
   "cell_type": "code",
   "execution_count": 8,
   "metadata": {},
   "outputs": [
    {
     "name": "stdout",
     "output_type": "stream",
     "text": [
      "Maximum Subtree Sum: 28\n"
     ]
    }
   ],
   "source": [
    "class Node:\n",
    "    def __init__(self, value):\n",
    "        self.value = value\n",
    "        self.left = None\n",
    "        self.right = None\n",
    "\n",
    "def findMaxSubtreeSum(node):\n",
    "    if node is None:\n",
    "        return 0\n",
    "\n",
    "    left_sum = findMaxSubtreeSum(node.left)\n",
    "    right_sum = findMaxSubtreeSum(node.right)\n",
    "\n",
    "    current_sum = node.value + left_sum + right_sum\n",
    "    max_sum = max(current_sum, findMaxSubtreeSum.max_sum)\n",
    "\n",
    "    findMaxSubtreeSum.max_sum = max_sum\n",
    "\n",
    "    return current_sum\n",
    "\n",
    "def findMaxSubtree(node):\n",
    "    findMaxSubtreeSum.max_sum = float('-inf')\n",
    "    findMaxSubtreeSum(node)\n",
    "    return findMaxSubtreeSum.max_sum\n",
    "\n",
    "# Example usage\n",
    "root = Node(1)\n",
    "root.left = Node(2)\n",
    "root.right = Node(3)\n",
    "root.left.left = Node(4)\n",
    "root.left.right = Node(5)\n",
    "root.right.left = Node(6)\n",
    "root.right.right = Node(7)\n",
    "\n",
    "max_subtree_sum = findMaxSubtree(root)\n",
    "print(\"Maximum Subtree Sum:\", max_subtree_sum)\n",
    "\n"
   ]
  },
  {
   "cell_type": "code",
   "execution_count": 7,
   "metadata": {},
   "outputs": [
    {
     "name": "stdout",
     "output_type": "stream",
     "text": [
      "Maximum Subtree Sum: 7\n"
     ]
    }
   ],
   "source": [
    "root = Node(1)\n",
    "root.left = Node(-2)\n",
    "root.right = Node(3)\n",
    "root.left.left = Node(4)\n",
    "root.left.right = Node(5)\n",
    "root.right.left = Node(-6)\n",
    "root.right.right = Node(2)\n",
    "\n",
    "max_subtree_sum = findMaxSubtree(root)\n",
    "print(\"Maximum Subtree Sum:\", max_subtree_sum)\n"
   ]
  },
  {
   "attachments": {},
   "cell_type": "markdown",
   "metadata": {},
   "source": [
    "Question-2\n",
    "\n",
    "Construct the BST (Binary Search Tree) from its given level order traversal.\n",
    "\n",
    "Example:\n",
    "\n",
    "Input: arr[] = {7, 4, 12, 3, 6, 8, 1, 5, 10}\n",
    "\n",
    "Output: BST:\n",
    "\n",
    "            7\n",
    "\n",
    "         /    \\\n",
    "\n",
    "       4     12\n",
    "\n",
    "     /  \\     /\n",
    "\n",
    "    3   6  8\n",
    "\n",
    "   /    /     \\\n",
    "\n",
    " 1    5      10\n",
    "\n"
   ]
  },
  {
   "attachments": {},
   "cell_type": "markdown",
   "metadata": {},
   "source": [
    "`Approach`:\n",
    "1. Create an empty BST.\n",
    "2. Initialize the root of the BST with the first element of the level order traversal array.\n",
    "3. Iterate through the remaining elements of the level order traversal array.\n",
    "4. For each element, start from the root node and compare the current element with the value of the current node.\n",
    "- a. If the current element is less than the value of the current node, move to the left child.\n",
    "-  If the left child is null, create a new node with the current element and assign it as the left child of the current node.\n",
    "-  If the left child is not null, move to the left child and repeat step 4.\n",
    "- b. If the current element is greater than the value of the current node, move to the right child.\n",
    "- If the right child is null, create a new node with the current element and assign it as the right child of the current node.\n",
    "- If the right child is not null, move to the right child and repeat step 4.\n",
    "5. Repeat steps 3 and 4 until all the elements in the level order traversal array are processed.\n",
    "6. Return the root of the constructed BST.\n"
   ]
  },
  {
   "attachments": {},
   "cell_type": "markdown",
   "metadata": {},
   "source": [
    "**Time Complexity**: `O(n)`\n",
    "\n",
    "**Space Complexity**: `O(n)`"
   ]
  },
  {
   "cell_type": "code",
   "execution_count": 11,
   "metadata": {},
   "outputs": [
    {
     "name": "stdout",
     "output_type": "stream",
     "text": [
      "Inorder Traversal of Constructed BST: [1, 3, 5, 4, 6, 10, 7, 8, 12]\n"
     ]
    }
   ],
   "source": [
    "class Node:\n",
    "    def __init__(self, value):\n",
    "        self.value = value\n",
    "        self.left = None\n",
    "        self.right = None\n",
    "\n",
    "def constructBST(level_order):\n",
    "    if not level_order:\n",
    "        return None\n",
    "\n",
    "    root = Node(level_order[0])\n",
    "    queue = [root]\n",
    "    i = 1\n",
    "\n",
    "    while i < len(level_order):\n",
    "        current = queue.pop(0)\n",
    "\n",
    "        if i < len(level_order) and level_order[i] < current.value:\n",
    "            current.left = Node(level_order[i])\n",
    "            queue.append(current.left)\n",
    "            i += 1\n",
    "\n",
    "        if i < len(level_order) and level_order[i] > current.value:\n",
    "            current.right = Node(level_order[i])\n",
    "            queue.append(current.right)\n",
    "            i += 1\n",
    "\n",
    "    return root\n",
    "\n",
    "def inorderTraversal(node):\n",
    "    if node is None:\n",
    "        return []\n",
    "\n",
    "    traversal = []\n",
    "    traversal.extend(inorderTraversal(node.left))\n",
    "    traversal.append(node.value)\n",
    "    traversal.extend(inorderTraversal(node.right))\n",
    "    return traversal\n",
    "\n",
    "# Example usage\n",
    "level_order = [7, 4, 12, 3, 6, 8, 1, 5, 10]\n",
    "bst = constructBST(level_order)\n",
    "\n",
    "print(\"Inorder Traversal of Constructed BST:\", inorderTraversal(bst))\n"
   ]
  },
  {
   "attachments": {},
   "cell_type": "markdown",
   "metadata": {},
   "source": [
    "Question-3\n",
    "\n",
    "Given an array of size n. The problem is to check whether the given array can represent the level order traversal of a Binary Search Tree or not.\n",
    "\n",
    "Examples:\n",
    "\n",
    "Input1 : arr[] = {7, 4, 12, 3, 6, 8, 1, 5, 10}\n",
    "\n",
    "Output1 : Yes\n",
    "\n",
    "For the given arr[], the Binary Search Tree is:\n",
    "\n",
    "            7\n",
    "\n",
    "         /    \\\n",
    "\n",
    "       4     12\n",
    "\n",
    "     /  \\     /\n",
    "\n",
    "    3   6  8\n",
    "\n",
    "   /    /     \\\n",
    "\n",
    " 1    5      10\n",
    "\n",
    "Input2 : arr[] = {11, 6, 13, 5, 12, 10}\n",
    "\n",
    "Output2 : No\n",
    "\n",
    "The given arr[] does not represent the level order traversal of a BST.\n",
    "\n"
   ]
  },
  {
   "attachments": {},
   "cell_type": "markdown",
   "metadata": {},
   "source": [
    "`Approach`:\n",
    "1. Initialize two variables, minValue and maxValue, with their respective minimum and maximum possible values.\n",
    "- minValue should be set to the smallest possible value in the BST (negative infinity in this case).\n",
    "- maxValue should be set to the largest possible value in the BST (positive infinity in this case).\n",
    "2. Create an empty queue and enqueue the first element of the array.\n",
    "3. Iterate over the remaining elements of the array starting from index 1.\n",
    "- At each iteration, dequeue an element from the queue and assign it to a variable current.\n",
    "- If the current element is less than minValue or greater than maxValue, return No as it violates the BST property.\n",
    "- If the current element is less than the first element of the array, update minValue to the current element.\n",
    "- If the current element is greater than the first element of the array, update maxValue to the current element.\n",
    "- If the current element is less than the next element of the array, enqueue the current element's index plus one.\n",
    "- If the current element is greater than the next element of the array, enqueue the current element's index plus two.\n",
    "4. If the queue is empty after iterating over all elements of the array, return Yes as it represents a valid level order traversal of a BST. Otherwise, return No."
   ]
  },
  {
   "attachments": {},
   "cell_type": "markdown",
   "metadata": {},
   "source": [
    "**Time Complexity**: `O(n)`\n",
    "\n",
    "**Space Complexity**: `O(n)`"
   ]
  },
  {
   "cell_type": "code",
   "execution_count": 2,
   "metadata": {},
   "outputs": [
    {
     "name": "stdout",
     "output_type": "stream",
     "text": [
      "No\n"
     ]
    }
   ],
   "source": [
    "def isLevelOrderBST(arr):\n",
    "    n = len(arr)\n",
    "    \n",
    "    minValue = float(\"-inf\")\n",
    "    maxValue = float(\"inf\")\n",
    "    \n",
    "    queue = []\n",
    "    queue.append(0)\n",
    "    \n",
    "    i = 1\n",
    "    while i < n:\n",
    "        current = queue.pop(0)\n",
    "        \n",
    "        if arr[current] < minValue or arr[current] > maxValue:\n",
    "            return \"No\"\n",
    "        \n",
    "        if i < n and arr[i] < arr[current]:\n",
    "            queue.append(i)\n",
    "            \n",
    "        if i < n and arr[i] > arr[current]:\n",
    "            queue.append(i + 1)\n",
    "            \n",
    "        i += 1\n",
    "        \n",
    "        if not queue:\n",
    "            break\n",
    "    \n",
    "    if i == n and not queue:\n",
    "        return \"Yes\"\n",
    "    else:\n",
    "        return \"No\"\n",
    "\n",
    "\n",
    "\n",
    "arr2 = [11, 6, 13, 5, 12, 10]\n",
    "print(isLevelOrderBST(arr2))  \n"
   ]
  }
 ],
 "metadata": {
  "kernelspec": {
   "display_name": "base",
   "language": "python",
   "name": "python3"
  },
  "language_info": {
   "codemirror_mode": {
    "name": "ipython",
    "version": 3
   },
   "file_extension": ".py",
   "mimetype": "text/x-python",
   "name": "python",
   "nbconvert_exporter": "python",
   "pygments_lexer": "ipython3",
   "version": "3.10.9"
  },
  "orig_nbformat": 4
 },
 "nbformat": 4,
 "nbformat_minor": 2
}

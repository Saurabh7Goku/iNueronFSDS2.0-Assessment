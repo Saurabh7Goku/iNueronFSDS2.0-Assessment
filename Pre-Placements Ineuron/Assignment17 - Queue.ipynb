{
 "cells": [
  {
   "attachments": {},
   "cell_type": "markdown",
   "metadata": {},
   "source": [
    "**Question 1**\n",
    "\n",
    "Given a string `s`, *find the first non-repeating character in it and return its index*. If it does not exist, return `-1`.\n",
    "\n",
    "**Example 1:**\n",
    "```\n",
    "Input: s = \"leetcode\"\n",
    "Output: 0\n",
    "\n",
    "```\n",
    "**Example 2:**\n",
    "```\n",
    "Input: s = \"loveleetcode\"\n",
    "Output: 2\n",
    "\n",
    "```\n",
    "**Example 3:**\n",
    "```\n",
    "Input: s = \"aabb\"\n",
    "Output: -1\n",
    "\n",
    "```"
   ]
  },
  {
   "attachments": {},
   "cell_type": "markdown",
   "metadata": {},
   "source": [
    "`Approach`:\n",
    "1. Initialize an empty queue.\n",
    "2. Create a dictionary or hash map to store the frequency of each character in the string.\n",
    "3. Iterate through the characters in the string from left to right.\n",
    "4. For each character:\n",
    "- Increment its frequency in the dictionary.\n",
    "- If the character's frequency is 1, enqueue it into the queue.\n",
    "- If the character's frequency is greater than 1, check if the character at the front of the queue has a frequency greater than 1. If so, dequeue it and repeat until a character with frequency 1 is at the front of the queue.\n",
    "5. After iterating through all the characters in the string, check if the queue is empty. If it's not empty, the front element of the queue will be the first non-repeating character.\n",
    "6. If the queue is empty, return -1 since there is no non-repeating character in the string.\n",
    "7. If the queue is not empty, return the index of the first occurrence of the character at the front of the queue in the original string."
   ]
  },
  {
   "attachments": {},
   "cell_type": "markdown",
   "metadata": {},
   "source": [
    "**Time Complexity**: `O(n)`\n",
    "\n",
    "**Space Complexity**: `O(1)`"
   ]
  },
  {
   "cell_type": "code",
   "execution_count": 4,
   "metadata": {},
   "outputs": [
    {
     "name": "stdout",
     "output_type": "stream",
     "text": [
      "0\n",
      "2\n",
      "-1\n"
     ]
    }
   ],
   "source": [
    "from collections import deque\n",
    "\n",
    "def firstNonRepeatingChar(s):\n",
    "    queue = deque()\n",
    "    char_freq = {}\n",
    "    \n",
    "    for i, char in enumerate(s):\n",
    "        char_freq[char] = char_freq.get(char, 0) + 1\n",
    "        \n",
    "        if char_freq[char] == 1:\n",
    "            queue.append(char)\n",
    "        else:\n",
    "            while queue and char_freq[queue[0]] > 1:\n",
    "                queue.popleft()\n",
    "    \n",
    "    if queue:\n",
    "        first_non_repeating_char = queue[0]\n",
    "        return s.index(first_non_repeating_char)\n",
    "    \n",
    "    return -1\n",
    "print(firstNonRepeatingChar(\"leetcode\"))     \n",
    "print(firstNonRepeatingChar(\"loveleetcode\")) \n",
    "print(firstNonRepeatingChar(\"aabb\"))         \n",
    "\n"
   ]
  },
  {
   "attachments": {},
   "cell_type": "markdown",
   "metadata": {},
   "source": [
    "**Question 2**\n",
    "\n",
    "Given a **circular integer array** `nums` of length `n`, return *the maximum possible sum of a non-empty **subarray** of* `nums`.\n",
    "\n",
    "A **circular array** means the end of the array connects to the beginning of the array. Formally, the next element of `nums[i]` is `nums[(i + 1) % n]` and the previous element of `nums[i]` is `nums[(i - 1 + n) % n]`.\n",
    "\n",
    "A **subarray** may only include each element of the fixed buffer `nums` at most once. Formally, for a subarray `nums[i], nums[i + 1], ..., nums[j]`, there does not exist `i <= k1`, `k2 <= j` with `k1 % n == k2 % n`.\n",
    "\n",
    "**Example 1:**\n",
    "```\n",
    "Input: nums = [1,-2,3,-2]\n",
    "Output: 3\n",
    "Explanation: Subarray [3] has maximum sum 3.\n",
    "\n",
    "```\n",
    "**Example 2:**\n",
    "```\n",
    "Input: nums = [5,-3,5]\n",
    "Output: 10\n",
    "Explanation: Subarray [5,5] has maximum sum 5 + 5 = 10.\n",
    "\n",
    "```\n",
    "**Example 3:**\n",
    "```\n",
    "Input: nums = [-3,-2,-3]\n",
    "Output: -2\n",
    "Explanation: Subarray [-2] has maximum sum -2.\n",
    "\n",
    "```"
   ]
  },
  {
   "attachments": {},
   "cell_type": "markdown",
   "metadata": {},
   "source": [
    "`Approach`:\n",
    "1. Calculate the maximum sum of a non-empty subarray using Kadane's algorithm, which finds the maximum subarray sum in a linear array.\n",
    "2. Calculate the minimum sum of a non-empty subarray using Kadane's algorithm on the negated array.\n",
    "3. Calculate the total sum of all elements in the array.\n",
    "4. If the total sum is equal to the minimum sum of a non-empty subarray, it means all elements in the array are negative. In this case, return the maximum sum obtained in step 1.\n",
    "5. Otherwise, return the maximum of the maximum sum obtained in step 1 and the total sum minus the minimum sum obtained in step 2."
   ]
  },
  {
   "attachments": {},
   "cell_type": "markdown",
   "metadata": {},
   "source": [
    "**Time Complexity**: `O(n)`\n",
    "\n",
    "**Space Complexity**: `O(1)`"
   ]
  },
  {
   "cell_type": "code",
   "execution_count": 1,
   "metadata": {},
   "outputs": [
    {
     "name": "stdout",
     "output_type": "stream",
     "text": [
      "3\n",
      "-2\n"
     ]
    }
   ],
   "source": [
    "from collections import deque\n",
    "\n",
    "def kadane(nums):\n",
    "    max_sum = float('-inf')\n",
    "    curr_sum = 0\n",
    "\n",
    "    for num in nums:\n",
    "        curr_sum = max(curr_sum + num, num)\n",
    "        max_sum = max(max_sum, curr_sum)\n",
    "\n",
    "    return max_sum\n",
    "\n",
    "def maxSubarraySumCircular(nums):\n",
    "    n = len(nums)\n",
    "\n",
    "    # Step 1: Calculate the maximum sum of a non-empty subarray\n",
    "    max_sum = kadane(nums)\n",
    "\n",
    "    # Step 2: Calculate the minimum sum of a non-empty subarray\n",
    "    neg_nums = [-num for num in nums]\n",
    "    min_sum = kadane(neg_nums)\n",
    "\n",
    "    # Step 3: Calculate the total sum of all elements in the array\n",
    "    total_sum = sum(nums)\n",
    "\n",
    "    # Step 4: Handle the case when all elements are negative\n",
    "    if total_sum == min_sum:\n",
    "        return max_sum\n",
    "\n",
    "    # Step 5: Return the maximum of max_sum and (total_sum - min_sum)\n",
    "    return max(max_sum, total_sum - min_sum)\n",
    "print(maxSubarraySumCircular([1, -2, 3, -2]))    # Output: 3\n",
    "print(maxSubarraySumCircular([-3, -2, -3]))     # Output: -2\n"
   ]
  },
  {
   "attachments": {},
   "cell_type": "markdown",
   "metadata": {},
   "source": [
    "**Question 3**\n",
    "\n",
    "The school cafeteria offers circular and square sandwiches at lunch break, referred to by numbers `0` and `1` respectively. All students stand in a queue. Each student either prefers square or circular sandwiches.\n",
    "\n",
    "The number of sandwiches in the cafeteria is equal to the number of students. The sandwiches are placed in a **stack**. At each step:\n",
    "\n",
    "- If the student at the front of the queue **prefers** the sandwich on the top of the stack, they will **take it** and leave the queue.\n",
    "- Otherwise, they will **leave it** and go to the queue's end.\n",
    "\n",
    "This continues until none of the queue students want to take the top sandwich and are thus unable to eat.\n",
    "\n",
    "You are given two integer arrays `students` and `sandwiches` where `sandwiches[i]` is the type of the `ith` sandwich in the stack (`i = 0` is the top of the stack) and `students[j]` is the preference of the `jth` student in the initial queue (`j = 0` is the front of the queue). Return *the number of students that are unable to eat.*\n",
    "\n",
    "**Example 1:**\n",
    "```\n",
    "Input: students = [1,1,0,0], sandwiches = [0,1,0,1]\n",
    "Output: 0\n",
    "Explanation:\n",
    "- Front student leaves the top sandwich and returns to the end of the line making students = [1,0,0,1].\n",
    "- Front student leaves the top sandwich and returns to the end of the line making students = [0,0,1,1].\n",
    "- Front student takes the top sandwich and leaves the line making students = [0,1,1] and sandwiches = [1,0,1].\n",
    "- Front student leaves the top sandwich and returns to the end of the line making students = [1,1,0].\n",
    "- Front student takes the top sandwich and leaves the line making students = [1,0] and sandwiches = [0,1].\n",
    "- Front student leaves the top sandwich and returns to the end of the line making students = [0,1].\n",
    "- Front student takes the top sandwich and leaves the line making students = [1] and sandwiches = [1].\n",
    "- Front student takes the top sandwich and leaves the line making students = [] and sandwiches = [].\n",
    "Hence all students are able to eat.\n",
    "\n",
    "```\n",
    "**Example 2:**\n",
    "```\n",
    "Input: students = [1,1,1,0,0,1], sandwiches = [1,0,0,0,1,1]\n",
    "Output: 3\n",
    "\n",
    "```"
   ]
  },
  {
   "attachments": {},
   "cell_type": "markdown",
   "metadata": {},
   "source": [
    "`Approach`:\n",
    "1. Initialize stuck_in_queue to 0 to keep track of the number of students unable to eat.\n",
    "2. Start a while loop that continues until the number of students stuck in the queue (stuck_in_queue) reaches the length of the students list.\n",
    "3. Inside the loop, pop the first student from the students list using students.pop(0) and assign it to the student variable.\n",
    "4. Check if the type of the first sandwich in the sandwiches list (sandwiches[0]) matches the preference of the current student (student).\n",
    "5. If there is a match, it means the student can eat the sandwich. Remove the first sandwich from the sandwiches list using sandwiches.pop(0). Reset stuck_in_queue to 0 since the student can eat and is no longer stuck.\n",
    "6. If there is no match, it means the student cannot eat the current sandwich. Append the current student back to the end of the students list using students.append(student). Increment stuck_in_queue by 1 to indicate that the student is still unable to eat.\n",
    "7. Continue with the next iteration of the loop.\n",
    "8. Once the loop ends, return the final value of stuck_in_queue, which represents the number of students who are unable to eat."
   ]
  },
  {
   "attachments": {},
   "cell_type": "markdown",
   "metadata": {},
   "source": [
    "**Time Complexity**: `O(n^2)`\n",
    "\n",
    "**Space Complexity**: `O(1)`"
   ]
  },
  {
   "cell_type": "code",
   "execution_count": 13,
   "metadata": {},
   "outputs": [
    {
     "name": "stdout",
     "output_type": "stream",
     "text": [
      "0\n",
      "3\n"
     ]
    }
   ],
   "source": [
    "def countStudents( students, sandwiches) -> int:\n",
    "        stuck_in_queue = 0\n",
    "        while stuck_in_queue < len(students):\n",
    "            student = students.pop(0)\n",
    "            if sandwiches[0] == student:\n",
    "                sandwiches.pop(0)\n",
    "                stuck_in_queue = 0\n",
    "            else:\n",
    "                students.append(student)\n",
    "                stuck_in_queue += 1\n",
    "        return stuck_in_queue\n",
    "print(countStudents([1, 1, 0, 0], [0, 1, 0, 1]))         \n",
    "print(countStudents([1, 1, 1, 0, 0, 1], [1, 0, 0, 0, 1, 1]))   "
   ]
  },
  {
   "attachments": {},
   "cell_type": "markdown",
   "metadata": {},
   "source": [
    "**Question 4**\n",
    "\n",
    "You have a `RecentCounter` class which counts the number of recent requests within a certain time frame.\n",
    "\n",
    "Implement the `RecentCounter` class:\n",
    "\n",
    "- `RecentCounter()` Initializes the counter with zero recent requests.\n",
    "- `int ping(int t)` Adds a new request at time `t`, where `t` represents some time in milliseconds, and returns the number of requests that has happened in the past `3000` milliseconds (including the new request). Specifically, return the number of requests that have happened in the inclusive range `[t - 3000, t]`.\n",
    "\n",
    "It is **guaranteed** that every call to `ping` uses a strictly larger value of `t` than the previous call.\n",
    "\n",
    "**Example 1:**\n",
    "```\n",
    "Input\n",
    "[\"RecentCounter\", \"ping\", \"ping\", \"ping\", \"ping\"]\n",
    "[[], [1], [100], [3001], [3002]]\n",
    "Output\n",
    "[null, 1, 2, 3, 3]\n",
    "\n",
    "Explanation\n",
    "RecentCounter recentCounter = new RecentCounter();\n",
    "recentCounter.ping(1);     // requests = [1], range is [-2999,1], return 1\n",
    "recentCounter.ping(100);   // requests = [1,100], range is [-2900,100], return 2\n",
    "recentCounter.ping(3001);  // requests = [1,100,3001], range is [1,3001], return 3\n",
    "recentCounter.ping(3002);  // requests = [1,100,3001,3002], range is [2,3002], return 3\n",
    "\n",
    "```\n",
    "\n",
    "\n"
   ]
  },
  {
   "attachments": {},
   "cell_type": "markdown",
   "metadata": {},
   "source": [
    "`Approach`:\n",
    "1. Initialize a queue to store the timestamps of the recent requests.\n",
    "2. In the ping method, add the new request timestamp t to the end of the queue.\n",
    "3. Remove outdated requests from the front of the queue that fall outside the time frame [t - 3000, t]. This ensures that the queue only contains timestamps within the time frame.\n",
    "4. Return the length of the queue, which represents the number of requests within the time frame [t - 3000, t], including the new request at timestamp t."
   ]
  },
  {
   "attachments": {},
   "cell_type": "markdown",
   "metadata": {},
   "source": [
    "**Time Complexity**: `O(n)`\n",
    "\n",
    "**Space Complexity**: `O(n)`"
   ]
  },
  {
   "cell_type": "code",
   "execution_count": 14,
   "metadata": {},
   "outputs": [
    {
     "name": "stdout",
     "output_type": "stream",
     "text": [
      "1\n",
      "2\n",
      "3\n",
      "3\n"
     ]
    }
   ],
   "source": [
    "from collections import deque\n",
    "\n",
    "class RecentCounter:\n",
    "    def __init__(self):\n",
    "        self.requests = deque()\n",
    "\n",
    "    def ping(self, t: int) -> int:\n",
    "        self.requests.append(t)  # Add the new request to the queue\n",
    "\n",
    "        # Remove outdated requests that fall outside the time frame [t - 3000, t]\n",
    "        while self.requests and self.requests[0] < t - 3000:\n",
    "            self.requests.popleft()\n",
    "\n",
    "        return len(self.requests)  # Return the number of requests within the time frame\n",
    "recentCounter = RecentCounter()\n",
    "print(recentCounter.ping(1))      \n",
    "print(recentCounter.ping(100))    \n",
    "print(recentCounter.ping(3001))   \n",
    "print(recentCounter.ping(3002))   \n"
   ]
  },
  {
   "attachments": {},
   "cell_type": "markdown",
   "metadata": {},
   "source": [
    "**Question 5**\n",
    "\n",
    "There are `n` friends that are playing a game. The friends are sitting in a circle and are numbered from `1` to `n` in **clockwise order**. More formally, moving clockwise from the `ith` friend brings you to the `(i+1)th` friend for `1 <= i < n`, and moving clockwise from the `nth` friend brings you to the `1st` friend.\n",
    "\n",
    "The rules of the game are as follows:\n",
    "\n",
    "1. **Start** at the `1st` friend.\n",
    "2. Count the next `k` friends in the clockwise direction **including** the friend you started at. The counting wraps around the circle and may count some friends more than once.\n",
    "3. The last friend you counted leaves the circle and loses the game.\n",
    "4. If there is still more than one friend in the circle, go back to step `2` **starting** from the friend **immediately clockwise** of the friend who just lost and repeat.\n",
    "5. Else, the last friend in the circle wins the game.\n",
    "\n",
    "Given the number of friends, `n`, and an integer `k`, return *the winner of the game*.\n",
    "\n",
    "**Example 1:**\n",
    "```\n",
    "Input: n = 5, k = 2\n",
    "Output: 3\n",
    "Explanation: Here are the steps of the game:\n",
    "1) Start at friend 1.\n",
    "2) Count 2 friends clockwise, which are friends 1 and 2.\n",
    "3) Friend 2 leaves the circle. Next start is friend 3.\n",
    "4) Count 2 friends clockwise, which are friends 3 and 4.\n",
    "5) Friend 4 leaves the circle. Next start is friend 5.\n",
    "6) Count 2 friends clockwise, which are friends 5 and 1.\n",
    "7) Friend 1 leaves the circle. Next start is friend 3.\n",
    "8) Count 2 friends clockwise, which are friends 3 and 5.\n",
    "9) Friend 5 leaves the circle. Only friend 3 is left, so they are the winner.\n",
    "\n",
    "```\n",
    "**Example 2:**\n",
    "```\n",
    "Input: n = 6, k = 5\n",
    "Output: 1\n",
    "Explanation: The friends leave in this order: 5, 4, 6, 2, 3. The winner is friend 1.\n",
    "\n",
    "```"
   ]
  },
  {
   "attachments": {},
   "cell_type": "markdown",
   "metadata": {},
   "source": [
    "`Approach`:\n",
    "1. Initialize the winner variable to 0, representing the index of the winner friend.\n",
    "2. Iterate from 1 to n (the number of friends):\n",
    "- a. Update the winner variable using the formula: (winner + k) % i. This formula calculates the new index of the winner friend after i friends have been removed from the circle.\n",
    "3. Return the winner + 1 since the friends are numbered from 1 to n."
   ]
  },
  {
   "attachments": {},
   "cell_type": "markdown",
   "metadata": {},
   "source": [
    "**Time Complexity**: `O(n)`\n",
    "\n",
    "**Space Complexity**: `O(1)`"
   ]
  },
  {
   "cell_type": "code",
   "execution_count": 18,
   "metadata": {},
   "outputs": [
    {
     "name": "stdout",
     "output_type": "stream",
     "text": [
      "3\n",
      "1\n"
     ]
    }
   ],
   "source": [
    "def findTheWinner(n: int, k: int) -> int:\n",
    "    winner = 0\n",
    "\n",
    "    for i in range(1, n + 1):\n",
    "        winner = (winner + k) % i\n",
    "\n",
    "    return winner + 1\n",
    "print(findTheWinner(5,2))\n",
    "print(findTheWinner(6,5))\n"
   ]
  },
  {
   "attachments": {},
   "cell_type": "markdown",
   "metadata": {},
   "source": [
    "**Question 6**\n",
    "\n",
    "You are given an integer array `deck`. There is a deck of cards where every card has a unique integer. The integer on the `ith` card is `deck[i]`.\n",
    "\n",
    "You can order the deck in any order you want. Initially, all the cards start face down (unrevealed) in one deck.\n",
    "\n",
    "You will do the following steps repeatedly until all cards are revealed:\n",
    "\n",
    "1. Take the top card of the deck, reveal it, and take it out of the deck.\n",
    "2. If there are still cards in the deck then put the next top card of the deck at the bottom of the deck.\n",
    "3. If there are still unrevealed cards, go back to step 1. Otherwise, stop.\n",
    "\n",
    "Return *an ordering of the deck that would reveal the cards in increasing order*.\n",
    "\n",
    "**Note** that the first entry in the answer is considered to be the top of the deck.\n",
    "\n",
    "**Example 1:**\n",
    "```\n",
    "Input: deck = [17,13,11,2,3,5,7]\n",
    "Output: [2,13,3,11,5,17,7]\n",
    "Explanation:\n",
    "We get the deck in the order [17,13,11,2,3,5,7] (this order does not matter), and reorder it.\n",
    "After reordering, the deck starts as [2,13,3,11,5,17,7], where 2 is the top of the deck.\n",
    "We reveal 2, and move 13 to the bottom.  The deck is now [3,11,5,17,7,13].\n",
    "We reveal 3, and move 11 to the bottom.  The deck is now [5,17,7,13,11].\n",
    "We reveal 5, and move 17 to the bottom.  The deck is now [7,13,11,17].\n",
    "We reveal 7, and move 13 to the bottom.  The deck is now [11,17,13].\n",
    "We reveal 11, and move 17 to the bottom.  The deck is now [13,17].\n",
    "We reveal 13, and move 17 to the bottom.  The deck is now [17].\n",
    "We reveal 17.\n",
    "Since all the cards revealed are in increasing order, the answer is correct.\n",
    "\n",
    "```\n",
    "**Example 2:**\n",
    "```\n",
    "Input: deck = [1,1000]\n",
    "Output: [1,1000]\n",
    "\n",
    "```"
   ]
  },
  {
   "attachments": {},
   "cell_type": "markdown",
   "metadata": {},
   "source": [
    "`Approach`:\n",
    "1. Sort the deck array in ascending order.\n",
    "2. Create an empty queue and enqueue the indices from 0 to n-1, where n is the length of the deck array. This queue will represent the order in which the cards are revealed.\n",
    "3. Create an empty result array to store the revealed cards.\n",
    "4. While the queue is not empty:\n",
    "- a. Dequeue an index from the front of the queue.\n",
    "- b. Append the card at that index from the sorted deck array to the result array.\n",
    "- c. If the queue is still not empty, dequeue an index again from the front of the queue and enqueue it back to the rear of the queue.\n",
    "5. Return the result array."
   ]
  },
  {
   "attachments": {},
   "cell_type": "markdown",
   "metadata": {},
   "source": [
    "**Time Complexity**: `O(n log n)`\n",
    "\n",
    "**Space Complexity**: `O(n)`"
   ]
  },
  {
   "cell_type": "code",
   "execution_count": 2,
   "metadata": {},
   "outputs": [
    {
     "name": "stdout",
     "output_type": "stream",
     "text": [
      "[2, 13, 3, 11, 5, 17, 7]\n",
      "[1, 1000]\n"
     ]
    }
   ],
   "source": [
    "from collections import deque\n",
    "\n",
    "def deckRevealedIncreasing(deck):\n",
    "    deck.sort(reverse=True)\n",
    "    result = deque()\n",
    "\n",
    "    for card in deck:\n",
    "        if result:\n",
    "            rightmost_card = result.pop()\n",
    "            result.appendleft(rightmost_card)\n",
    "        result.appendleft(card)\n",
    "\n",
    "    return list(result)\n",
    "deck = [17, 13, 11, 2, 3, 5, 7]\n",
    "print(deckRevealedIncreasing(deck))  \n",
    "\n",
    "deck = [1, 1000]\n",
    "print(deckRevealedIncreasing(deck))  \n"
   ]
  },
  {
   "attachments": {},
   "cell_type": "markdown",
   "metadata": {},
   "source": [
    " **Question 7**\n",
    "\n",
    "Design a queue that supports `push` and `pop` operations in the front, middle, and back.\n",
    "\n",
    "Implement the `FrontMiddleBack` class:\n",
    "\n",
    "- `FrontMiddleBack()` Initializes the queue.\n",
    "- `void pushFront(int val)` Adds `val` to the **front** of the queue.\n",
    "- `void pushMiddle(int val)` Adds `val` to the **middle** of the queue.\n",
    "- `void pushBack(int val)` Adds `val` to the **back** of the queue.\n",
    "- `int popFront()` Removes the **front** element of the queue and returns it. If the queue is empty, return `1`.\n",
    "- `int popMiddle()` Removes the **middle** element of the queue and returns it. If the queue is empty, return `1`.\n",
    "- `int popBack()` Removes the **back** element of the queue and returns it. If the queue is empty, return `1`.\n",
    "\n",
    "**Notice** that when there are **two** middle position choices, the operation is performed on the **frontmost** middle position choice. For example:\n",
    "\n",
    "- Pushing `6` into the middle of `[1, 2, 3, 4, 5]` results in `[1, 2, 6, 3, 4, 5]`.\n",
    "- Popping the middle from `[1, 2, 3, 4, 5, 6]` returns `3` and results in `[1, 2, 4, 5, 6]`.\n",
    "\n",
    "**Example 1:**\n",
    "```\n",
    "Input:\n",
    "[\"FrontMiddleBackQueue\", \"pushFront\", \"pushBack\", \"pushMiddle\", \"pushMiddle\", \"popFront\", \"popMiddle\", \"popMiddle\", \"popBack\", \"popFront\"]\n",
    "[[], [1], [2], [3], [4], [], [], [], [], []]\n",
    "Output:\n",
    "[null, null, null, null, null, 1, 3, 4, 2, -1]\n",
    "\n",
    "Explanation:\n",
    "FrontMiddleBackQueue q = new FrontMiddleBackQueue();\n",
    "q.pushFront(1);   // [1]\n",
    "q.pushBack(2);    // [1,2]\n",
    "q.pushMiddle(3);  // [1,3, 2]\n",
    "q.pushMiddle(4);  // [1,4, 3, 2]\n",
    "q.popFront();     // return 1 -> [4, 3, 2]\n",
    "q.popMiddle();    // return 3 -> [4, 2]\n",
    "q.popMiddle();    // return 4 -> [2]\n",
    "q.popBack();      // return 2 -> []\n",
    "q.popFront();     // return -1 -> [] (The queue is empty)\n",
    "\n",
    "```\n"
   ]
  },
  {
   "attachments": {},
   "cell_type": "markdown",
   "metadata": {},
   "source": [
    "`Approach`:\n",
    "1. __init__(): Initialize leftQueue and rightQueue as empty queues.\n",
    "2. pushFront(val): Add the val to the front of the leftQueue.\n",
    "3. pushMiddle(val): If the size of leftQueue is greater than or equal to the size of rightQueue, remove the last element from leftQueue and push it to rightQueue. Then, add val to the end of leftQueue. Otherwise, push val to the front of rightQueue.\n",
    "4. pushBack(val): Add val to the end of rightQueue.\n",
    "5. popFront(): If leftQueue is not empty, remove and return the last element from leftQueue. If leftQueue is empty, check if rightQueue is empty. If rightQueue is not empty, remove and return the first element from rightQueue. If both queues are empty, return 1 to indicate an empty queue.\n",
    "6. popMiddle(): If the size of leftQueue is greater than the size of rightQueue, remove and return the last element from leftQueue. If the size of leftQueue is equal to the size of rightQueue, remove and return the first element from rightQueue. If both queues are empty, return 1 to indicate an empty queue.\n",
    "7. popBack(): If rightQueue is not empty, remove and return the last element from rightQueue. If rightQueue is empty, check if leftQueue is not empty. If leftQueue is not empty, remove and return the last element from leftQueue. If both queues are empty, return 1 to indicate an empty queue."
   ]
  },
  {
   "attachments": {},
   "cell_type": "markdown",
   "metadata": {},
   "source": [
    "**Time Complexity**: `O(n)`\n",
    "\n",
    "**Space complexity**: `O(n)`"
   ]
  },
  {
   "cell_type": "code",
   "execution_count": 6,
   "metadata": {},
   "outputs": [],
   "source": [
    "from queue import SimpleQueue\n",
    "\n",
    "class FrontMiddleBackQueue:\n",
    "    def __init__(self):\n",
    "        self.queue = SimpleQueue()\n",
    "\n",
    "    def pushFront(self, val):\n",
    "        self.queue.put(val)\n",
    "\n",
    "    def pushMiddle(self, val):\n",
    "        size = self.queue.qsize()\n",
    "        middle = size // 2\n",
    "        temp = SimpleQueue()\n",
    "\n",
    "        for _ in range(middle):\n",
    "            temp.put(self.queue.get())\n",
    "\n",
    "        self.queue.put(val)\n",
    "\n",
    "        while not temp.empty():\n",
    "            self.queue.put(temp.get())\n",
    "\n",
    "    def pushBack(self, val):\n",
    "        self.queue.put(val)\n",
    "\n",
    "    def popFront(self):\n",
    "        if self.queue.empty():\n",
    "            return -1\n",
    "        return self.queue.get()\n",
    "\n",
    "    def popMiddle(self):\n",
    "        size = self.queue.qsize()\n",
    "        middle = size // 2\n",
    "        temp = SimpleQueue()\n",
    "\n",
    "        for _ in range(middle):\n",
    "            temp.put(self.queue.get())\n",
    "\n",
    "        result = self.queue.get()\n",
    "\n",
    "        while not temp.empty():\n",
    "            self.queue.put(temp.get())\n",
    "\n",
    "        return result\n",
    "\n",
    "    def popBack(self):\n",
    "        if self.queue.empty():\n",
    "            return -1\n",
    "\n",
    "        size = self.queue.qsize()\n",
    "        temp = SimpleQueue()\n",
    "\n",
    "        for _ in range(size - 1):\n",
    "            temp.put(self.queue.get())\n",
    "\n",
    "        result = self.queue.get()\n",
    "\n",
    "        while not temp.empty():\n",
    "            self.queue.put(temp.get())\n",
    "\n",
    "        return result\n"
   ]
  },
  {
   "cell_type": "code",
   "execution_count": 7,
   "metadata": {},
   "outputs": [
    {
     "name": "stdout",
     "output_type": "stream",
     "text": [
      "3\n",
      "4\n",
      "1\n",
      "2\n",
      "-1\n"
     ]
    }
   ],
   "source": [
    "queue = FrontMiddleBackQueue()\n",
    "queue.pushFront(1)\n",
    "queue.pushBack(2)\n",
    "queue.pushMiddle(3)\n",
    "queue.pushMiddle(4)\n",
    "print(queue.popFront())  \n",
    "print(queue.popMiddle())  \n",
    "print(queue.popMiddle())  \n",
    "print(queue.popBack())  \n",
    "print(queue.popFront())  \n"
   ]
  },
  {
   "attachments": {},
   "cell_type": "markdown",
   "metadata": {},
   "source": [
    "**Question 8**\n",
    "\n",
    "For a stream of integers, implement a data structure that checks if the last `k` integers parsed in the stream are **equal** to `value`.\n",
    "\n",
    "Implement the **DataStream** class:\n",
    "\n",
    "- `DataStream(int value, int k)` Initializes the object with an empty integer stream and the two integers `value` and `k`.\n",
    "- `boolean consec(int num)` Adds `num` to the stream of integers. Returns `true` if the last `k` integers are equal to `value`, and `false` otherwise. If there are less than `k` integers, the condition does not hold true, so returns `false`.\n",
    "\n",
    "**Example 1:**\n",
    "```\n",
    "Input\n",
    "[\"DataStream\", \"consec\", \"consec\", \"consec\", \"consec\"]\n",
    "[[4, 3], [4], [4], [4], [3]]\n",
    "Output\n",
    "[null, false, false, true, false]\n",
    "\n",
    "Explanation\n",
    "DataStream dataStream = new DataStream(4, 3); //value = 4, k = 3\n",
    "dataStream.consec(4); // Only 1 integer is parsed, so returns False.\n",
    "dataStream.consec(4); // Only 2 integers are parsed.\n",
    "                      // Since 2 is less than k, returns False.\n",
    "dataStream.consec(4); // The 3 integers parsed are all equal to value, so returns True.\n",
    "dataStream.consec(3); // The last k integers parsed in the stream are [4,4,3].\n",
    "                      // Since 3 is not equal to value, it returns False.\n",
    "\n",
    "                      \n",
    "```"
   ]
  },
  {
   "attachments": {},
   "cell_type": "markdown",
   "metadata": {},
   "source": [
    "`Approach`:\n",
    "1. Initialize the DataStream class with the value and k parameters. Create an empty queue to store the stream of integers.\n",
    "2. Implement the consec method:\n",
    "- Add the num to the queue.\n",
    "- If the length of the queue is greater than or equal to k, compare the last k elements of the queue with the value.\n",
    "- If they are equal, return True; otherwise, return False.\n",
    "- If the length of the queue is less than k, return False since there are not enough elements in the stream to satisfy the condition."
   ]
  },
  {
   "attachments": {},
   "cell_type": "markdown",
   "metadata": {},
   "source": [
    "**Time Complexity**: `O(1)`\n",
    "\n",
    "**Space Complexity**: `O(k)`"
   ]
  },
  {
   "cell_type": "code",
   "execution_count": 21,
   "metadata": {},
   "outputs": [
    {
     "name": "stdout",
     "output_type": "stream",
     "text": [
      "False\n",
      "False\n",
      "True\n",
      "False\n"
     ]
    }
   ],
   "source": [
    "class DataStream:\n",
    "    def __init__(self, value, k):\n",
    "        self.stream = []\n",
    "        self.value = value\n",
    "        self.k = k\n",
    "\n",
    "    def consec(self, num):\n",
    "        self.stream.append(num)\n",
    "        if len(self.stream) < self.k:\n",
    "            return False\n",
    "        return self.stream[-self.k:] == [self.value] * self.k\n",
    "dataStream = DataStream(4, 3)\n",
    "print(dataStream.consec(4))  # Output: False\n",
    "print(dataStream.consec(4))  # Output: False\n",
    "print(dataStream.consec(4))  # Output: True\n",
    "print(dataStream.consec(3))  # Output: False\n",
    "\n"
   ]
  }
 ],
 "metadata": {
  "kernelspec": {
   "display_name": "base",
   "language": "python",
   "name": "python3"
  },
  "language_info": {
   "codemirror_mode": {
    "name": "ipython",
    "version": 3
   },
   "file_extension": ".py",
   "mimetype": "text/x-python",
   "name": "python",
   "nbconvert_exporter": "python",
   "pygments_lexer": "ipython3",
   "version": "3.10.9"
  },
  "orig_nbformat": 4
 },
 "nbformat": 4,
 "nbformat_minor": 2
}

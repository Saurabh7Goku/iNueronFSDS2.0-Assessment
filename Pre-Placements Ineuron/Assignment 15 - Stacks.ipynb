{
 "cells": [
  {
   "attachments": {},
   "cell_type": "markdown",
   "metadata": {},
   "source": [
    "**Question 1**\n",
    "\n",
    "Given an array **arr[ ]** of size **N** having elements, the task is to find the next greater element for each element of the array in order of their appearance in the array.Next greater element of an element in the array is the nearest element on the right which is greater than the current element.If there does not exist next greater of current element, then next greater element for current element is -1. For example, next greater of the last element is always -1.\n",
    "\n",
    "**Example 1:**\n",
    "```\n",
    "Input:\n",
    "N = 4, arr[] = [1 3 2 4]\n",
    "Output:\n",
    "3 4 4 -1\n",
    "Explanation:\n",
    "In the array, the next larger element\n",
    "to 1 is 3 , 3 is 4 , 2 is 4 and for 4 ?\n",
    "since it doesn't exist, it is -1.\n",
    "\n",
    "```\n",
    "\n",
    "**Example2**:\n",
    "```\n",
    "Input:\n",
    "N = 5, arr[] [6 8 0 1 3]\n",
    "Output:\n",
    "8 -1 1 3 -1\n",
    "Explanation:\n",
    "In the array, the next larger element to\n",
    "6 is 8, for 8 there is no larger elements\n",
    "hence it is -1, for 0 it is 1 , for 1 it\n",
    "is 3 and then for 3 there is no larger\n",
    "element on right and hence -1.\n",
    "\n",
    "```"
   ]
  },
  {
   "attachments": {},
   "cell_type": "markdown",
   "metadata": {},
   "source": [
    "`Approach`:\n",
    "1. Create an empty stack to store the indices of the elements.\n",
    "2. Iterate through the array from right to left.\n",
    "3. For each element arr[i], perform the following:\n",
    "- While the stack is not empty and the current element is greater than the element at the top of the stack, pop the stack and update the next greater element at the corresponding index in a separate result array.\n",
    "- Push the current element's index onto the stack.\n",
    "4. After the iteration, any remaining elements in the stack have no next greater element. Set the corresponding indices in the result array as -1.\n",
    "5. Return the result array.\n"
   ]
  },
  {
   "attachments": {},
   "cell_type": "markdown",
   "metadata": {},
   "source": [
    "**Time Complexity**: `O(n)`\n",
    "\n",
    "**Space Complexity**: `O(n)`"
   ]
  },
  {
   "cell_type": "code",
   "execution_count": 1,
   "metadata": {},
   "outputs": [
    {
     "name": "stdout",
     "output_type": "stream",
     "text": [
      "[3, 4, 4, -1]\n",
      "[8, -1, 1, 3, -1]\n"
     ]
    }
   ],
   "source": [
    "def findNextGreaterElements(arr):\n",
    "    stack = []\n",
    "    result = [-1] * len(arr)\n",
    "\n",
    "    for i in range(len(arr) - 1, -1, -1):\n",
    "        while stack and arr[i] >= arr[stack[-1]]:\n",
    "            stack.pop()\n",
    "\n",
    "        if stack:\n",
    "            result[i] = arr[stack[-1]]\n",
    "\n",
    "        stack.append(i)\n",
    "\n",
    "    return result\n",
    "arr1 = [1, 3, 2, 4]\n",
    "result1 = findNextGreaterElements(arr1)\n",
    "print(result1)  \n",
    "\n",
    "arr2 = [6, 8, 0, 1, 3]\n",
    "result2 = findNextGreaterElements(arr2)\n",
    "print(result2)  \n"
   ]
  },
  {
   "attachments": {},
   "cell_type": "markdown",
   "metadata": {},
   "source": [
    "**Question 2**\n",
    "\n",
    "Given an array **a** of integers of length **n**, find the nearest smaller number for every element such that the smaller element is on left side.If no small element present on the left print -1.\n",
    "\n",
    "**Example 1:**\n",
    "```\n",
    "Input: n = 3\n",
    "a = {1, 6, 2}\n",
    "Output: -1 1 1\n",
    "Explaination: There is no number at the\n",
    "left of 1. Smaller number than 6 and 2 is 1.\n",
    "\n",
    "```\n",
    "**Example 2**:\n",
    "```\n",
    "Input: n = 6\n",
    "a = {1, 5, 0, 3, 4, 5}\n",
    "Output: -1 1 -1 0 3 4\n",
    "Explaination: Upto 3 it is easy to see\n",
    "the smaller numbers. But for 4 the smaller\n",
    "numbers are 1, 0 and 3. But among them 3\n",
    "is closest. Similary for 5 it is 4.\n",
    "\n",
    "```"
   ]
  },
  {
   "attachments": {},
   "cell_type": "markdown",
   "metadata": {},
   "source": [
    "`Approach`:\n",
    "1. Create an empty stack to store the indices of the elements.\n",
    "2. Iterate through the array from left to right.\n",
    "3. For each element a[i], perform the following:\n",
    "- While the stack is not empty and the element at the top of the stack is greater than or equal to a[i], pop the stack.\n",
    "- If the stack is empty, there is no smaller element on the left, so set the corresponding index in the result array as -1.\n",
    "- Otherwise, the element at the top of the stack is the nearest smaller element on the left. Set the corresponding index in the result array as a[stack[-1]].\n",
    "- Push the current element's index onto the stack.\n",
    "4. Return the result array."
   ]
  },
  {
   "attachments": {},
   "cell_type": "markdown",
   "metadata": {},
   "source": [
    "**Time Complexity**: `O(n)`\n",
    "\n",
    "**Space Complexity**: `O(n)`"
   ]
  },
  {
   "cell_type": "code",
   "execution_count": 2,
   "metadata": {},
   "outputs": [
    {
     "name": "stdout",
     "output_type": "stream",
     "text": [
      "[-1, 1, 1]\n",
      "[-1, 1, -1, 0, 3, 4]\n"
     ]
    }
   ],
   "source": [
    "def findNearestSmallerElements(a):\n",
    "    stack = []\n",
    "    result = []\n",
    "\n",
    "    for i in range(len(a)):\n",
    "        while stack and a[stack[-1]] >= a[i]:\n",
    "            stack.pop()\n",
    "\n",
    "        if not stack:\n",
    "            result.append(-1)\n",
    "        else:\n",
    "            result.append(a[stack[-1]])\n",
    "\n",
    "        stack.append(i)\n",
    "\n",
    "    return result\n",
    "arr1 = [1, 6, 2]\n",
    "result1 = findNearestSmallerElements(arr1)\n",
    "print(result1)  \n",
    "\n",
    "arr2 = [1, 5, 0, 3, 4, 5]\n",
    "result2 = findNearestSmallerElements(arr2)\n",
    "print(result2)  \n"
   ]
  },
  {
   "attachments": {},
   "cell_type": "markdown",
   "metadata": {},
   "source": [
    "**Question 3**\n",
    "\n",
    "Implement a Stack using two queues **q1** and **q2**.\n",
    "\n",
    "**Example 1:**\n",
    "\n",
    "```\n",
    "\n",
    "Input:\n",
    "push(2)\n",
    "push(3)\n",
    "pop()\n",
    "push(4)\n",
    "pop()\n",
    "Output:3 4\n",
    "Explanation:\n",
    "push(2) the stack will be {2}\n",
    "push(3) the stack will be {2 3}\n",
    "pop()   poped element will be 3 the\n",
    "        stack will be {2}\n",
    "push(4) the stack will be {2 4}\n",
    "pop()   poped element will be 4\n",
    "\n",
    "```\n",
    "**Example 2:**\n",
    "```\n",
    "Input:\n",
    "push(2)\n",
    "pop()\n",
    "pop()\n",
    "push(3)\n",
    "Output:2 -1\n",
    "\n",
    "```"
   ]
  },
  {
   "attachments": {},
   "cell_type": "markdown",
   "metadata": {},
   "source": [
    "`Approach`:\n",
    "1. Create two empty queues, q1 and q2.\n",
    "2. For the push operation, add the new element to q1.\n",
    "3. For the pop operation, transfer all elements from q1 to q2, except for the last element. Remove and return the last element from q1. Then, swap the names of q1 and q2, so that q2 becomes the new empty queue for the next operation.\n",
    "4. For the top operation, transfer all elements from q1 to q2, except for the last element. Store the last element from q1, swap the names of q1 and q2, and return the stored element.\n",
    "5. For the empty operation, return whether both q1 and q2 are empty."
   ]
  },
  {
   "attachments": {},
   "cell_type": "markdown",
   "metadata": {},
   "source": [
    "**Time Complexity**: the time complexity of the basic stack operations are as follows:\n",
    "- Push operation: O(1) - Inserting an element at the top of the stack takes constant time.\n",
    "- Pop operation: O(1) - Removing the top element from the stack also takes constant time.\n",
    "- Top operation: O(1) - Accessing the top element of the stack is a constant-time operation.\n",
    "- Search operation: O(n) - Searching for an element in the stack requires iterating through all the elements in the stack, which has a time complexity of O(n).\n",
    "\n",
    "**Space Complexity**: `O(n)`"
   ]
  },
  {
   "cell_type": "code",
   "execution_count": 3,
   "metadata": {},
   "outputs": [
    {
     "name": "stdout",
     "output_type": "stream",
     "text": [
      "3\n",
      "4\n",
      "2\n",
      "-1\n",
      "3\n"
     ]
    }
   ],
   "source": [
    "from collections import deque\n",
    "\n",
    "class Stack:\n",
    "    def __init__(self):\n",
    "        self.q1 = deque()\n",
    "        self.q2 = deque()\n",
    "\n",
    "    def push(self, value):\n",
    "        self.q1.append(value)\n",
    "\n",
    "    def pop(self):\n",
    "        if not self.q1:\n",
    "            return -1\n",
    "\n",
    "        while len(self.q1) > 1:\n",
    "            self.q2.append(self.q1.popleft())\n",
    "\n",
    "        element = self.q1.popleft()\n",
    "\n",
    "        self.q1, self.q2 = self.q2, self.q1\n",
    "\n",
    "        return element\n",
    "\n",
    "    def top(self):\n",
    "        if not self.q1:\n",
    "            return -1\n",
    "\n",
    "        while len(self.q1) > 1:\n",
    "            self.q2.append(self.q1.popleft())\n",
    "\n",
    "        element = self.q1.popleft()\n",
    "        self.q2.append(element)\n",
    "\n",
    "        self.q1, self.q2 = self.q2, self.q1\n",
    "\n",
    "        return element\n",
    "\n",
    "    def empty(self):\n",
    "        return not self.q1 and not self.q2\n",
    "stack = Stack()\n",
    "stack.push(2)\n",
    "stack.push(3)\n",
    "print(stack.pop())  \n",
    "stack.push(4)\n",
    "print(stack.pop())  \n",
    "\n",
    "stack = Stack()\n",
    "stack.push(2)\n",
    "print(stack.pop())  \n",
    "print(stack.pop())  \n",
    "stack.push(3)\n",
    "print(stack.top())  "
   ]
  },
  {
   "attachments": {},
   "cell_type": "markdown",
   "metadata": {},
   "source": [
    "**Question 4**\n",
    "\n",
    "You are given a stack **St**. You have to reverse the stack using recursion.\n",
    "\n",
    "**Example 1:**\n",
    "\n",
    "```\n",
    "Input:St = {3,2,1,7,6}\n",
    "Output:{6,7,1,2,3}\n",
    "\n",
    "```\n",
    "\n",
    "**Example 2:**\n",
    "\n",
    "```\n",
    "Input:St = {4,3,9,6}\n",
    "Output:{6,9,3,4}\n",
    "\n",
    "```"
   ]
  },
  {
   "attachments": {},
   "cell_type": "markdown",
   "metadata": {},
   "source": [
    "`Approach`:\n",
    "1. Create a recursive function, let's call it reverseStack, that takes the stack as a parameter.\n",
    "2. If the stack is empty or contains only one element, return.\n",
    "3. Otherwise, pop an element from the stack and store it in a variable, let's call it top_element.\n",
    "4. Recursively call reverseStack on the remaining stack.\n",
    "5. After the recursive call, insert top_element at the bottom of the reversed stack.\n",
    "6. Repeat steps 3 to 5 until the stack is empty.\n",
    "7. The stack will be reversed after the recursive calls."
   ]
  },
  {
   "attachments": {},
   "cell_type": "markdown",
   "metadata": {},
   "source": [
    "**Time Complexity**: `O(n^2)`\n",
    "\n",
    "**Space Complexity**: `O(n)`"
   ]
  },
  {
   "cell_type": "code",
   "execution_count": 6,
   "metadata": {},
   "outputs": [
    {
     "name": "stdout",
     "output_type": "stream",
     "text": [
      "[6, 7, 1, 2, 3]\n",
      "[6, 9, 3, 4]\n"
     ]
    }
   ],
   "source": [
    "def reverseStack(stack):\n",
    "    if len(stack) <= 1:\n",
    "        return\n",
    "\n",
    "    top_element = stack.pop()\n",
    "    reverseStack(stack)\n",
    "    insertAtBottom(stack, top_element)\n",
    "\n",
    "def insertAtBottom(stack, element):\n",
    "    if len(stack) == 0:\n",
    "        stack.append(element)\n",
    "        return\n",
    "\n",
    "    top_element = stack.pop()\n",
    "    insertAtBottom(stack, element)\n",
    "    stack.append(top_element)\n",
    "stack1 = [3, 2, 1, 7, 6]\n",
    "reverseStack(stack1)\n",
    "print(stack1)  \n",
    "\n",
    "stack2 = [4, 3, 9, 6]\n",
    "reverseStack(stack2)\n",
    "print(stack2)  "
   ]
  },
  {
   "attachments": {},
   "cell_type": "markdown",
   "metadata": {},
   "source": [
    "**Question 5**\n",
    "\n",
    "You are given a string **S**, the task is to reverse the string using stack.\n",
    "\n",
    "**Example 1:**\n",
    "\n",
    "```\n",
    "Input: S=\"GeeksforGeeks\"\n",
    "Output: skeeGrofskeeG\n",
    "\n",
    "```"
   ]
  },
  {
   "attachments": {},
   "cell_type": "markdown",
   "metadata": {},
   "source": [
    "`Approach`:\n",
    "1. Create an empty stack.\n",
    "2. Iterate through each character in the string from left to right.\n",
    "3. Push each character onto the stack.\n",
    "4. After iterating through all the characters, create an empty string.\n",
    "5. Pop each character from the stack and append it to the empty string.\n",
    "6. The resulting string will be the reversed version of the input string."
   ]
  },
  {
   "attachments": {},
   "cell_type": "markdown",
   "metadata": {},
   "source": [
    "**Time Complexity**: `O(n)`\n",
    "\n",
    "**Space Complexity**: `O(n)`"
   ]
  },
  {
   "cell_type": "code",
   "execution_count": 5,
   "metadata": {},
   "outputs": [
    {
     "name": "stdout",
     "output_type": "stream",
     "text": [
      "skeeGrofskeeG\n"
     ]
    }
   ],
   "source": [
    "def reverseString(s):\n",
    "    stack = []\n",
    "    for char in s:\n",
    "        stack.append(char)\n",
    "\n",
    "    reversed_str = \"\"\n",
    "    while stack:\n",
    "        reversed_str += stack.pop()\n",
    "\n",
    "    return reversed_str\n",
    "input_str = \"GeeksforGeeks\"\n",
    "reversed_str = reverseString(input_str)\n",
    "print(reversed_str)  \n"
   ]
  },
  {
   "attachments": {},
   "cell_type": "markdown",
   "metadata": {},
   "source": [
    "**Question 6**\n",
    "\n",
    "Given string **S** representing a postfix expression, the task is to evaluate the expression and find the final value. Operators will only include the basic arithmetic operators like ***, /, + and -**.\n",
    "\n",
    "**Example 1:**\n",
    "\n",
    "```\n",
    "Input: S = \"231*+9-\"\n",
    "Output: -4\n",
    "Explanation:\n",
    "After solving the given expression,\n",
    "we have -4 as result.\n",
    "\n",
    "```\n",
    "\n",
    "**Example 2:**\n",
    "\n",
    "```\n",
    "Input: S = \"123+*8-\"\n",
    "Output: -3\n",
    "Explanation:\n",
    "After solving the given postfix\n",
    "expression, we have -3 as result.\n",
    "\n",
    "```"
   ]
  },
  {
   "attachments": {},
   "cell_type": "markdown",
   "metadata": {},
   "source": [
    "`Approach`:\n",
    "1. Create an empty stack.\n",
    "2. Iterate through each character in the postfix expression from left to right.\n",
    "3. If the character is an operand (a digit), convert it to an integer and push it onto the stack.\n",
    "4. If the character is an operator, pop the top two elements from the stack.\n",
    "5. Perform the arithmetic operation corresponding to the operator on the popped operands.\n",
    "6. Push the result back onto the stack.\n",
    "7. After iterating through all the characters, the final result will be the only element remaining in the stack.\n",
    "8. Pop the result from the stack and return it."
   ]
  },
  {
   "attachments": {},
   "cell_type": "markdown",
   "metadata": {},
   "source": [
    "**Time Complexity**: `O(n)`\n",
    "\n",
    "**Space Complexity**: `O(n)`"
   ]
  },
  {
   "cell_type": "code",
   "execution_count": 7,
   "metadata": {},
   "outputs": [
    {
     "name": "stdout",
     "output_type": "stream",
     "text": [
      "-4\n",
      "-3\n"
     ]
    }
   ],
   "source": [
    "def evaluatePostfix(expression):\n",
    "    stack = []\n",
    "    for char in expression:\n",
    "        if char.isdigit():\n",
    "            stack.append(int(char))\n",
    "        else:\n",
    "            operand2 = stack.pop()\n",
    "            operand1 = stack.pop()\n",
    "\n",
    "            if char == '+':\n",
    "                result = operand1 + operand2\n",
    "            elif char == '-':\n",
    "                result = operand1 - operand2\n",
    "            elif char == '*':\n",
    "                result = operand1 * operand2\n",
    "            elif char == '/':\n",
    "                result = operand1 / operand2\n",
    "\n",
    "            stack.append(result)\n",
    "\n",
    "    return stack.pop()\n",
    "expression1 = \"231*+9-\"\n",
    "result1 = evaluatePostfix(expression1)\n",
    "print(result1)  \n",
    "\n",
    "expression2 = \"123+*8-\"\n",
    "result2 = evaluatePostfix(expression2)\n",
    "print(result2)  \n"
   ]
  },
  {
   "attachments": {},
   "cell_type": "markdown",
   "metadata": {},
   "source": [
    "**Question 7**\n",
    "\n",
    "Design a stack that supports push, pop, top, and retrieving the minimum element in constant time.\n",
    "\n",
    "Implement the `MinStack` class:\n",
    "\n",
    "- `MinStack()` initializes the stack object.\n",
    "- `void push(int val)` pushes the element `val` onto the stack.\n",
    "- `void pop()` removes the element on the top of the stack.\n",
    "- `int top()` gets the top element of the stack.\n",
    "- `int getMin()` retrieves the minimum element in the stack.\n",
    "\n",
    "You must implement a solution with `O(1)` time complexity for each function.\n",
    "\n",
    "**Example 1:**\n",
    "\n",
    "```\n",
    "Input\n",
    "[\"MinStack\",\"push\",\"push\",\"push\",\"getMin\",\"pop\",\"top\",\"getMin\"]\n",
    "[[],[-2],[0],[-3],[],[],[],[]]\n",
    "\n",
    "Output\n",
    "[null,null,null,null,-3,null,0,-2]\n",
    "\n",
    "Explanation\n",
    "MinStack minStack = new MinStack();\n",
    "minStack.push(-2);\n",
    "minStack.push(0);\n",
    "minStack.push(-3);\n",
    "minStack.getMin(); // return -3\n",
    "minStack.pop();\n",
    "minStack.top();    // return 0\n",
    "minStack.getMin(); // return -2\n",
    "\n",
    "```\n",
    "\n"
   ]
  },
  {
   "attachments": {},
   "cell_type": "markdown",
   "metadata": {},
   "source": [
    "`Approach`:\n",
    "1. Create two stacks: one stack to store the elements (stack) and another stack to store the minimum values (min_stack).\n",
    "2. When pushing an element, append it to the stack. Additionally, check if the min_stack is empty or if the new element is less than or equal to the current minimum value (min_stack[-1]). If so, push the new element onto the min_stack as well.\n",
    "3. When popping an element, remove the top element from the stack. Also, check if the popped element is the current minimum value (min_stack[-1]). If it is, remove the top element from the min_stack as well.\n",
    "4. The top method should return the top element from the stack (stack[-1]).\n",
    "5. The getMin method should return the current minimum value from the min_stack (min_stack[-1])."
   ]
  },
  {
   "attachments": {},
   "cell_type": "markdown",
   "metadata": {},
   "source": [
    "**Time Complexity**:  the time complexity of the basic stack operations are as follows:\n",
    "- Push operation: O(1) - Inserting an element at the top of the stack takes constant time.\n",
    "- Pop operation: O(1) - Removing the top element from the stack also takes constant time.\n",
    "- Top operation: O(1) - Accessing the top element of the stack is a constant-time operation.\n",
    "- Search operation: O(n) - Searching for an element in the stack requires iterating through all the elements in the stack, which has a time complexity of O(n). \n",
    "\n",
    "**Space Complexity**: `O(n)`"
   ]
  },
  {
   "cell_type": "code",
   "execution_count": 8,
   "metadata": {},
   "outputs": [
    {
     "name": "stdout",
     "output_type": "stream",
     "text": [
      "-3\n",
      "0\n",
      "-2\n"
     ]
    }
   ],
   "source": [
    "class MinStack:\n",
    "    def __init__(self):\n",
    "        self.stack = []\n",
    "        self.min_stack = []\n",
    "\n",
    "    def push(self, val):\n",
    "        self.stack.append(val)\n",
    "        if not self.min_stack or val <= self.min_stack[-1]:\n",
    "            self.min_stack.append(val)\n",
    "\n",
    "    def pop(self):\n",
    "        if self.stack.pop() == self.min_stack[-1]:\n",
    "            self.min_stack.pop()\n",
    "\n",
    "    def top(self):\n",
    "        return self.stack[-1]\n",
    "\n",
    "    def getMin(self):\n",
    "        return self.min_stack[-1]\n",
    "minStack = MinStack()\n",
    "minStack.push(-2)\n",
    "minStack.push(0)\n",
    "minStack.push(-3)\n",
    "print(minStack.getMin())  \n",
    "minStack.pop()\n",
    "print(minStack.top())     \n",
    "print(minStack.getMin())  \n"
   ]
  },
  {
   "attachments": {},
   "cell_type": "markdown",
   "metadata": {},
   "source": [
    "**Question 8**\n",
    "\n",
    "Given `n` non-negative integers representing an elevation map where the width of each bar is `1`, compute how much water it can trap after raining.\n",
    "\n",
    "**Example 1:**\n",
    "\n",
    "```\n",
    "Input: height = [0,1,0,2,1,0,1,3,2,1,2,1]\n",
    "Output: 6\n",
    "Explanation: The above elevation map (black section) is represented by array [0,1,0,2,1,0,1,3,2,1,2,1]. In this case, 6 units of rain water (blue section) are being trapped.\n",
    "\n",
    "```\n",
    "**Example 2:**\n",
    "\n",
    "```\n",
    "Input: height = [4,2,0,3,2,5]\n",
    "Output: 9\n",
    "\n",
    "```"
   ]
  },
  {
   "attachments": {},
   "cell_type": "markdown",
   "metadata": {},
   "source": [
    "`Approach`:\n",
    "1. Initialize two arrays, left_max and right_max, of the same size as the input elevation map, initially filled with zeros. These arrays will store the maximum height encountered from the left and right sides, respectively.\n",
    "2. Iterate through the elevation map from left to right and update the left_max array. For each bar, left_max[i] will store the maximum height encountered from the left up to index i.\n",
    "3. Iterate through the elevation map from right to left and update the right_max array. For each bar, right_max[i] will store the maximum height encountered from the right up to index i.\n",
    "4. Initialize a variable total_water to keep track of the total amount of trapped water, initially set to 0.\n",
    "5. Iterate through the elevation map and calculate the water trapped at each bar by taking the minimum of left_max[i] and right_max[i] and subtracting the height of the current bar. If the calculated value is positive, add it to the total_water.\n",
    "6. Return the total_water, which represents the total amount of trapped water on the elevation map."
   ]
  },
  {
   "attachments": {},
   "cell_type": "markdown",
   "metadata": {},
   "source": [
    "**Time Complexity**: `O(n)`\n",
    "\n",
    "**Space Complexity**: `O(1)`"
   ]
  },
  {
   "cell_type": "code",
   "execution_count": 9,
   "metadata": {},
   "outputs": [
    {
     "name": "stdout",
     "output_type": "stream",
     "text": [
      "6\n",
      "9\n"
     ]
    }
   ],
   "source": [
    "def trap(height):\n",
    "    n = len(height)\n",
    "    left_max = [0] * n\n",
    "    right_max = [0] * n\n",
    "\n",
    "    left_max[0] = height[0]\n",
    "    for i in range(1, n):\n",
    "        left_max[i] = max(left_max[i-1], height[i])\n",
    "\n",
    "    right_max[n-1] = height[n-1]\n",
    "    for i in range(n-2, -1, -1):\n",
    "        right_max[i] = max(right_max[i+1], height[i])\n",
    "\n",
    "    total_water = 0\n",
    "    for i in range(n):\n",
    "        water = min(left_max[i], right_max[i]) - height[i]\n",
    "        if water > 0:\n",
    "            total_water += water\n",
    "\n",
    "    return total_water\n",
    "height1 = [0, 1, 0, 2, 1, 0, 1, 3, 2, 1, 2, 1]\n",
    "print(trap(height1))  \n",
    "height2 = [4, 2, 0, 3, 2, 5]\n",
    "print(trap(height2))  \n",
    "\n"
   ]
  }
 ],
 "metadata": {
  "kernelspec": {
   "display_name": "base",
   "language": "python",
   "name": "python3"
  },
  "language_info": {
   "codemirror_mode": {
    "name": "ipython",
    "version": 3
   },
   "file_extension": ".py",
   "mimetype": "text/x-python",
   "name": "python",
   "nbconvert_exporter": "python",
   "pygments_lexer": "ipython3",
   "version": "3.10.9"
  },
  "orig_nbformat": 4
 },
 "nbformat": 4,
 "nbformat_minor": 2
}

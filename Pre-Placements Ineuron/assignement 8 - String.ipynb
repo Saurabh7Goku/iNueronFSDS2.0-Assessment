{
 "cells": [
  {
   "attachments": {},
   "cell_type": "markdown",
   "metadata": {},
   "source": [
    "**Question 1**\n",
    "\n",
    "Given two strings s1 and s2, return *the lowest **ASCII** sum of deleted characters to make two strings equal*.\n",
    "\n",
    "**Example 1:**\n",
    "\n",
    "**Input:** s1 = \"sea\", s2 = \"eat\"\n",
    "\n",
    "**Output:** 231\n",
    "\n",
    "**Explanation:** Deleting \"s\" from \"sea\" adds the ASCII value of \"s\" (115) to the sum.\n",
    "\n",
    "Deleting \"t\" from \"eat\" adds 116 to the sum.\n",
    "\n",
    "At the end, both strings are equal, and 115 + 116 = 231 is the minimum sum possible to achieve this."
   ]
  },
  {
   "attachments": {},
   "cell_type": "markdown",
   "metadata": {},
   "source": [
    "`Approach`:\n",
    "\n",
    " - Initialize a 2-dimensional array dp of size (m+1) x (n+1), where m and n are the lengths of s1 and s2 respectively. This array will store the minimum ASCII sum of deleted characters for substrings of s1 and s2.\n",
    "\n",
    " - Initialize the first row and the first column of dp:\n",
    "\n",
    "    - dp[i][0] represents the minimum ASCII sum of deleted characters for the substring of s1 from index 0 to i-1 and an empty substring of s2. Therefore, dp[i][0] is the sum of ASCII values of characters in s1 from index 0 to i-1.\n",
    "    - dp[0][j] represents the minimum ASCII sum of deleted characters for an empty substring of s1 and the substring of s2 from index 0 to j-1. Therefore, dp[0][j] is the sum of ASCII values of characters in s2 from index 0 to j-1.\n",
    " - Iterate over the remaining cells of dp in row-major order (from top to bottom, left to right):\n",
    "\n",
    "    - If s1[i-1] is equal to s2[j-1], no deletion is required, so dp[i][j] is equal to dp[i-1][j-1].\n",
    "    - If s1[i-1] is not equal to s2[j-1], we have two choices:\n",
    "        - Delete s1[i-1] and find the minimum ASCII sum of deleted characters for the remaining substrings. In this case, dp[i][j] is equal to dp[i-1][j] + ASCII(s1[i-1]).\n",
    "        - Delete s2[j-1] and find the minimum ASCII sum of deleted characters for the remaining substrings. In this case, dp[i][j] is equal to dp[i][j-1] + ASCII(s2[j-1]).\n",
    "        - We take the minimum of the above two choices as the value of dp[i][j].\n",
    " - Finally, the result is stored in dp[m][n], which represents the minimum ASCII sum of deleted characters to make the two strings equal.\n",
    "\n",
    "**Time Complexity ---> O(m*n) `The time complexity of this algorithm is O(m * n), where m and n are the lengths of s1 and s2 respectively`**     \n",
    "**Space Complexity ---> O(m*n) `The space complexity is also O(m * n) since we use a dp table of the same size to store intermediate results.`**"
   ]
  },
  {
   "cell_type": "code",
   "execution_count": 1,
   "metadata": {},
   "outputs": [
    {
     "name": "stdout",
     "output_type": "stream",
     "text": [
      "Output => 231\n"
     ]
    }
   ],
   "source": [
    "def minimumDeleteSum(s1, s2):\n",
    "    m, n = len(s1), len(s2)\n",
    "    dp = [[0] * (n+1) for _ in range(m+1)]\n",
    "\n",
    "    # Initialize the first row and the first column\n",
    "    for i in range(1, m+1):\n",
    "        dp[i][0] = dp[i-1][0] + ord(s1[i-1])\n",
    "    for j in range(1, n+1):\n",
    "        dp[0][j] = dp[0][j-1] + ord(s2[j-1])\n",
    "\n",
    "    # Fill in the remaining cells of dp\n",
    "    for i in range(1, m+1):\n",
    "        for j in range(1, n+1):\n",
    "            if s1[i-1] == s2[j-1]:\n",
    "                dp[i][j] = dp[i-1][j-1]\n",
    "            else:\n",
    "                dp[i][j] = min(dp[i-1][j] + ord(s1[i-1]), dp[i][j-1] + ord(s2[j-1]))\n",
    "\n",
    "    return dp[m][n]\n",
    "\n",
    "print('Output =>', minimumDeleteSum(s1 = 'sea', s2= 'eat'))"
   ]
  },
  {
   "attachments": {},
   "cell_type": "markdown",
   "metadata": {},
   "source": [
    "**Question 2**\n",
    "\n",
    "Given a string s containing only three types of characters: '(', ')' and '*', return true *if* s *is **valid***.\n",
    "\n",
    "The following rules define a **valid** string:\n",
    "\n",
    "- Any left parenthesis '(' must have a corresponding right parenthesis ')'.\n",
    "- Any right parenthesis ')' must have a corresponding left parenthesis '('.\n",
    "- Left parenthesis '(' must go before the corresponding right parenthesis ')'.\n",
    "- '*' could be treated as a single right parenthesis ')' or a single left parenthesis '(' or an empty string \"\".\n",
    "\n",
    "**Example 1:**\n",
    "\n",
    "**Input:** s = \"()\"\n",
    "\n",
    "**Output:**\n",
    "\n",
    "true"
   ]
  },
  {
   "attachments": {},
   "cell_type": "markdown",
   "metadata": {},
   "source": [
    "`Approach`:\n",
    "\n",
    " - Initialize an empty stack.\n",
    "\n",
    " - Iterate through each character, c, in the string s:\n",
    "\n",
    "   - If c is one of the opening parentheses ('(' or '*'), push it onto the stack.\n",
    "   - If c is a closing parenthesis (')'), do the following:\n",
    "      - If the stack is not empty and the top of the stack is an opening parenthesis ('('), pop the opening parenthesis from the stack.\n",
    "      - Otherwise, if the stack is not empty and the top of the stack is a wildcard ('*'), pop the wildcard from the stack.\n",
    "      - If neither of the above conditions is met, return false as there is no corresponding opening parenthesis for the closing parenthesis.\n",
    " - After iterating through all the characters, check if there are any remaining opening parentheses ('(') on the stack. If there are, return false since there are unmatched parentheses.\n",
    "\n",
    "If the stack becomes empty after processing all the characters or contains only wildcards ('*'), return true since the string is valid.\n",
    "\n",
    "**Time Complexity ---> O(n) `The time complexity of this algorithm is O(n)`**     \n",
    "**Space Complexity ---> O(n) `The space complexity is also O(n) in the worst case`**"
   ]
  },
  {
   "cell_type": "code",
   "execution_count": 2,
   "metadata": {},
   "outputs": [
    {
     "name": "stdout",
     "output_type": "stream",
     "text": [
      "Output => True\n"
     ]
    }
   ],
   "source": [
    "def isValid(s):\n",
    "    stack = []\n",
    "\n",
    "    for c in s:\n",
    "        if c == '(' or c == '*':\n",
    "            stack.append(c)\n",
    "        elif c == ')':\n",
    "            if stack and stack[-1] == '(':\n",
    "                stack.pop()\n",
    "            elif stack and stack[-1] == '*':\n",
    "                stack.pop()\n",
    "            else:\n",
    "                return False\n",
    "    \n",
    "    while stack:\n",
    "        if stack[-1] != '*':\n",
    "            return False\n",
    "        stack.pop()\n",
    "\n",
    "    return True\n",
    "\n",
    "print('Output =>', isValid(s='()'))"
   ]
  },
  {
   "attachments": {},
   "cell_type": "markdown",
   "metadata": {},
   "source": [
    "**Question 3**\n",
    "\n",
    "Given two strings word1 and word2, return *the minimum number of **steps** required to make* word1 *and* word2 *the same*.\n",
    "\n",
    "In one **step**, you can delete exactly one character in either string.\n",
    "\n",
    "**Example 1:**\n",
    "\n",
    "**Input:** word1 = \"sea\", word2 = \"eat\"\n",
    "\n",
    "**Output:** 2\n",
    "\n",
    "**Explanation:** You need one step to make \"sea\" to \"ea\" and another step to make \"eat\" to \"ea\"."
   ]
  },
  {
   "attachments": {},
   "cell_type": "markdown",
   "metadata": {},
   "source": [
    "`Approach`:\n",
    "\n",
    " - Initialize a 2-dimensional array dp of size (m+1) x (n+1), where m and n are the lengths of word1 and word2 respectively. This array will store the minimum number of steps required to make substrings of word1 and word2 equal.\n",
    "\n",
    " - Initialize the first row and the first column of dp:\n",
    "\n",
    "   - dp[i][0] represents the minimum number of steps required to make the substring of word1 from index 0 to i-1 and an empty substring of word2 equal. Therefore, dp[i][0] is equal to i.\n",
    "   - dp[0][j] represents the minimum number of steps required to make an empty substring of word1 equal to the substring of word2 from index 0 to j-1. Therefore, dp[0][j] is equal to j.\n",
    " - Iterate over the remaining cells of dp in row-major order (from top to bottom, left to right):\n",
    "\n",
    "   - If word1[i-1] is equal to word2[j-1], no deletion is required, so dp[i][j] is equal to dp[i-1][j-1].\n",
    "   - If word1[i-1] is not equal to word2[j-1], we have two choices:\n",
    "      - Delete word1[i-1] and find the minimum number of steps required for the remaining substrings. In this case, dp[i][j] is equal to dp[i-1][j] + 1.\n",
    "      - Delete word2[j-1] and find the minimum number of steps required for the remaining substrings. In this case, dp[i][j] is equal to dp[i][j-1] + 1.\n",
    "      - We take the minimum of the above two choices as the value of dp[i][j].\n",
    " - Finally, the result is stored in dp[m][n], which represents the minimum number of steps required to make the two strings equal.\n",
    "\n",
    "**Time Complexity ---> O(m*n) `The time complexity of this algorithm is O(m * n), where m and n are the lengths of word1 and word2 respectively`**    \n",
    "**Space Complexity ---> O(m*n) `The space complexity is also O(m * n) since we use a dp table of the same size to store intermediate results.`**"
   ]
  },
  {
   "cell_type": "code",
   "execution_count": 12,
   "metadata": {},
   "outputs": [
    {
     "name": "stdout",
     "output_type": "stream",
     "text": [
      "Output =>  2\n"
     ]
    }
   ],
   "source": [
    "def minSteps(word1, word2):\n",
    "    m, n = len(word1), len(word2)\n",
    "    dp = [[0] * (n+1) for _ in range(m+1)]\n",
    "\n",
    "    # Initialize the first row and the first column\n",
    "    for i in range(1, m+1):\n",
    "        dp[i][0] = i\n",
    "    for j in range(1, n+1):\n",
    "        dp[0][j] = j\n",
    "\n",
    "    # Fill in the remaining cells of dp\n",
    "    for i in range(1, m+1):\n",
    "        for j in range(1, n+1):\n",
    "            if word1[i-1] == word2[j-1]:\n",
    "                dp[i][j] = dp[i-1][j-1]\n",
    "            else:\n",
    "                dp[i][j] = min(dp[i-1][j] + 1, dp[i][j-1] + 1)\n",
    "\n",
    "    return dp[m][n]\n",
    "\n",
    "print('Output => ', minSteps(word1='sea', word2='eat'))"
   ]
  },
  {
   "attachments": {},
   "cell_type": "markdown",
   "metadata": {},
   "source": [
    "**Question 4**\n",
    "\n",
    "You need to construct a binary tree from a string consisting of parenthesis and integers.\n",
    "\n",
    "The whole input represents a binary tree. It contains an integer followed by zero, one or two pairs of parenthesis. The integer represents the root's value and a pair of parenthesis contains a child binary tree with the same structure.\n",
    "You always start to construct the **left** child node of the parent first if it exists.\n",
    "\n",
    "**Input:** s = \"4(2(3)(1))(6(5))\"\n",
    "\n",
    "**Output:** [4,2,6,3,1,5]"
   ]
  },
  {
   "attachments": {},
   "cell_type": "markdown",
   "metadata": {},
   "source": [
    "`Approach`:\n",
    "\n",
    " - Define a helper function, buildTreeUtil(s), that takes the string s as input and returns the constructed binary tree.\n",
    "\n",
    " - If the string s is empty, return None since there are no nodes to construct.\n",
    "\n",
    " - Find the first occurrence of an opening parenthesis '(' in the string s. The value before this opening parenthesis is the root value of the current subtree.\n",
    "\n",
    " - Create a new TreeNode with the root value.\n",
    "\n",
    " - Find the index of the corresponding closing parenthesis ')' for the opening parenthesis found in step 3. This closing parenthesis encloses the left child subtree (if it exists) and the remaining string after the closing parenthesis represents the right child subtree (if it exists).\n",
    "\n",
    " - Extract the substring between the opening and closing parentheses, excluding the parentheses themselves. This substring represents the string for the left child subtree.\n",
    "\n",
    " - Recursively call buildTreeUtil with the left child substring to construct the left child node of the current root node. Assign the return value of the recursive call to the left attribute of the current root node.\n",
    "\n",
    " - If there is any remaining string after the closing parenthesis, extract the substring representing the right child subtree.\n",
    "\n",
    " - Recursively call buildTreeUtil with the right child substring to construct the right child node of the current root node. Assign the return value of the recursive call to the right attribute of the current root node.\n",
    "\n",
    " - Finally, return the constructed root node.\n",
    "\n",
    "**Time Complexity ---> O(n)**    \n",
    "**Space Complexity ---> O(n)**"
   ]
  },
  {
   "cell_type": "code",
   "execution_count": 19,
   "metadata": {},
   "outputs": [
    {
     "name": "stdout",
     "output_type": "stream",
     "text": [
      "[4, 2, 6, 3, 1, 5]\n"
     ]
    }
   ],
   "source": [
    "class TreeNode:\n",
    "    def __init__(self, val=0, left=None, right=None):\n",
    "        self.val = val\n",
    "        self.left = left\n",
    "        self.right = right\n",
    "\n",
    "class Solution:\n",
    "    def tree2str(self, t):\n",
    "        if not t:\n",
    "            return ''\n",
    "        left = '({})'.format(self.tree2str(t.left)) if (t.left or t.right) else ''\n",
    "        right = '({})'.format(self.tree2str(t.right)) if t.right else ''\n",
    "        return '{}{}{}'.format(t.val, left, right)\n",
    "\n",
    "\n",
    "t = '4(2(3)(1))(6(5))'\n",
    "instance = Solution()\n",
    "result = instance.tree2str(t)\n",
    "print(result)"
   ]
  },
  {
   "attachments": {},
   "cell_type": "markdown",
   "metadata": {},
   "source": [
    "**Question 5**\n",
    "\n",
    "Given an array of characters chars, compress it using the following algorithm:\n",
    "\n",
    "Begin with an empty string s. For each group of **consecutive repeating characters** in chars:\n",
    "\n",
    "- If the group's length is 1, append the character to s.\n",
    "- Otherwise, append the character followed by the group's length.\n",
    "\n",
    "The compressed string s **should not be returned separately**, but instead, be stored **in the input character array chars**. Note that group lengths that are 10 or longer will be split into multiple characters in chars.\n",
    "\n",
    "After you are done **modifying the input array,** return *the new length of the array*.\n",
    "\n",
    "You must write an algorithm that uses only constant extra space.\n",
    "\n",
    "**Example 1:**\n",
    "\n",
    "**Input:** chars = [\"a\",\"a\",\"b\",\"b\",\"c\",\"c\",\"c\"]\n",
    "\n",
    "**Output:** Return 6, and the first 6 characters of the input array should be: [\"a\",\"2\",\"b\",\"2\",\"c\",\"3\"]\n",
    "\n",
    "**Explanation:**\n",
    "\n",
    "The groups are \"aa\", \"bb\", and \"ccc\". This compresses to \"a2b2c3\"."
   ]
  },
  {
   "attachments": {},
   "cell_type": "markdown",
   "metadata": {},
   "source": [
    "`Approach`:\n",
    "\n",
    " - Initialize write to 0 and count to 1.\n",
    " - Iterate over the array starting from the second character (index 1).\n",
    "   - If the current character is equal to the previous character, increment count by 1.\n",
    "   - If the current character is different from the previous character or we have reached the end of the array:\n",
    "      - Write the previous character at index write.\n",
    "      - If count is greater than 1, convert count to a string and write each digit at the subsequent indices in chars.\n",
    "      - Update write to the next available index for writing.\n",
    "      - Reset count to 1.\n",
    " - Return the value of write, which represents the new length of the compressed array.\n",
    "\n",
    "**Time Complexity ---> O(n) `The time complexity of this algorithm is O(N)`**     \n",
    "**Space Complexity ---> O(1)**"
   ]
  },
  {
   "cell_type": "code",
   "execution_count": 20,
   "metadata": {},
   "outputs": [
    {
     "name": "stdout",
     "output_type": "stream",
     "text": [
      "Output =>  6\n"
     ]
    }
   ],
   "source": [
    "def compress(chars):\n",
    "    write = 0\n",
    "    count = 1\n",
    "\n",
    "    for read in range(1, len(chars) + 1):\n",
    "        if read < len(chars) and chars[read] == chars[read - 1]:\n",
    "            count += 1\n",
    "        else:\n",
    "            chars[write] = chars[read - 1]\n",
    "            write += 1\n",
    "            if count > 1:\n",
    "                count_str = str(count)\n",
    "                for digit in count_str:\n",
    "                    chars[write] = digit\n",
    "                    write += 1\n",
    "            count = 1\n",
    "\n",
    "    return write\n",
    "\n",
    "print('Output => ', compress(chars=[\"a\",\"a\",\"b\",\"b\",\"c\",\"c\",\"c\"]))"
   ]
  },
  {
   "attachments": {},
   "cell_type": "markdown",
   "metadata": {},
   "source": [
    "**Question 6**\n",
    "\n",
    "Given two strings s and p, return *an array of all the start indices of* p*'s anagrams in* s. You may return the answer in **any order**.\n",
    "\n",
    "An **Anagram** is a word or phrase formed by rearranging the letters of a different word or phrase, typically using all the original letters exactly once.\n",
    "\n",
    "**Example 1:**\n",
    "\n",
    "**Input:** s = \"cbaebabacd\", p = \"abc\"\n",
    "\n",
    "**Output:** [0,6]\n",
    "\n",
    "**Explanation:**\n",
    "\n",
    "The substring with start index = 0 is \"cba\", which is an anagram of \"abc\".\n",
    "\n",
    "The substring with start index = 6 is \"bac\", which is an anagram of \"abc\"."
   ]
  },
  {
   "attachments": {},
   "cell_type": "markdown",
   "metadata": {},
   "source": [
    "`Approach`:\n",
    "\n",
    " - Initialize an empty list indices to store the start indices of anagrams.\n",
    " - Create two lists target and window to store the frequency of characters in p and the current window of characters in s, respectively.\n",
    " - Populate the target list with the frequency of characters in p. Initialize the window list with the frequency of characters in the first window of s.\n",
    " - Iterate over s starting from index len(p):\n",
    "      - If target and window are equal, it means the current window is an anagram of p, so we append the start index of the window to indices.\n",
    "      - Update the frequency of characters in the window by decrementing the frequency of the character at the previous window's start index and incrementing the frequency of the current character.\n",
    " - Return the list indices.\n",
    "\n",
    "**Time Complexity ---> O(n)**\n",
    "**Space Complexity ---> O(1)**"
   ]
  },
  {
   "cell_type": "code",
   "execution_count": 21,
   "metadata": {},
   "outputs": [
    {
     "name": "stdout",
     "output_type": "stream",
     "text": [
      "Output =>  [0, 6]\n"
     ]
    }
   ],
   "source": [
    "from collections import Counter\n",
    "\n",
    "def findAnagrams(s, p):\n",
    "    indices = []\n",
    "    target = Counter(p)\n",
    "    window = Counter(s[:len(p)])\n",
    "\n",
    "    if target == window:\n",
    "        indices.append(0)\n",
    "\n",
    "    for i in range(len(p), len(s)):\n",
    "        if window[s[i - len(p)]] == 1:\n",
    "            del window[s[i - len(p)]]\n",
    "        else:\n",
    "            window[s[i - len(p)]] -= 1\n",
    "\n",
    "        window[s[i]] += 1\n",
    "\n",
    "        if target == window:\n",
    "            indices.append(i - len(p) + 1)\n",
    "\n",
    "    return indices\n",
    "\n",
    "print('Output => ', findAnagrams(s='cbaebabacd' , p='abc'))"
   ]
  },
  {
   "attachments": {},
   "cell_type": "markdown",
   "metadata": {},
   "source": [
    "**Question 7**\n",
    "\n",
    "Given an encoded string, return its decoded string.\n",
    "\n",
    "The encoding rule is: k[encoded_string], where the encoded_string inside the square brackets is being repeated exactly k times. Note that k is guaranteed to be a positive integer.\n",
    "\n",
    "You may assume that the input string is always valid; there are no extra white spaces, square brackets are well-formed, etc. Furthermore, you may assume that the original data does not contain any digits and that digits are only for those repeat numbers, k. For example, there will not be input like 3a or 2[4].\n",
    "\n",
    "The test cases are generated so that the length of the output will never exceed 105.\n",
    "\n",
    "**Example 1:**\n",
    "\n",
    "**Input:** s = \"3[a]2[bc]\"\n",
    "\n",
    "**Output:** \"aaabcbc\""
   ]
  },
  {
   "attachments": {},
   "cell_type": "markdown",
   "metadata": {},
   "source": [
    "`Approach`:\n",
    "\n",
    " - Initialize an empty stack.\n",
    " - Initialize an empty string current_string to store the current string being decoded.\n",
    " - Initialize the repetition count current_count to 0.\n",
    " - Iterate over the characters in the input string:\n",
    "   - If the current character is a digit:\n",
    "      - Update the repetition count by multiplying it by 10 and adding the parsed integer value of the digit.\n",
    "   - If the current character is an opening bracket [:\n",
    "      - Push the current repetition count and an empty string to the stack.\n",
    "      - Reset the repetition count to 0.\n",
    "   - If the current character is a closing bracket ]:\n",
    "      - Pop the top of the stack to retrieve the previous repetition count and string.\n",
    "      - Repeat the current string by the repetition count.\n",
    "      - Append the repeated string to the string below it on the stack.\n",
    "      - Update the string on top of the stack with the concatenated string.\n",
    "   - If the current character is a letter:\n",
    "      - Append the character to the string on top of the stack.\n",
    " - Return the string on top of the stack, which represents the decoded string.\n",
    "\n",
    "**Time Complexity ---> O(n)**     \n",
    "**Space Complexity ---> O(n)**"
   ]
  },
  {
   "cell_type": "code",
   "execution_count": 23,
   "metadata": {},
   "outputs": [
    {
     "name": "stdout",
     "output_type": "stream",
     "text": [
      "Output =>  aaaaabcbc\n"
     ]
    }
   ],
   "source": [
    "def decodeString(s):\n",
    "    stack = []\n",
    "    current_string = ''\n",
    "    current_count = 0\n",
    "\n",
    "    for char in s:\n",
    "        if char.isdigit():\n",
    "            current_count = current_count * 10 + int(char)\n",
    "        elif char == '[':\n",
    "            stack.append((current_count, current_string))\n",
    "            current_count = 0\n",
    "            current_string = ''\n",
    "        elif char == ']':\n",
    "            repeat_count, previous_string = stack.pop()\n",
    "            current_string = previous_string + current_string * repeat_count\n",
    "        else:\n",
    "            current_string += char\n",
    "\n",
    "    return current_string\n",
    "\n",
    "print('Output => ', decodeString(s='5[a]2[bc]'))"
   ]
  },
  {
   "attachments": {},
   "cell_type": "markdown",
   "metadata": {},
   "source": [
    "**Question 8**\n",
    "\n",
    "Given two strings s and goal, return true *if you can swap two letters in* s *so the result is equal to* goal*, otherwise, return* false*.*\n",
    "\n",
    "Swapping letters is defined as taking two indices i and j (0-indexed) such that i != j and swapping the characters at s[i] and s[j].\n",
    "\n",
    "- For example, swapping at indices 0 and 2 in \"abcd\" results in \"cbad\".\n",
    "\n",
    "**Example 1:**\n",
    "\n",
    "**Input:** s = \"ab\", goal = \"ba\"\n",
    "\n",
    "**Output:** true\n",
    "\n",
    "**Explanation:** You can swap s[0] = 'a' and s[1] = 'b' to get \"ba\", which is equal to goal."
   ]
  },
  {
   "attachments": {},
   "cell_type": "markdown",
   "metadata": {},
   "source": [
    "`Approach`:\n",
    "\n",
    " - If s and goal are equal, return True since no swaps are required.\n",
    " - Initialize two lists, differ and indexes, to store the differing characters and their corresponding indices, respectively.\n",
    " - Iterate over the characters at each index in s and goal simultaneously:\n",
    "   - If the characters differ, append them to the differ list and their indices to the indexes list.\n",
    "   - If the length of the differ list exceeds 2, return False since more than two swaps are required to make s equal to goal.\n",
    " - If the length of the differ list is not equal to 2, return False since exactly two differing characters are required for a valid swap.\n",
    " - Check if swapping the characters at the indices stored in indexes will make s equal to goal. If the swapped string is equal to goal, return True. Otherwise, return False.\n",
    "\n",
    "**Time Complexity ---> O(n)**     \n",
    "**Space Complexity ---> O(1)**"
   ]
  },
  {
   "cell_type": "code",
   "execution_count": 24,
   "metadata": {},
   "outputs": [
    {
     "name": "stdout",
     "output_type": "stream",
     "text": [
      "Output => True\n"
     ]
    }
   ],
   "source": [
    "def buddyStrings(s, goal):\n",
    "    if s == goal:\n",
    "        return True\n",
    "\n",
    "    differ = []\n",
    "    indexes = []\n",
    "\n",
    "    for i, (char_s, char_goal) in enumerate(zip(s, goal)):\n",
    "        if char_s != char_goal:\n",
    "            differ.append((char_s, char_goal))\n",
    "            indexes.append(i)\n",
    "\n",
    "        if len(differ) > 2:\n",
    "            return False\n",
    "\n",
    "    if len(differ) != 2:\n",
    "        return False\n",
    "\n",
    "    i, j = indexes\n",
    "    swapped = list(s)\n",
    "    swapped[i], swapped[j] = swapped[j], swapped[i]\n",
    "\n",
    "    return ''.join(swapped) == goal\n",
    "\n",
    "print('Output =>', buddyStrings(s = 'ab', goal = 'ba'))"
   ]
  }
 ],
 "metadata": {
  "kernelspec": {
   "display_name": "OCR",
   "language": "python",
   "name": "python3"
  },
  "language_info": {
   "codemirror_mode": {
    "name": "ipython",
    "version": 3
   },
   "file_extension": ".py",
   "mimetype": "text/x-python",
   "name": "python",
   "nbconvert_exporter": "python",
   "pygments_lexer": "ipython3",
   "version": "3.9.16"
  },
  "orig_nbformat": 4
 },
 "nbformat": 4,
 "nbformat_minor": 2
}

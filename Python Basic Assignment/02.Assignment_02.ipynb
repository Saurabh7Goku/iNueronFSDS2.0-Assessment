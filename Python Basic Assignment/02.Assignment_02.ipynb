{
 "cells": [
  {
   "cell_type": "markdown",
   "metadata": {},
   "source": [
    "# Assignment 2 Solutions"
   ]
  },
  {
   "attachments": {},
   "cell_type": "markdown",
   "metadata": {},
   "source": [
    "#### 1.What are the two values of the boolean data types? how do you write them ?\n",
    "**Ans**: `True` and `False` are two values of the boolen data types.\n",
    "\n",
    "`Condition`: For both(`True` or `False`) the first letter will be `'capital'` and rest in `'lowercase'`."
   ]
  },
  {
   "attachments": {},
   "cell_type": "markdown",
   "metadata": {},
   "source": [
    "#### 2. What are the three different types of Boolean operators?\n",
    "**Ans**: \n",
    "    \n",
    "         1> `AND`\n",
    "\n",
    "         2> `OR`\n",
    "         \n",
    "         3> `NOT`"
   ]
  },
  {
   "attachments": {},
   "cell_type": "markdown",
   "metadata": {},
   "source": [
    "#### 3. Make a list of each Boolean operator&#39;s truth tables (i.e. every possible combination of Boolean values for the operator and what it evaluate) ?\n",
    "**Ans:** The Truth tables for the boolean tables are as follows:  \n",
    "* **Truth Table for `and` operaotor**  \n",
    "    True and True is True   \n",
    "    True and False is False  \n",
    "    False and True is False  \n",
    "    False and False is False\n",
    "    \n",
    "    \n",
    "* **Truth Table for `or` operaotor**  \n",
    "    True and True is True   \n",
    "    True and False is True  \n",
    "    False and True is True  \n",
    "    False and False is False\n",
    "    \n",
    "    \n",
    "* **Truth Table for `not` operaotor**        \n",
    "    True not is False   \n",
    "    False not is True"
   ]
  },
  {
   "cell_type": "markdown",
   "metadata": {},
   "source": [
    "#### 4. What are the values of the following expressions ?\n",
    "* (5 &gt; 4) and (3 == 5)  \n",
    "* not (5 &gt; 4)  \n",
    "* (5 &gt; 4) or (3 == 5)  \n",
    "* not ((5 &gt; 4) or (3 == 5))  \n",
    "* (True and True) and (True == False)  \n",
    "* (not False) or (not True)  "
   ]
  },
  {
   "cell_type": "markdown",
   "metadata": {},
   "source": [
    "#### 5. What are the six comparison operators?\n",
    "**Ans:**  The Six comparision operators available in python are:  \n",
    "`==` , `!=` , `<` , `>` , `<=` , `=>`"
   ]
  },
  {
   "cell_type": "markdown",
   "metadata": {},
   "source": [
    "#### 6. How do you tell the difference between the equal to and assignment operators?Describe a condition and when you would use one ? \n",
    "**Ans:** `==` is the equal to operator that compares two values and evaluates to a Boolean, while `=` is that assignment operator that stores a value in a variable.\n"
   ]
  },
  {
   "cell_type": "code",
   "execution_count": 1,
   "metadata": {},
   "outputs": [
    {
     "name": "stdout",
     "output_type": "stream",
     "text": [
      "True\n"
     ]
    }
   ],
   "source": [
    "a=3 # Assigning operator that assign value `3` to variable `a`\n",
    "if a==3: #comparing values of a varible and 3\n",
    "    print(a==3)  "
   ]
  },
  {
   "cell_type": "markdown",
   "metadata": {},
   "source": [
    "#### 7. Identify the three blocks in this code:\n",
    "spam = 0  \n",
    "if spam == 10:  \n",
    "print('eggs')  \n",
    "if spam > 5:  \n",
    "print('bacon')  \n",
    "else:  \n",
    "print('ham')  \n",
    "print('spam')  \n",
    "print('spam')\n",
    "\n",
    "**Ans**: In Python, code block refers to a collection of code that is in the same block or indent. This is most commonly found in classes, functions, and loops."
   ]
  },
  {
   "cell_type": "code",
   "execution_count": 2,
   "metadata": {},
   "outputs": [
    {
     "name": "stdout",
     "output_type": "stream",
     "text": [
      "ham\n",
      "spam\n",
      "spam\n"
     ]
    }
   ],
   "source": [
    "spam = 0  \n",
    "\n",
    "if spam == 10:  \n",
    "    print('eggs')  # block #1\n",
    "if spam > 5:  \n",
    "    print('bacon')  # block #2\n",
    "else:  \n",
    "    print('ham')  # block #3\n",
    "print('spam')  \n",
    "print('spam')"
   ]
  },
  {
   "cell_type": "markdown",
   "metadata": {},
   "source": [
    "#### 8. Write code that prints Hello if 1 is stored in spam, prints Howdy if 2 is stored in spam, and prints Greetings! if anything else is stored in spam.\n"
   ]
  },
  {
   "cell_type": "code",
   "execution_count": 3,
   "metadata": {},
   "outputs": [
    {
     "name": "stdout",
     "output_type": "stream",
     "text": [
      "Hello\n",
      "Howdy\n",
      "Greetings\n"
     ]
    }
   ],
   "source": [
    "def spamCode(spam):\n",
    "    if spam==1:\n",
    "        print('Hello')\n",
    "    elif spam==2:\n",
    "        print('Howdy')\n",
    "    else:\n",
    "        print('Greetings')\n",
    "        \n",
    "spamCode(1) \n",
    "spamCode(2)\n",
    "spamCode(3)"
   ]
  },
  {
   "attachments": {},
   "cell_type": "markdown",
   "metadata": {},
   "source": [
    "#### 9.If your programme is stuck in an endless loop, what keys you’ll press?\n",
    "**Ans:** Press `Ctrl-c` into the terminal to stop a program stuck in an infinite loop"
   ]
  },
  {
   "cell_type": "markdown",
   "metadata": {},
   "source": [
    "#### 10. How can you tell the difference between break and continue?\n",
    "**Ans:** The `break` statement will move the execution outside the loop if break condtion is satisfied. Whereas the `continue` statement will move the execution to the start of the loop."
   ]
  },
  {
   "attachments": {},
   "cell_type": "markdown",
   "metadata": {},
   "source": [
    "#### 11. In a for loop, what is the difference between range(10), range(0, 10), and range(0, 10, 1)?\n",
    "**Ans:** The Differences are as follows:  \n",
    "1. The _**range(10)**_ call range from 0 to 9 (but not include 10)  \n",
    "2. The _**range (0,10)**_ explicitly tells the loop to start at 0  \n",
    "3. The _**range(0,10,1)**_ the 3rd parameter in the range function tells the step count(eg. how much step needs to be taken when iterating)"
   ]
  },
  {
   "attachments": {},
   "cell_type": "markdown",
   "metadata": {
    "tags": []
   },
   "source": [
    "Example for the `range(0, 10, 1)`"
   ]
  },
  {
   "cell_type": "code",
   "execution_count": 4,
   "metadata": {},
   "outputs": [
    {
     "name": "stdout",
     "output_type": "stream",
     "text": [
      "Step = 1\n",
      "0 1 2 3 4 5 6 7 8 9 \n",
      "Step = 2\n",
      "0 2 4 6 8 "
     ]
    }
   ],
   "source": [
    "# When step = 1\n",
    "print('Step = 1')\n",
    "for i in range(0, 10, 1):\n",
    "    print(i, end=' ')\n",
    "\n",
    "# When step = 2\n",
    "print('\\nStep = 2')\n",
    "for i in range(0, 10, 2):\n",
    "    print(i, end=' ')"
   ]
  },
  {
   "cell_type": "markdown",
   "metadata": {},
   "source": [
    "#### 12. Write a short program that prints the numbers 1 to 10 using a for loop. Then write an equivalent program that prints the numbers 1 to 10 using a while loop ? "
   ]
  },
  {
   "cell_type": "code",
   "execution_count": 5,
   "metadata": {},
   "outputs": [
    {
     "name": "stdout",
     "output_type": "stream",
     "text": [
      "***** For Loop *****\n",
      "1 2 3 4 5 6 7 8 9 10 \n",
      "\n",
      "**** While Loop ****\n",
      "1 2 3 4 5 6 7 8 9 10 "
     ]
    }
   ],
   "source": [
    "print('*'*5, 'For Loop', '*'*5)\n",
    "for i in range(0,10):\n",
    "    print(i+1, end=\" \")\n",
    "print('\\n')\n",
    "\n",
    "print('*'*4, 'While Loop', '*'*4) \n",
    "i=1\n",
    "while i<=10:\n",
    "    print(i, end=\" \")\n",
    "    i+=1"
   ]
  },
  {
   "attachments": {},
   "cell_type": "markdown",
   "metadata": {},
   "source": [
    "#### 13. If you had a function named bacon() inside a module named spam, how would you call it after importing spam ?\n",
    "**Ans:** This function can be called with `spam.bacon()`   \n",
    "`import spam`   \n",
    "`spam.bacon()`"
   ]
  }
 ],
 "metadata": {
  "kernelspec": {
   "display_name": "base",
   "language": "python",
   "name": "python3"
  },
  "language_info": {
   "codemirror_mode": {
    "name": "ipython",
    "version": 3
   },
   "file_extension": ".py",
   "mimetype": "text/x-python",
   "name": "python",
   "nbconvert_exporter": "python",
   "pygments_lexer": "ipython3",
   "version": "3.9.13"
  },
  "vscode": {
   "interpreter": {
    "hash": "5dfac0ef1fa103b81b90d3646e547e553859aea22b3cdf92a2eeece14de3824c"
   }
  }
 },
 "nbformat": 4,
 "nbformat_minor": 4
}

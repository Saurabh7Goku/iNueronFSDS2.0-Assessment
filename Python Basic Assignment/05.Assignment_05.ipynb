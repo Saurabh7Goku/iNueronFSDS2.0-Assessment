{
 "cells": [
  {
   "cell_type": "markdown",
   "metadata": {},
   "source": [
    "# Assignment 5 Solutions"
   ]
  },
  {
   "cell_type": "markdown",
   "metadata": {},
   "source": [
    "#### 1.What does an empty dictionary's code look like?\n",
    "**Ans:** An empty dictionary is often represented by two empty curly brackets  \n",
    "`d = {}` or `d = dict()`"
   ]
  },
  {
   "cell_type": "markdown",
   "metadata": {},
   "source": [
    "#### 2.what is the value of dictionary value with key 'foo' and the value 42 ?\n",
    "**Ans:** `{'foo':42}`"
   ]
  },
  {
   "cell_type": "markdown",
   "metadata": {},
   "source": [
    "#### 3.What is the most significant distinction between a dictionary and a list?\n",
    "**Ans:** Dictionaries are represented by `{}` where as listed are represented by `[]`  \n",
    " The Items stored in a dictionary are Unordered , while the items in a list are ordered"
   ]
  },
  {
   "cell_type": "markdown",
   "metadata": {},
   "source": [
    "#### 4.What happens if you try to access spam ['foo'] if spam is {'bar':100} ?\n",
    "**Ans:** we will get a keyError `KeyError: 'foo'`"
   ]
  },
  {
   "cell_type": "markdown",
   "metadata": {},
   "source": [
    "#### 5.if a dictionary is stored in spam,what is the difference between the expressions 'cat' in spam and 'cat' in spam.keys() ?\n",
    "**Ans:** There is no difference . The operator checks whether a value exits as a key in the dictionary or not"
   ]
  },
  {
   "cell_type": "markdown",
   "metadata": {},
   "source": [
    "#### 6.if a dictionary is stored in spam,what is the difference between the expressions 'cat' in spam and 'cat' in spam.values() ?\n",
    "**Ans:**'cat' in spam checks whether there is a 'cat' key in the dictionary, while 'cat' in spam.values() checks whether there is a value 'cat' for one of the keys in spam."
   ]
  },
  {
   "cell_type": "markdown",
   "metadata": {},
   "source": [
    "#### 7.what is a shortcut for the following code ?\n",
    "`if 'color' not in spam:\n",
    "    spam['color'] ='black'`\n",
    "    \n",
    "**Ans:** `spam.setdefault('color','black')`"
   ]
  },
  {
   "attachments": {},
   "cell_type": "markdown",
   "metadata": {},
   "source": [
    "#### 8.How do you 'pretty print' dictionary values using which modules and function ?\n",
    "**Ans:** we can pretty print a dictionary using three functions    \n",
    "1. by using pprint() function of pprint module    \n",
    "   ---> Python comes with a built-in librart called pprint, which stands for pretty-print. Using this library, we can print out more nicely formatted data structures, including dictionaries...\n",
    "\n",
    "2. Pretty-Print using Json\n",
    "   ---> Built into the `json` library is a function called `.dumps()`, which dumps a string object.    \n",
    "   `Parameters` :     \n",
    "            sort_keys -> which sorts a dictionary's keys and defaults to False.    \n",
    "            indent -> which lets Python know how many spaces to indent levels by.\n",
    "\n",
    "3. Pretty-print using Yaml "
   ]
  },
  {
   "cell_type": "code",
   "execution_count": 13,
   "metadata": {},
   "outputs": [
    {
     "name": "stdout",
     "output_type": "stream",
     "text": [
      "{'Gohan': {'age': 21,\n",
      "           'gender': 'male',\n",
      "           'powers': {'Intelligence', 'Scholar', 'Unimaginable Power'}},\n",
      " 'Goku': {'age': 40,\n",
      "          'gender': 'male',\n",
      "          'powers': {'Figting Spirit', 'Unimaginable Power', 'Godly Powers'}}}\n"
     ]
    }
   ],
   "source": [
    "import pprint\n",
    "sample_dict={'Goku':{'age': 40, 'gender':'male', 'powers':{'Unimaginable Power', 'Godly Powers', 'Figting Spirit'}},\n",
    "            'Gohan':{'age': 21, 'gender':'male', 'powers':{'Scholar', 'Intelligence', 'Unimaginable Power'}}\n",
    "            }\n",
    "pprint.pprint(sample_dict)"
   ]
  },
  {
   "cell_type": "code",
   "execution_count": 9,
   "metadata": {},
   "outputs": [
    {
     "name": "stdout",
     "output_type": "stream",
     "text": [
      "{\n",
      "    \"Goku\": {\n",
      "        \"age\": 40,\n",
      "        \"gender\": \"male\",\n",
      "        \"powers\": [\n",
      "            \"Unimaginable Power\",\n",
      "            \"Godly Powers\",\n",
      "            \"Figting Spirit\"\n",
      "        ]\n",
      "    },\n",
      "    \"Gohan\": {\n",
      "        \"age\": 21,\n",
      "        \"gender\": \"male\",\n",
      "        \"powers\": [\n",
      "            \"Scholar\",\n",
      "            \"Intelligence\",\n",
      "            \"Unimaginable Power\"\n",
      "        ]\n",
      "    }\n",
      "}\n"
     ]
    }
   ],
   "source": [
    "# 2 Method\n",
    "import json\n",
    "sample_dict = {'Goku':{'age': 40, 'gender':'male', 'powers':['Unimaginable Power', 'Godly Powers', 'Figting Spirit']},\n",
    "               'Gohan':{'age': 21, 'gender':'male', 'powers':['Scholar', 'Intelligence', 'Unimaginable Power']}\n",
    "}\n",
    "pretty = json.dumps(sample_dict, indent=4)\n",
    "print(pretty)"
   ]
  },
  {
   "cell_type": "code",
   "execution_count": 15,
   "metadata": {},
   "outputs": [
    {
     "name": "stdout",
     "output_type": "stream",
     "text": [
      "Gohan:\n",
      "  age: 21\n",
      "  gender: male\n",
      "  powers:\n",
      "  - Scholar\n",
      "  - Intelligence\n",
      "  - Unimaginable Power\n",
      "Goku:\n",
      "  age: 40\n",
      "  gender: male\n",
      "  powers:\n",
      "  - Unimaginable Power\n",
      "  - Godly Powers\n",
      "  - Figting Spirit\n",
      "\n"
     ]
    }
   ],
   "source": [
    "import yaml\n",
    "sample_dict = {'Goku':{'age': 40, 'gender':'male', 'powers':['Unimaginable Power', 'Godly Powers', 'Figting Spirit']},\n",
    "               'Gohan':{'age': 21, 'gender':'male', 'powers':['Scholar', 'Intelligence', 'Unimaginable Power']}\n",
    "}\n",
    "\n",
    "pretty = yaml.dump(sample_dict)\n",
    "print(pretty)"
   ]
  }
 ],
 "metadata": {
  "kernelspec": {
   "display_name": "base",
   "language": "python",
   "name": "python3"
  },
  "language_info": {
   "codemirror_mode": {
    "name": "ipython",
    "version": 3
   },
   "file_extension": ".py",
   "mimetype": "text/x-python",
   "name": "python",
   "nbconvert_exporter": "python",
   "pygments_lexer": "ipython3",
   "version": "3.9.13"
  },
  "vscode": {
   "interpreter": {
    "hash": "5dfac0ef1fa103b81b90d3646e547e553859aea22b3cdf92a2eeece14de3824c"
   }
  }
 },
 "nbformat": 4,
 "nbformat_minor": 4
}

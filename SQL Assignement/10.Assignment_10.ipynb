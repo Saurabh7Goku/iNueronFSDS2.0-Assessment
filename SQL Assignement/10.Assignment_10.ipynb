{
 "cells": [
  {
   "cell_type": "markdown",
   "id": "6a14539e",
   "metadata": {},
   "source": [
    "## Assignment 10 Solutions"
   ]
  },
  {
   "attachments": {},
   "cell_type": "markdown",
   "id": "8093a61f",
   "metadata": {},
   "source": [
    "#### Q-19. Write an SQL query to determine the 5th highest salary without using TOP or limit method.\n",
    "\n",
    "**Ans:** `SELECT * FROM (SELECT ROW_NUMBER() OVER (ORDER BY salary DESC) AS row_number, first_name, salary FROM employee) as HEllO WHERE row_number=5;`"
   ]
  },
  {
   "attachments": {},
   "cell_type": "markdown",
   "id": "5e9a4eb0",
   "metadata": {},
   "source": [
    "#### Q-20. Write an SQL query to fetch the list of employees with the same salary.\n",
    "\n",
    "**Ans:** `SELECT * FROM employee ORDER BY salary ASC;`"
   ]
  }
 ],
 "metadata": {
  "kernelspec": {
   "display_name": "Python 3",
   "language": "python",
   "name": "python3"
  },
  "language_info": {
   "codemirror_mode": {
    "name": "ipython",
    "version": 3
   },
   "file_extension": ".py",
   "mimetype": "text/x-python",
   "name": "python",
   "nbconvert_exporter": "python",
   "pygments_lexer": "ipython3",
   "version": "3.11.1 (tags/v3.11.1:a7a450f, Dec  6 2022, 19:58:39) [MSC v.1934 64 bit (AMD64)]"
  },
  "vscode": {
   "interpreter": {
    "hash": "380ab1a26af97fc7bd1567589682167fb08aa7848335f099aad44bb481bb2873"
   }
  }
 },
 "nbformat": 4,
 "nbformat_minor": 5
}

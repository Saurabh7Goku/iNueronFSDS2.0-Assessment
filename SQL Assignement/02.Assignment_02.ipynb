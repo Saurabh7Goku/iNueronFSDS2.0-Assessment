{
 "cells": [
  {
   "cell_type": "markdown",
   "id": "b9257a1c",
   "metadata": {},
   "source": [
    "# Assignment 02 Solutions"
   ]
  },
  {
   "cell_type": "markdown",
   "id": "a3875a8c",
   "metadata": {},
   "source": [
    "#### Q-1. Write an SQL query to print the first three characters of  FIRST_NAME from Worker table.\n",
    "**Ans:** `SELECT SUBSTRING(FIRST_NAME,1,3) FROM Worker;`"
   ]
  },
  {
   "attachments": {},
   "cell_type": "markdown",
   "id": "e2629aa5",
   "metadata": {},
   "source": [
    "####  Q-2. Write an SQL query to find the position of the alphabet (‘a’) in the first name column ‘Amitabh’ from Worker table.\n",
    "\n",
    "**Ans:** \n",
    "\n",
    "#### Method 1 : `SELECT POSITION('a' IN FIRST_NAME) FROM Worker WHERE FIRST_NAME = 'Amitabh'`\n",
    "\n",
    "#### Method 2 : `SELECT LOCATE('a',FIRST_NAME) FROM Worker WHERE FIRST_NAME = 'Amitabh'`\n"
   ]
  },
  {
   "attachments": {},
   "cell_type": "markdown",
   "id": "9fb8fdcc",
   "metadata": {},
   "source": [
    "#### Q-3. Write an SQL query to print the name of employees having the highest salary in each department.\n",
    "**Ans:** `SELECT first_name, last_name, salary, department`\n",
    "\n",
    "                FROM Worker w WHERE salary = (SELECT MAX(salary) FROM Worker    \n",
    "\n",
    "            WHERE department = w.department)"
   ]
  }
 ],
 "metadata": {
  "kernelspec": {
   "display_name": "Python 3",
   "language": "python",
   "name": "python3"
  },
  "language_info": {
   "codemirror_mode": {
    "name": "ipython",
    "version": 3
   },
   "file_extension": ".py",
   "mimetype": "text/x-python",
   "name": "python",
   "nbconvert_exporter": "python",
   "pygments_lexer": "ipython3",
   "version": "3.11.1 (tags/v3.11.1:a7a450f, Dec  6 2022, 19:58:39) [MSC v.1934 64 bit (AMD64)]"
  },
  "vscode": {
   "interpreter": {
    "hash": "380ab1a26af97fc7bd1567589682167fb08aa7848335f099aad44bb481bb2873"
   }
  }
 },
 "nbformat": 4,
 "nbformat_minor": 5
}

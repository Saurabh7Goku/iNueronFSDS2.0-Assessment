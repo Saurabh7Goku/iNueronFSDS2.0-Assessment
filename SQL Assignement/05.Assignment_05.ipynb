{
 "cells": [
  {
   "cell_type": "markdown",
   "id": "49402d52",
   "metadata": {},
   "source": [
    "# Assignment 05 Solutions"
   ]
  },
  {
   "cell_type": "markdown",
   "id": "7775fcfe",
   "metadata": {},
   "source": [
    "#### Q-1. Write an SQL query to print details of workers excluding first names, “Vipul” and “Satish” from Worker table.\n",
    "**Ans:** `SELECT * FROM Worker WHERE FIRST_NAME NOT IN ('Vipul','Satish');`"
   ]
  },
  {
   "cell_type": "markdown",
   "id": "996ff747",
   "metadata": {},
   "source": [
    "#### Q-2. Write an SQL query to print details of the Workers whose FIRST_NAME ends with ‘h’ and contains six alphabets.\n",
    "**Ans:** `SELECT * FROM Worker WHERE FIRST_NAME LIKE '______h';`"
   ]
  },
  {
   "attachments": {},
   "cell_type": "markdown",
   "id": "db310028",
   "metadata": {},
   "source": [
    "#### Q-3. Write a query to validate Email of Employee.\n",
    "**Ans:** \n",
    "\n",
    "**Method 1** : `SELECT * FROM Worker WHERE email LIKE \"%@gmail.com\"`\n",
    "\n",
    "**Method 2** : `SELECT * FROM Worker WHERE email LIKE \"_%@_%._%\"`"
   ]
  }
 ],
 "metadata": {
  "kernelspec": {
   "display_name": "Python 3",
   "language": "python",
   "name": "python3"
  },
  "language_info": {
   "codemirror_mode": {
    "name": "ipython",
    "version": 3
   },
   "file_extension": ".py",
   "mimetype": "text/x-python",
   "name": "python",
   "nbconvert_exporter": "python",
   "pygments_lexer": "ipython3",
   "version": "3.11.1 (tags/v3.11.1:a7a450f, Dec  6 2022, 19:58:39) [MSC v.1934 64 bit (AMD64)]"
  },
  "vscode": {
   "interpreter": {
    "hash": "380ab1a26af97fc7bd1567589682167fb08aa7848335f099aad44bb481bb2873"
   }
  }
 },
 "nbformat": 4,
 "nbformat_minor": 5
}

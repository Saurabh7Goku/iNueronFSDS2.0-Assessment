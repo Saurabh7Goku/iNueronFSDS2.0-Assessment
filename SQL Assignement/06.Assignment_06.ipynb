{
 "cells": [
  {
   "cell_type": "markdown",
   "id": "7e671f89",
   "metadata": {},
   "source": [
    "# Assignment 06 Solutions"
   ]
  },
  {
   "attachments": {},
   "cell_type": "markdown",
   "id": "4220c684",
   "metadata": {},
   "source": [
    "#### Q-1. Write an SQL query to print details of the Workers who have joined in Feb’2014.\n",
    "\n",
    "**Ans:**\n",
    "\n",
    "**Method 1** : `SELECT * FROM Worker WHERE YEAR(JOINING_DATE) = 2014 AND MONTH(JOINING_DATE) = 02;`\n",
    "\n",
    "**Method 2** : `SELECT * FROM Worker WHERE JOINING_DATE LIKE \"%2014-02%\";`\n"
   ]
  },
  {
   "cell_type": "markdown",
   "id": "1fcda126",
   "metadata": {},
   "source": [
    "#### Q-2. Write an SQL query to fetch duplicate records having matching data in some fields of a table.\n",
    "**Ans:** `SELECT column_name, COUNT(column_name) FROM Worker GROUP BY FEILD HAVING COUNT(column_name) > 1;`"
   ]
  },
  {
   "attachments": {},
   "cell_type": "markdown",
   "id": "c6a36e24",
   "metadata": {},
   "source": [
    "#### Q-3. How to remove duplicate rows from Employees table.\n",
    "\n",
    "## Database\n",
    "CREATE TABLE dates (    \n",
    "id INT PRIMARY KEY AUTO_INCREMENT,     \n",
    "day VARCHAR(2) NOT NULL,     \n",
    "month VARCHAR(10) NOT NULL,    \n",
    "year VARCHAR(4) NOT NULL    \n",
    "\n",
    ");    \n",
    "     \n",
    "INSERT INTO dates (day,month,year)     \n",
    "VALUES (’29’,’January’,’2011’),      \n",
    "(’30’,’January’,’2011’),     \n",
    "(’30’,’January’,’2011’),    \n",
    "(’14’,’February,’2017’),    \n",
    "(’14’,’February,’2018’),    \n",
    "(‘23’,’March’,’2018’),    \n",
    "(‘23’,’March’,’2018’),    \n",
    "(‘23’,’March’,’2019’),    \n",
    "(‘29’,’October’,’2019’),    \n",
    "(‘29’,’November’,’2019’),    \n",
    "(‘12’,’November’,’2017’),    \n",
    "(‘17’,’August’,’2018’),    \n",
    "(‘05’,’June’,’2016’);    \n",
    "\n",
    "\n",
    "**Ans:**\n",
    "\n",
    "**Method 1** :      \n",
    "                \n",
    "                delete t1 FROM dates t1     \n",
    "                \n",
    "                    INNER  JOIN dates t2     \n",
    "                \n",
    "                WHERE     \n",
    "                \n",
    "                    t1.id < t2.id AND     \n",
    "                \n",
    "                    t1.day = t2.day AND     \n",
    "                \n",
    "                    t1.month = t2.month AND    \n",
    "                \n",
    "                    t1.year = t2.year;    \n",
    "\n",
    "**Method 2**:     \n",
    "\n",
    "                SELECT *. ROW_NUMBER () Over (PARTITION BY id ORDER BY id) as row_number;     \n",
    "\n",
    "                DELETE FROM dates WHERE row_number > 1;    "
   ]
  },
  {
   "cell_type": "markdown",
   "id": "4285bb76",
   "metadata": {},
   "source": []
  }
 ],
 "metadata": {
  "kernelspec": {
   "display_name": "Python 3",
   "language": "python",
   "name": "python3"
  },
  "language_info": {
   "codemirror_mode": {
    "name": "ipython",
    "version": 3
   },
   "file_extension": ".py",
   "mimetype": "text/x-python",
   "name": "python",
   "nbconvert_exporter": "python",
   "pygments_lexer": "ipython3",
   "version": "3.11.1"
  },
  "vscode": {
   "interpreter": {
    "hash": "380ab1a26af97fc7bd1567589682167fb08aa7848335f099aad44bb481bb2873"
   }
  }
 },
 "nbformat": 4,
 "nbformat_minor": 5
}

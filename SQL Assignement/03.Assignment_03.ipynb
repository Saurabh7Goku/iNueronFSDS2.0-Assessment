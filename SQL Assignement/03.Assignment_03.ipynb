{
 "cells": [
  {
   "cell_type": "markdown",
   "id": "2a36f5fc",
   "metadata": {},
   "source": [
    "# Assignment 03 Solutions"
   ]
  },
  {
   "attachments": {},
   "cell_type": "markdown",
   "id": "67515c17",
   "metadata": {},
   "source": [
    "#### Q-1. Write an SQL query to print the FIRST_NAME from Worker table after removing white spaces from the right side.\n",
    "**Ans:** We will use TRIM for the removal of the white spaces hence, the problem required only to remove white spaces from right we use -- `RTRIM` \n",
    "\n",
    "`SELECT RTRIM(FIRST_NAME) FROM Worker;`"
   ]
  },
  {
   "cell_type": "markdown",
   "id": "a219b018",
   "metadata": {},
   "source": [
    "#### Q-2. Write an SQL query that fetches the unique values of DEPARTMENT from Worker table and prints its length.\n",
    "**Ans:** `SELECT DISTINCT(DEPARTMENT),LEN(DEPARTMENT) FROM Worker;`"
   ]
  },
  {
   "cell_type": "markdown",
   "id": "75745903",
   "metadata": {},
   "source": [
    "#### Q-3. Write an SQL query to fetch nth max salaries from a table.\n",
    "**Ans:** `SELECT DISTINCT(Salary) FROM Worker ORDER BY Salary DESC LIMIT 1 OFFSET n;`"
   ]
  }
 ],
 "metadata": {
  "kernelspec": {
   "display_name": "Python 3",
   "language": "python",
   "name": "python3"
  },
  "language_info": {
   "codemirror_mode": {
    "name": "ipython",
    "version": 3
   },
   "file_extension": ".py",
   "mimetype": "text/x-python",
   "name": "python",
   "nbconvert_exporter": "python",
   "pygments_lexer": "ipython3",
   "version": "3.11.1 (tags/v3.11.1:a7a450f, Dec  6 2022, 19:58:39) [MSC v.1934 64 bit (AMD64)]"
  },
  "vscode": {
   "interpreter": {
    "hash": "380ab1a26af97fc7bd1567589682167fb08aa7848335f099aad44bb481bb2873"
   }
  }
 },
 "nbformat": 4,
 "nbformat_minor": 5
}

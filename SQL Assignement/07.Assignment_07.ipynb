{
 "cells": [
  {
   "cell_type": "markdown",
   "id": "4b2b3d88",
   "metadata": {},
   "source": [
    "# Assignment 07 Solutions"
   ]
  },
  {
   "cell_type": "markdown",
   "id": "982750fa",
   "metadata": {},
   "source": [
    "#### Q-13. Write an SQL query to show only odd rows from a table.\n",
    "**Ans:** `SELECT * FROM Worker Where MOD(worker_id,2) = 1`"
   ]
  },
  {
   "attachments": {},
   "cell_type": "markdown",
   "id": "59ae0ae8",
   "metadata": {},
   "source": [
    "#### Q-14. Write an SQL query to clone a new table from another table.\n",
    "\n",
    "\n",
    "## Original Database\n",
    "CREATE TABLE dates (    \n",
    "id INT PRIMARY KEY AUTO_INCREMENT,     \n",
    "day VARCHAR(2) NOT NULL,     \n",
    "month VARCHAR(10) NOT NULL,    \n",
    "year VARCHAR(4) NOT NULL    \n",
    "\n",
    ");    \n",
    "     \n",
    "INSERT INTO dates (day,month,year)     \n",
    "VALUES (’29’,’January’,’2011’),      \n",
    "(’30’,’January’,’2011’),     \n",
    "(’30’,’January’,’2011’),    \n",
    "(’14’,’February,’2017’),    \n",
    "(’14’,’February,’2018’),    \n",
    "(‘23’,’March’,’2018’),    \n",
    "(‘23’,’March’,’2018’),    \n",
    "(‘23’,’March’,’2019’),    \n",
    "(‘29’,’October’,’2019’),    \n",
    "(‘29’,’November’,’2019’),    \n",
    "(‘12’,’November’,’2017’),    \n",
    "(‘17’,’August’,’2018’),    \n",
    "(‘05’,’June’,’2016’);\n",
    "\n",
    "\n",
    "### Clone data of a table to another table\n",
    "`INSERT INTO Clonedates SELECT * FROM dates;`"
   ]
  }
 ],
 "metadata": {
  "kernelspec": {
   "display_name": "Python 3",
   "language": "python",
   "name": "python3"
  },
  "language_info": {
   "codemirror_mode": {
    "name": "ipython",
    "version": 3
   },
   "file_extension": ".py",
   "mimetype": "text/x-python",
   "name": "python",
   "nbconvert_exporter": "python",
   "pygments_lexer": "ipython3",
   "version": "3.11.1 (tags/v3.11.1:a7a450f, Dec  6 2022, 19:58:39) [MSC v.1934 64 bit (AMD64)]"
  },
  "vscode": {
   "interpreter": {
    "hash": "380ab1a26af97fc7bd1567589682167fb08aa7848335f099aad44bb481bb2873"
   }
  }
 },
 "nbformat": 4,
 "nbformat_minor": 5
}
